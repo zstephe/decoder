{
 "cells": [
  {
   "cell_type": "markdown",
   "metadata": {},
   "source": [
    "# Detecting the language of a text\n",
    "\n",
    "In this notebook I demonstrate how the frequency tables for each language can be used to determine which language is being spoken."
   ]
  },
  {
   "cell_type": "code",
   "execution_count": 4,
   "metadata": {},
   "outputs": [],
   "source": [
    "from utils import *"
   ]
  },
  {
   "cell_type": "code",
   "execution_count": 5,
   "metadata": {},
   "outputs": [],
   "source": [
    "german_letters = make_letters('../data/german_text.txt')\n",
    "german_letter_count = count_letters(german_letters)\n",
    "german_letter_percent = normalize_counts_no_spaces(german_letter_count)\n",
    "german_pair_counts = count_letter_pairs(german_letters)\n",
    "german_matrix = compute_transition_matrix(german_pair_counts, 0.5)\n",
    "english_letters = make_letters('../data/bible.txt')\n",
    "english_letter_count = count_letters(english_letters)\n",
    "english_letter_percent = normalize_counts_no_spaces(english_letter_count)\n",
    "english_pair_counts = count_letter_pairs(english_letters)\n",
    "english_matrix = compute_transition_matrix(english_pair_counts, 0.5)\n"
   ]
  },
  {
   "cell_type": "code",
   "execution_count": 6,
   "metadata": {},
   "outputs": [
    {
     "name": "stdout",
     "output_type": "stream",
     "text": [
      "'hallo wie gehts du' is most likely German\n",
      "'hello how are you' is most likely English\n"
     ]
    }
   ],
   "source": [
    "text = 'hallo wie gehts du'\n",
    "language = (find_language(text, german_letter_percent, german_matrix,\\\n",
    "                    english_letter_percent, english_matrix))\n",
    "print('\\'' + text + '\\'' + ' is most likely ' + language)\n",
    "\n",
    "text = 'hello how are you'\n",
    "language = (find_language(text, german_letter_percent, german_matrix,\\\n",
    "                    english_letter_percent, english_matrix))\n",
    "print('\\'' + text + '\\'' + ' is most likely ' + language)"
   ]
  },
  {
   "cell_type": "markdown",
   "metadata": {},
   "source": [
    "By obtaining the frequency of the letters and letter pairs, we can determine which language is most likely using the `find_pair_log_likelihood` function. Whichever has a higher likelihood is returned as the most likely language."
   ]
  },
  {
   "cell_type": "code",
   "execution_count": null,
   "metadata": {},
   "outputs": [],
   "source": []
  }
 ],
 "metadata": {
  "kernelspec": {
   "display_name": "Python 3",
   "language": "python",
   "name": "python3"
  },
  "language_info": {
   "codemirror_mode": {
    "name": "ipython",
    "version": 3
   },
   "file_extension": ".py",
   "mimetype": "text/x-python",
   "name": "python",
   "nbconvert_exporter": "python",
   "pygments_lexer": "ipython3",
   "version": "3.7.6"
  }
 },
 "nbformat": 4,
 "nbformat_minor": 4
}
