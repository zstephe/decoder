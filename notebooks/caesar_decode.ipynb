{
 "cells": [
  {
   "cell_type": "markdown",
   "metadata": {},
   "source": [
    "# Decoding the Caesar cipher with likelihoods\n",
    "\n",
    "\n",
    "## Single letter frequencies\n",
    "When decoding a text, you can return the most likely key for a caesar cipher (shift cipher), as there are only 26 possibilities it is quick to look at all of them. Aristocrat ciphers (random substitution cipher) are harder because there are so many possibilities, but decoding based on single letter frequency is a good starting place."
   ]
  },
  {
   "cell_type": "code",
   "execution_count": 1,
   "metadata": {},
   "outputs": [],
   "source": [
    "from utils import *\n",
    "bible_letters = make_letters('../data/bible.txt')\n",
    "bible_letter_count = count_letters(bible_letters)\n",
    "bible_letter_percent = normalize_counts_no_spaces(bible_letter_count, 0.5)\n",
    "bible_pair_counts = count_letter_pairs(bible_letters)\n",
    "bible_matrix = compute_transition_matrix(bible_pair_counts, 0.5)"
   ]
  },
  {
   "cell_type": "code",
   "execution_count": 2,
   "metadata": {},
   "outputs": [
    {
     "name": "stdout",
     "output_type": "stream",
     "text": [
      "14: hello how are you today: -54.590803576239814\n",
      "25: wtaad wdl pgt ndj idspn: -62.25557692259439\n",
      "21: axeeh ahp tkx rhn mhwtr: -64.2887091643381\n",
      "10: lipps lsa evi csy xshec: -65.58838283212106\n",
      "07: olssv ovd hyl fvb avkhf: -66.82471295637038\n",
      "04: rovvy ryg kbo iye dynki: -68.06179296722199\n",
      "06: pmttw pwe izm gwc bwlig: -70.59607092888055\n",
      "23: yvccf yfn riv pfl kfurp: -72.00447375957069\n",
      "20: byffi biq uly sio nixus: -72.26343463063272\n",
      "01: uryyb ubj ner lbh gbqnl: -72.36354247410443\n",
      "11: khoor krz duh brx wrgdb: -72.5389979684537\n",
      "17: ebiil elt xob vlr qlaxv: -74.16870922129499\n",
      "00: vszzc vck ofs mci hcrom: -74.7165539625702\n",
      "08: nkrru nuc gxk eua zujge: -75.20262045904478\n",
      "18: dahhk dks wna ukq pkzwu: -75.81245156852515\n",
      "16: fcjjm fmu ypc wms rmbyw: -75.84690922930247\n",
      "09: mjqqt mtb fwj dtz ytifd: -79.99942397726669\n",
      "24: xubbe xem qhu oek jetqo: -80.09142702803763\n",
      "13: ifmmp ipx bsf zpv upebz: -80.90718063614096\n",
      "02: tqxxa tai mdq kag fapmk: -81.36177048612468\n",
      "03: spwwz szh lcp jzf ezolj: -83.13254751050145\n",
      "19: czggj cjr vmz tjp ojyvt: -85.41943011506531\n",
      "22: zwddg zgo sjw qgm lgvsq: -86.09743961844866\n",
      "15: gdkkn gnv zqd xnt snczx: -86.19803750969504\n",
      "12: jgnnq jqy ctg aqw vqfca: -89.38868746125986\n",
      "05: qnuux qxf jan hxd cxmjh: -93.24810645212526\n"
     ]
    }
   ],
   "source": [
    "ciphertext = encode_caesar_cipher('hello how are you today', 14)\n",
    "solutions = (ordered_solutions(ciphertext, bible_letter_percent, \\\n",
    "                                          bible_matrix, find_solution_brute))\n",
    "for solution in solutions:\n",
    "    print(solution)"
   ]
  },
  {
   "cell_type": "markdown",
   "metadata": {},
   "source": [
    "## Pair letter frequencies\n",
    "\n",
    "Single letter frequencies are a great starting place, especially for caesar ciphers with only 26 possible solutions, but letters in English are not independant which is partially addressed by looking at the pair frequencies. This method is more accurate than the single letter frequencies. As you can see, the gap between the most likely pair frequency solution and the second most likely is much larger than the gap between the first and second single letter frequency solutions."
   ]
  },
  {
   "cell_type": "code",
   "execution_count": 8,
   "metadata": {},
   "outputs": [
    {
     "name": "stdout",
     "output_type": "stream",
     "text": [
      "14: hello how are you today: -55.43912137746925\n",
      "20: byffi biq uly sio nixus: -88.83674757288385\n",
      "10: lipps lsa evi csy xshec: -93.65149873288952\n",
      "04: rovvy ryg kbo iye dynki: -100.16344143105046\n",
      "11: khoor krz duh brx wrgdb: -102.26263427475001\n",
      "25: wtaad wdl pgt ndj idspn: -103.35759019040786\n",
      "06: pmttw pwe izm gwc bwlig: -106.83924927521556\n",
      "00: vszzc vck ofs mci hcrom: -108.74677848432158\n",
      "21: axeeh ahp tkx rhn mhwtr: -108.91687193549512\n",
      "24: xubbe xem qhu oek jetqo: -112.45098890769391\n",
      "13: ifmmp ipx bsf zpv upebz: -113.28627415547322\n",
      "01: uryyb ubj ner lbh gbqnl: -116.60360370055872\n",
      "02: tqxxa tai mdq kag fapmk: -117.52689084107709\n",
      "23: yvccf yfn riv pfl kfurp: -120.15082733016793\n",
      "16: fcjjm fmu ypc wms rmbyw: -120.19259936419115\n",
      "08: nkrru nuc gxk eua zujge: -121.67366535594951\n",
      "07: olssv ovd hyl fvb avkhf: -123.17503984208868\n",
      "17: ebiil elt xob vlr qlaxv: -125.77922338419904\n",
      "18: dahhk dks wna ukq pkzwu: -127.33259040411828\n",
      "03: spwwz szh lcp jzf ezolj: -130.31222100120044\n",
      "09: mjqqt mtb fwj dtz ytifd: -133.2158659265806\n",
      "12: jgnnq jqy ctg aqw vqfca: -135.3343634549798\n",
      "22: zwddg zgo sjw qgm lgvsq: -135.63616911610586\n",
      "15: gdkkn gnv zqd xnt snczx: -135.6887647392521\n",
      "05: qnuux qxf jan hxd cxmjh: -141.56561653048533\n",
      "19: czggj cjr vmz tjp ojyvt: -162.5001528905647\n"
     ]
    }
   ],
   "source": [
    "ciphertext = encode_caesar_cipher('hello how are you today', 14)\n",
    "solutions = (ordered_solutions(ciphertext, bible_letter_percent, \\\n",
    "                                          bible_matrix, find_solution_brute_pairs))\n",
    "for solution in solutions:\n",
    "    print(solution)"
   ]
  },
  {
   "cell_type": "markdown",
   "metadata": {},
   "source": [
    "Different from the single letter frequencies, the pair frequency takes spaces into account, including the frequencies of which letter start and end words the most often. To demonstrate, call the function once with spaces in the text and once without. Notice that there is a difference between the returned likelihoods."
   ]
  },
  {
   "cell_type": "code",
   "execution_count": 9,
   "metadata": {},
   "outputs": [
    {
     "name": "stdout",
     "output_type": "stream",
     "text": [
      "14: hello how are you today: -55.43912137746925\n",
      "14: hellohowareyoutoday: -50.292602006560514\n"
     ]
    }
   ],
   "source": [
    "ciphertext = encode_caesar_cipher('hello how are you today', 14)\n",
    "solutions = (ordered_solutions(ciphertext, bible_letter_percent, \\\n",
    "                                          bible_matrix, find_solution_brute_pairs))\n",
    "print(solutions[0])\n",
    "\n",
    "ciphertext = encode_caesar_cipher('hellohowareyoutoday', 14)\n",
    "solutions = (ordered_solutions(ciphertext, bible_letter_percent, \\\n",
    "                                          bible_matrix, find_solution_brute_pairs))\n",
    "print(solutions[0])"
   ]
  },
  {
   "cell_type": "code",
   "execution_count": null,
   "metadata": {},
   "outputs": [],
   "source": []
  }
 ],
 "metadata": {
  "kernelspec": {
   "display_name": "Python 3",
   "language": "python",
   "name": "python3"
  },
  "language_info": {
   "codemirror_mode": {
    "name": "ipython",
    "version": 3
   },
   "file_extension": ".py",
   "mimetype": "text/x-python",
   "name": "python",
   "nbconvert_exporter": "python",
   "pygments_lexer": "ipython3",
   "version": "3.7.6"
  }
 },
 "nbformat": 4,
 "nbformat_minor": 4
}
