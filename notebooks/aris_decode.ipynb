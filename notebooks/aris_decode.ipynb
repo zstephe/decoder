{
 "cells": [
  {
   "cell_type": "markdown",
   "metadata": {},
   "source": [
    "# Decoding the aristocrat cipher\n",
    "\n",
    "Decoding aristocrat ciphers is tricky because there are so many possible answers. The first step I took was to write a function called `make_start_key` that matches the most common letter in the ciphertext with the most common letter in the provided english letter frquency table. It goes on down the list and matches each letter. This does not usually correctly decode the cipher, but it does provide a good starting place. The text I am encoding and decoding in these examples is the Emancipation Proclamation."
   ]
  },
  {
   "cell_type": "code",
   "execution_count": 1,
   "metadata": {},
   "outputs": [],
   "source": [
    "from utils import *"
   ]
  },
  {
   "cell_type": "code",
   "execution_count": 2,
   "metadata": {},
   "outputs": [],
   "source": [
    "eman_letters = make_letters('../data/Emancipation_Proclamation.txt')\n",
    "ciphertext = (encode_aris(eman_letters, make_rand_aris_key()))\n",
    "bible_letters = make_letters('../data/bible.txt')\n",
    "bible_letter_count = count_letters(bible_letters)\n",
    "bible_letter_percent = normalize_counts_no_spaces(bible_letter_count)\n",
    "bible_pair_counts = count_letter_pairs(bible_letters)\n",
    "bible_matrix = compute_transition_matrix(bible_pair_counts, 0.5)"
   ]
  },
  {
   "cell_type": "code",
   "execution_count": 4,
   "metadata": {},
   "outputs": [
    {
     "name": "stdout",
     "output_type": "stream",
     "text": [
      "[23, 0, 6, 14, 24, 15, 18, 17, 16, 21, 13, 25, 2, 20, 1, 12, 5, 4, 10, 19, 3, 8, 7, 11, 22, 9]\n",
      "khamhsw  h tshanusiytioabw tre ysenideat of tre maited nthten of hgesiuhh ysoulhghtioapresehn oa tre tpeatwneuoad dhw of neytegbes ia tre wehs of oms losd oae tromnhad eicrt rmadsed had nijtwtpo h yso\n"
     ]
    }
   ],
   "source": [
    "start_key = make_start_key(ciphertext, bible_letter_percent)\n",
    "print(start_key)\n",
    "print(''.join(decode_aris(ciphertext, start_key))[0:194])"
   ]
  },
  {
   "cell_type": "markdown",
   "metadata": {},
   "source": [
    "And here is what the actual text is. You can see that many of the more common letters have been decoded correctly: e, t, i, b, o, f, d, l."
   ]
  },
  {
   "cell_type": "code",
   "execution_count": 8,
   "metadata": {},
   "outputs": [
    {
     "name": "stdout",
     "output_type": "stream",
     "text": [
      "january  a transcriptionby the president of the united states of americaa proclamationwhereas on the twentysecond day of september in the year of our lord one thousand eight hundred and sixtytwo\n"
     ]
    }
   ],
   "source": [
    "print(''.join(eman_letters[0:194]))"
   ]
  },
  {
   "cell_type": "markdown",
   "metadata": {},
   "source": [
    "Then I take the 'plaintext' as decoded by the `start_key` and make changes to it. This program, `decode_aris_no_key`, is designed to search across keys to determine the most likely key for the text. It takes in the text, and two references: the frequency of letters, and the frequency of letter pairs. The function creates two random indices and checks if switching the key values at those indices increases or decreases the likelihood of the decoded text. If it increases the likelihood, the change is put in place. The program automatically does 3000 guess and checks, but this can easily be altered."
   ]
  },
  {
   "cell_type": "code",
   "execution_count": 10,
   "metadata": {},
   "outputs": [
    {
     "name": "stdout",
     "output_type": "stream",
     "text": [
      "Right:\n",
      "january  a transcriptionby the president of the united states of americaa proclamationwhereas on the twentysecond day of september in the year of our lord one thousand eight hundred and sixtytwo\n"
     ]
    }
   ],
   "source": [
    "decoded_text, count, log_likelihood = \\\n",
    "decode_aris_no_key(ciphertext, start_key, bible_letter_percent, bible_matrix)\n",
    "if (log_likelihood) == \\\n",
    "(find_pair_log_likelihood(eman_letters, bible_letter_percent, bible_matrix)):\n",
    "    print('Right:')\n",
    "else:\n",
    "    print('Wrong:')\n",
    "print(decoded_text[0:194])"
   ]
  },
  {
   "cell_type": "code",
   "execution_count": null,
   "metadata": {},
   "outputs": [],
   "source": []
  }
 ],
 "metadata": {
  "kernelspec": {
   "display_name": "Python 3",
   "language": "python",
   "name": "python3"
  },
  "language_info": {
   "codemirror_mode": {
    "name": "ipython",
    "version": 3
   },
   "file_extension": ".py",
   "mimetype": "text/x-python",
   "name": "python",
   "nbconvert_exporter": "python",
   "pygments_lexer": "ipython3",
   "version": "3.7.6"
  }
 },
 "nbformat": 4,
 "nbformat_minor": 4
}
