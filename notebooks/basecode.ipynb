{
 "cells": [
  {
   "cell_type": "code",
   "execution_count": 2,
   "metadata": {},
   "outputs": [
    {
     "name": "stdout",
     "output_type": "stream",
     "text": [
      "what did you say\n"
     ]
    }
   ],
   "source": [
    "text = \"WHAT DID YOU SAY\"\n",
    "text = text.lower()\n",
    "print(text)\n",
    "import random\n",
    "#from ipynb.fs.full.zoecode import *\n",
    "import re\n",
    "from math import log\n",
    "import numpy"
   ]
  },
  {
   "cell_type": "markdown",
   "metadata": {},
   "source": [
    "alpha_list is just a list of all the letters in the alphabet with a space included. This helps assign each letter an index and is used in many definitions."
   ]
  },
  {
   "cell_type": "code",
   "execution_count": 3,
   "metadata": {},
   "outputs": [],
   "source": [
    "alpha_list = ['a', 'b', 'c', 'd', 'e', 'f', 'g', 'h', 'i', 'j', 'k', 'l', 'm', 'n', 'o', \n",
    "             'p','q', 'r', 's', 't', 'u', 'v', 'w', 'x', 'y', 'z', ' ']"
   ]
  },
  {
   "cell_type": "markdown",
   "metadata": {},
   "source": [
    "The function text_to_num, takes a piece of text (a string of lowercase letters) and returns a list of the numerical values for each number, based on the indices in alpha_list. \n",
    "\n",
    "The function after that, num_to_text, reverses the effect, going from a series of numbers (ranged 0 - 26) to a string of lowercase letters returned as a list."
   ]
  },
  {
   "cell_type": "code",
   "execution_count": 4,
   "metadata": {},
   "outputs": [],
   "source": [
    "def text_to_num(text):\n",
    "    num_text = []\n",
    "    for letter in text:\n",
    "        num_text.append(alpha_list.index(letter))\n",
    "    return num_text"
   ]
  },
  {
   "cell_type": "code",
   "execution_count": 5,
   "metadata": {},
   "outputs": [],
   "source": [
    "def num_to_text(nums):\n",
    "    text_num = []\n",
    "    for num in nums:\n",
    "        text_num.append(alpha_list[num])\n",
    "    return text_num"
   ]
  },
  {
   "cell_type": "markdown",
   "metadata": {},
   "source": [
    "A caesar cipher is just a shift cipher.\n",
    "encode_caesar_cipher takes a piece of text and a key, and shifts each letter forwards by the key. For example, if the key was 3, an 'a' would become a 'd', a 'b' would become a 'e' , and so on. decode_caesar_cipher works much the same way, but instead of shifting the letters forwards, it shifts them backwards, effectively reversing the encoding of the cipher. This only works if you use the same key to encode and decode, however."
   ]
  },
  {
   "cell_type": "code",
   "execution_count": 6,
   "metadata": {},
   "outputs": [],
   "source": [
    "def encode_caesar_cipher(plaintext, key):\n",
    "    ciphertext = []\n",
    "    plaintext = text_to_num(plaintext)\n",
    "    for num in plaintext:\n",
    "        if num != 26:\n",
    "            num += key\n",
    "            num = num % 26\n",
    "        ciphertext.append(num)\n",
    "    ciphertext = num_to_text(ciphertext)\n",
    "    return ciphertext"
   ]
  },
  {
   "cell_type": "code",
   "execution_count": 7,
   "metadata": {},
   "outputs": [],
   "source": [
    "def decode_caesar_cipher(ciphertext, key):\n",
    "    plaintext = []\n",
    "    ciphertext = text_to_num(ciphertext)\n",
    "    for num in ciphertext:\n",
    "        if num != 26:\n",
    "            num -= key\n",
    "            num = num % 26\n",
    "        plaintext.append(num)\n",
    "    plaintext = num_to_text(plaintext)\n",
    "    return plaintext"
   ]
  },
  {
   "cell_type": "markdown",
   "metadata": {},
   "source": [
    "An aristocrat cipher is a random substitution cipher. Each letter in the alphabet encodes to another letter. In this code, I often abbreviate aristocrat to 'aris'.\n",
    "make_rand_aris_key generates a random 'key' to be used in encoding and decoding an aristocrat. The key is a list of numbers. The index of the number is the letter that codes for another, and the number in the index is the number of the letter that it codes for. For example: index 0 represents 'a'. If the number at index 0 is 1, then whenever an 'a' comes up in a text, it would be encoded into a 'b', because b is the letter at index 1 of alpha_list."
   ]
  },
  {
   "cell_type": "code",
   "execution_count": 8,
   "metadata": {},
   "outputs": [],
   "source": [
    "def make_rand_aris_key():\n",
    "    nums = []\n",
    "    for i in range(26):\n",
    "        nums.append(i)\n",
    "    key = []\n",
    "    for i in range(26):\n",
    "        num = (random.choice(nums))\n",
    "        key.append(num)\n",
    "        nums.remove(num)\n",
    "    num_key = key\n",
    "    key = num_to_text(key)\n",
    "    return num_key"
   ]
  },
  {
   "cell_type": "markdown",
   "metadata": {},
   "source": [
    "The next two ciphers are similar to the encode and decode caesar ciphers. Instead of just shifting each letter, however, they use the key to encode and decode the letters."
   ]
  },
  {
   "cell_type": "code",
   "execution_count": 9,
   "metadata": {},
   "outputs": [],
   "source": [
    "def encode_aris(plaintext, num_key):\n",
    "    ciphertext = []\n",
    "    plaintext = text_to_num(plaintext)\n",
    "    for num in plaintext:\n",
    "        if num != 26:\n",
    "            num = num_key[num]\n",
    "        ciphertext.append(num)\n",
    "    ciphertext = num_to_text(ciphertext)\n",
    "    return ciphertext"
   ]
  },
  {
   "cell_type": "code",
   "execution_count": 10,
   "metadata": {},
   "outputs": [],
   "source": [
    "def decode_aris(ciphertext, num_key):\n",
    "    plaintext = []\n",
    "    ciphertext = text_to_num(ciphertext)\n",
    "    for num in ciphertext:\n",
    "        if num != 26:\n",
    "            num = num_key.index(num)\n",
    "        plaintext.append(num)\n",
    "    plaintext = num_to_text(plaintext)\n",
    "    return plaintext"
   ]
  },
  {
   "cell_type": "markdown",
   "metadata": {},
   "source": [
    "make_alpha_dict takes a text and counts the number of times each letter is used. the dictionary returned has 27 entries, the key for each entry is a letter of the alphabet. The value for each entry is the number of times the letter occured. This is then used to generate the frequency of each letter, using the make_percent_dict function, which returns a similar dictionary except the values are the decimal amount of time that the number comes up."
   ]
  },
  {
   "cell_type": "code",
   "execution_count": 15,
   "metadata": {},
   "outputs": [],
   "source": [
    "def make_alpha_dict(text, alpha_dict = {}):\n",
    "    if alpha_dict == {}:\n",
    "        for i in range(27):\n",
    "            alpha_dict[alpha_list[i]] = 0\n",
    "    for letter in text:\n",
    "        alpha_dict[letter] += 1\n",
    "    return alpha_dict"
   ]
  },
  {
   "cell_type": "code",
   "execution_count": 16,
   "metadata": {},
   "outputs": [],
   "source": [
    "def make_percent_dict(alpha_dict, percent_dict = {}):\n",
    "    for i in range(26):\n",
    "        percent_dict[alpha_list[i]] = alpha_dict[alpha_list[i]] / letter_num\n",
    "    return percent_dict\n",
    "    '''\n",
    "    for entry in percent_dict:\n",
    "        print(entry + \": \" + str(percent_dict[entry]) + \"%\")\n",
    "    '''"
   ]
  },
  {
   "cell_type": "markdown",
   "metadata": {},
   "source": [
    "The next functions are similar but instead of counting the single letters, they count the number of times each pair of letters occurs (including spaced as a letter). Each letter pair is then "
   ]
  },
  {
   "cell_type": "code",
   "execution_count": 18,
   "metadata": {},
   "outputs": [],
   "source": [
    "def make_pair_list(text, pair_list = []):\n",
    "    for i in range(27):\n",
    "        pair_list.append([])\n",
    "        for l2 in range(27):\n",
    "            pair_list[i].append(0.5)\n",
    "    for i in range(len(text) - 1):\n",
    "        pair_list[alpha_list.index(text[i])][alpha_list.index(text[i+1])] += 1\n",
    "    return pair_list "
   ]
  },
  {
   "cell_type": "code",
   "execution_count": 19,
   "metadata": {},
   "outputs": [],
   "source": [
    "def make_percent_list(pair_list, percent_pair_list = []):\n",
    "    for i in range(27):\n",
    "        added = 0\n",
    "        percent_pair_list.append([])\n",
    "        for l2 in range(27):\n",
    "            added += pair_list[i][l2]\n",
    "        for l2 in range(27):\n",
    "            percent_pair_list[i].append(pair_list[i][l2] / added)\n",
    "    return percent_pair_list"
   ]
  },
  {
   "cell_type": "code",
   "execution_count": 11,
   "metadata": {},
   "outputs": [],
   "source": [
    "def likelihood(letter):\n",
    "    if letter != ' ':\n",
    "        return percent_dict[letter]"
   ]
  },
  {
   "cell_type": "code",
   "execution_count": 12,
   "metadata": {},
   "outputs": [],
   "source": [
    "def find_likelihood(text, key):\n",
    "    likely = 1\n",
    "    for letter in text:\n",
    "        if letter != ' ':\n",
    "            likely *= likelihood(letter)\n",
    "    return likely"
   ]
  },
  {
   "cell_type": "code",
   "execution_count": 13,
   "metadata": {},
   "outputs": [],
   "source": [
    "def find_log_likelihood(text):\n",
    "    likely = 0\n",
    "    for letter in text:\n",
    "        if letter != ' ':\n",
    "            likely += log(likelihood(letter))\n",
    "    return likely"
   ]
  },
  {
   "cell_type": "code",
   "execution_count": 14,
   "metadata": {},
   "outputs": [],
   "source": [
    "def find_pair_log_likelihood(text):\n",
    "    likely = 0\n",
    "    likely += log(likelihood(text[0]))\n",
    "    for letter in range(len(text) - 1):\n",
    "        first_index = alpha_list.index(text[letter])\n",
    "        second_index = alpha_list.index(text[letter + 1])\n",
    "        place = percent_pair_list[first_index][second_index]\n",
    "        if place != 0:\n",
    "            likely += log(place)\n",
    "    return likely"
   ]
  },
  {
   "cell_type": "code",
   "execution_count": 20,
   "metadata": {},
   "outputs": [],
   "source": [
    "def find_letter_num(text, alpha_dict):\n",
    "    return len(text) - alpha_dict[' ']"
   ]
  },
  {
   "cell_type": "code",
   "execution_count": 21,
   "metadata": {},
   "outputs": [],
   "source": [
    "def find_solution_brute(ciphertext):\n",
    "    solutions = []\n",
    "    for i in range(26):\n",
    "        plaintext = decode_caesar_cipher(ciphertext, i)\n",
    "        plaintext = ''.join(plaintext)\n",
    "        likely = find_log_likelihood(plaintext)\n",
    "        solutions.append(likely)\n",
    "    return solutions"
   ]
  },
  {
   "cell_type": "code",
   "execution_count": 22,
   "metadata": {},
   "outputs": [],
   "source": [
    "def find_solution_brute_pairs(ciphertext, new_dict = {}, both_list = []):\n",
    "    solutions = []\n",
    "    for i in range(26):\n",
    "        plaintext = decode_caesar_cipher(ciphertext, i)\n",
    "        plaintext = ''.join(plaintext)\n",
    "        likely = find_pair_log_likelihood(plaintext)\n",
    "        solutions.append(likely)\n",
    "    return solutions"
   ]
  },
  {
   "cell_type": "code",
   "execution_count": 23,
   "metadata": {},
   "outputs": [],
   "source": [
    "def ordered_solutions(ciphertext, function_name = find_solution_brute_pairs):\n",
    "    solution_list = []\n",
    "    solutions = (function_name(ciphertext))\n",
    "    index_array = numpy.flipud(numpy.argsort(solutions))\n",
    "    for i in range(26):\n",
    "        solution_list.append(\"%02d: %s: %s\" % ((index_array[i]), ''.join(decode_caesar_cipher(ciphertext, index_array[i])), str(solutions[index_array[i]])))\n",
    "    return solution_list"
   ]
  },
  {
   "cell_type": "code",
   "execution_count": 32,
   "metadata": {},
   "outputs": [],
   "source": [
    "def make_letters(file_name):\n",
    "    new_file = open('../data/' + file_name, 'r')\n",
    "    file = new_file.read()\n",
    "    file = file.lower()\n",
    "    #regular expressions is imported\n",
    "    #The next line takes out only the letters\n",
    "    return re.findall('[a-z]|\\ ', file)"
   ]
  },
  {
   "cell_type": "code",
   "execution_count": 24,
   "metadata": {},
   "outputs": [],
   "source": [
    "bible_letters = make_letters('bible.txt')\n",
    "crime_letters = make_letters('crime_and_punishment.txt')\n",
    "\n",
    "\n",
    "#For the first case, text = bible_letters for all\n",
    "alpha_dict = make_alpha_dict(crime_letters)\n",
    "letter_num = find_letter_num(crime_letters, alpha_dict)\n",
    "percent_dict = make_percent_dict(alpha_dict)\n",
    "pair_list = make_pair_list(crime_letters)\n",
    "percent_pair_list = make_percent_list(pair_list)"
   ]
  },
  {
   "cell_type": "code",
   "execution_count": 25,
   "metadata": {},
   "outputs": [
    {
     "name": "stdout",
     "output_type": "stream",
     "text": [
      "191.5\n",
      "53531.5\n"
     ]
    }
   ],
   "source": [
    "#print(percent_pair_list)\n",
    "print(pair_list[alpha_list.index(\"s\")][alpha_list.index(\"b\")])\n",
    "print(sum(pair_list[alpha_list.index('s')]))\n",
    "#0.0003554540226212538"
   ]
  },
  {
   "cell_type": "code",
   "execution_count": 38,
   "metadata": {},
   "outputs": [],
   "source": [
    "plaintext = 'queen'\n",
    "plaintext = (plaintext.lower())\n",
    "ciphertext = encode_caesar_cipher(plaintext, 3)\n",
    "solutions = []\n",
    "#print(find_solution_brute(ciphertext))\n",
    "solutions = (find_solution_brute_pairs(ciphertext))"
   ]
  },
  {
   "cell_type": "code",
   "execution_count": null,
   "metadata": {},
   "outputs": [],
   "source": [
    "caesar_ciphertext = \"alex\"\n",
    "solution_list = ordered_solutions(caesar_ciphertext, find_solution_brute)\n",
    "print(\"Solutions using single letter frequencies\")\n",
    "for i in range(26):\n",
    "    print(solution_list[i])\n",
    "solution_list = ordered_solutions(caesar_ciphertext)\n",
    "print(\"Solutions using letter pair frequencies\")\n",
    "for i in range(26):\n",
    "    print(solution_list[i])"
   ]
  },
  {
   "cell_type": "code",
   "execution_count": 53,
   "metadata": {},
   "outputs": [
    {
     "name": "stdout",
     "output_type": "stream",
     "text": [
      "glocley  l aelosueibaitomy and bedsirdoa th and coiadr salads th lpdeiull betuflplaitowndedls to and awdoaysdutor rly th sdbadpmde io and ydle th tce fter tod antcslor dikna ncoredr lor sizayawt l betuflplaito wls isscdr my and bedsirdoa th and coiadr salads utoalioiok lptok tande anioks and htfftwiok at wiaanla to and hiesa rly th glocley io and ydle th tce fter tod antcslor dikna ncoredr lor sizayanedd lff bdestos ndfr ls sflvds wianio loy salad te rdsikoladr blea th l salad and bdtbfd wndedth snlff ando md io edmdffito lkliosa and coiadr salads snlff md ando andoudhtewler lor htedvde hedd lor and dzducaivd ktvdeopdoa th and coiadr salads ioufcriok and pifialey lor olvlf lcanteiay andedth wiff edutkoixd lor plioalio and heddrtp th scun bdestos lor wiff rt ot lua te luas at edbedss scun bdestos te loy th andp io loy dhhteas andy ply pljd hte andie luaclf heddrtpanla and dzducaivd wiff to and hiesa rly th glocley lhtedslir my betuflplaito rdsikolad and salads lor bleas th salads ih loy io wniun and bdtbfd andedth edsbduaivdfy snlff ando md io edmdffito lkliosa and coiadr salads lor and hlua anla loy salad te and bdtbfd andedth snlff to anla rly md io kttr hlian edbedsdoadr io and utokedss th and coiadr salads my pdpmdes untsdo andedat la dfduaitos wndedio l plgteiay th and qclfihidr vtades th scun salad snlff nlvd bleaiuibladr snlff io and lmsdoud th saetok utcoadevlifiok adsaiptoy md rddpdr utoufcsivd dvirdoud anla scun salad lor and bdtbfd andedth led ota ando io edmdffito lkliosa and coiadr saladsotw andedhted i lmelnlp fioutfo bedsirdoa th and coiadr salads my vieacd th and btwde io pd vdsadr ls utpplordeiounidh th and lepy lor olvy th and coiadr salads io aipd th luaclf lepdr edmdffito lkliosa and lcanteiay lor ktvdeopdoa th and coiadr salads lor ls l hia lor odudssley wle pdlsced hte scbbedssiok slir edmdffito rt to anis hiesa rly th glocley io and ydle th tce fter tod antcslor dikna ncoredr lor sizayanedd lor io luuterloud wian py bcebtsd st at rt bcmfiufy betuflipdr hte and hcff bdeitr th tod ncoredr rlys hetp and rly hiesa lmtvd pdoaitodr terde lor rdsikolad ls and salads lor bleas th salads wndedio and bdtbfd andedth edsbduaivdfy led anis rly io edmdffito lkliosa and coiadr salads and htfftwiok at wialejlosls adzls ftcisilol dzudba and bleisnds th sa mdeoler bflqcdpiods gdhhdesto sa gtno sa unlefds sa glpds lsudosito lsscpbaito adeedmtood flhtceund sa pley sa pleaio lor tefdlos ioufcriok and uiay th odw tefdlos pississibbi lflmlpl hfteirl kdtekil stcan uletfiol otean uletfiol lor viekioil dzudba and hteaydikna utcoaids rdsikoladr ls wdsa viekioil lor lfst and utcoaids th mdejfdy luutplu oteanlpbato dfixlmdan uiay ytej beioudss loo lor otehtfj ioufcriok and uiaids th otehtfj lor bteasptcan lor wniun dzudbadr bleas led hte and bedsdoa fdha beduisdfy ls ih anis betuflplaito wded ota isscdrlor my vieacd th and btwde lor hte and bcebtsd lhtedslir i rt terde lor rdufled anla lff bdestos ndfr ls sflvds wianio slir rdsikoladr salads lor bleas th salads led lor ndoudhtewler snlff md hedd lor anla and dzducaivd ktvdeopdoa th and coiadr salads ioufcriok and pifialey lor olvlf lcanteiaids andedth wiff edutkoixd lor plioalio and heddrtp th slir bdestoslor i ndedmy dogtio cbto and bdtbfd st rdufledr at md hedd at lmsalio hetp lff vitfdoud cofdss io odudssley sdfhrdhdoud lor i edutppdor at andp anla io lff ulsds wndo lfftwdr andy flmte hlianhcffy hte edlstolmfd wlkdslor i hceande rdufled lor pljd jotwo anla scun bdestos th scialmfd utoriaito wiff md edudivdr ioat and lepdr sdeviud th and coiadr salads at kleeisto hteas btsiaitos salaitos lor tande bfluds lor at plo vdssdfs th lff steas io slir sdeviudlor cbto anis lua sioudedfy mdfidvdr at md lo lua th gcsaiud wleeloadr my and utosaiacaito cbto pifialey odudssiay i iovtjd and utosirdelad gcrkpdoa th plojior lor and keluitcs hlvte th lfpiknay ktrio wiaodss wndedth i nlvd ndedcoat sda py nlor lor ulcsdr and sdlf th and coiadr salads at md lhhizdrrtod la and uiay th wlsniokato anis hiesa rly th glocley io and ydle th tce fter tod antcslor dikna ncoredr lor sizay anedd lor th and iordbdordoud th and coiadr salads th lpdeiul and diknaysdvdoanmy and bedsirdoa lmelnlp fioutfowiffilp n sdwler sduedaley th salad\n"
     ]
    }
   ],
   "source": [
    "eman_letters = make_letters('Emancipation_Proclamation.txt')\n",
    "\n",
    "permanent_num_key = make_rand_aris_key()\n",
    "ciphertext = encode_aris(eman_letters, permanent_num_key)\n",
    "num_key = make_rand_aris_key()\n",
    "new_num_key = list(num_key)\n",
    "log_likelihoods = []\n",
    "done_list = []\n",
    "for i in range(5000):\n",
    "    index1 = random.randint(0, 25)\n",
    "    index2 = random.randint(0, 25)\n",
    "    for i in range(1000):\n",
    "        if (str(index1) + \", \" + str(index2)) in done_list or (str(index2) + \", \" + str(index1)) in done_list or index1 == index2:\n",
    "            index1 = random.randint(0, 25)\n",
    "            index2 = random.randint(0, 25)\n",
    "    done_list.append(str(index1) + \", \" + str(index2))\n",
    "    plaintext = decode_aris(ciphertext, num_key)\n",
    "    new_num_key[index1] = num_key[index2]\n",
    "    new_num_key[index2] = num_key[index1]\n",
    "    new_plaintext = decode_aris(ciphertext, new_num_key)\n",
    "    if find_pair_log_likelihood(new_plaintext) > find_pair_log_likelihood(plaintext):\n",
    "        num_key = list(new_num_key)\n",
    "    else:\n",
    "        new_num_key = list(num_key)\n",
    "    plaintext = decode_aris(ciphertext, num_key)\n",
    "    log_likelihoods.append(find_pair_log_likelihood(plaintext))\n",
    "print(''.join(decode_aris(ciphertext, num_key)))"
   ]
  },
  {
   "cell_type": "code",
   "execution_count": 56,
   "metadata": {},
   "outputs": [
    {
     "name": "stdout",
     "output_type": "stream",
     "text": [
      "-12914.42794524353\n",
      "-10051.878516792216\n"
     ]
    }
   ],
   "source": [
    "print(log_likelihoods[-1])\n",
    "print(find_pair_log_likelihood(eman_letters))"
   ]
  },
  {
   "cell_type": "code",
   "execution_count": null,
   "metadata": {},
   "outputs": [],
   "source": []
  },
  {
   "cell_type": "code",
   "execution_count": null,
   "metadata": {},
   "outputs": [],
   "source": []
  }
 ],
 "metadata": {
  "kernelspec": {
   "display_name": "Python 3",
   "language": "python",
   "name": "python3"
  },
  "language_info": {
   "codemirror_mode": {
    "name": "ipython",
    "version": 3
   },
   "file_extension": ".py",
   "mimetype": "text/x-python",
   "name": "python",
   "nbconvert_exporter": "python",
   "pygments_lexer": "ipython3",
   "version": "3.7.6"
  }
 },
 "nbformat": 4,
 "nbformat_minor": 4
}
