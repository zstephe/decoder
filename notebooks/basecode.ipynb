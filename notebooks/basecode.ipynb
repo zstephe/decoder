{
 "cells": [
  {
   "cell_type": "code",
   "execution_count": 222,
   "metadata": {},
   "outputs": [
    {
     "name": "stdout",
     "output_type": "stream",
     "text": [
      "what did you say\n"
     ]
    }
   ],
   "source": [
    "text = \"WHAT DID YOU SAY\"\n",
    "text = text.lower()\n",
    "print(text)\n",
    "import random\n",
    "#from ipynb.fs.full.zoecode import *\n",
    "import re\n",
    "from math import log\n",
    "from math import isclose\n",
    "import numpy"
   ]
  },
  {
   "cell_type": "markdown",
   "metadata": {},
   "source": [
    "alpha_list is just a list of all the letters in the alphabet with a space included. This helps assign each letter an index and is used in many definitions."
   ]
  },
  {
   "cell_type": "code",
   "execution_count": 223,
   "metadata": {},
   "outputs": [],
   "source": [
    "alpha_list = ['a', 'b', 'c', 'd', 'e', 'f', 'g', 'h', 'i', 'j', 'k', 'l', 'm', 'n', 'o', \n",
    "             'p','q', 'r', 's', 't', 'u', 'v', 'w', 'x', 'y', 'z', ' ']"
   ]
  },
  {
   "cell_type": "markdown",
   "metadata": {},
   "source": [
    "The function char_to_num, takes a piece of text (a string of lowercase letters) and returns a list of the numerical values for each number, based on the indices in alpha_list. \n",
    "\n",
    "The function after that, num_to_char, reverses the effect, going from a series of numbers (ranged 0 - 26) to a string of lowercase letters returned as a list."
   ]
  },
  {
   "cell_type": "code",
   "execution_count": 224,
   "metadata": {},
   "outputs": [],
   "source": [
    "def char_to_num(char_text):\n",
    "    num_text = []\n",
    "    for letter in char_text:\n",
    "        num_text.append(alpha_list.index(letter))\n",
    "    return num_text"
   ]
  },
  {
   "cell_type": "code",
   "execution_count": 225,
   "metadata": {},
   "outputs": [],
   "source": [
    "def num_to_char(num_text):\n",
    "    char_text = []\n",
    "    for num in num_text:\n",
    "        char_text.append(alpha_list[num])\n",
    "    return char_text"
   ]
  },
  {
   "cell_type": "markdown",
   "metadata": {},
   "source": [
    "A caesar cipher is just a shift cipher.\n",
    "encode_caesar_cipher takes a piece of text and a key, and shifts each letter forwards by the key. For example, if the key was 3, an 'a' would become a 'd', a 'b' would become a 'e' , and so on. decode_caesar_cipher works much the same way, but instead of shifting the letters forwards, it shifts them backwards, effectively reversing the encoding of the cipher. This only works if you use the same key to encode and decode, however."
   ]
  },
  {
   "cell_type": "code",
   "execution_count": 226,
   "metadata": {},
   "outputs": [],
   "source": [
    "def encode_caesar_cipher(plaintext, key):\n",
    "    ciphertext_num = []\n",
    "    plaintext_num = char_to_num(plaintext)\n",
    "    for num in plaintext_num:\n",
    "        if num != 26: #num 26 is a space\n",
    "            num += key\n",
    "            num = num % 26\n",
    "        ciphertext_num.append(num)\n",
    "    ciphertext = num_to_char(ciphertext_num)\n",
    "    return ciphertext"
   ]
  },
  {
   "cell_type": "code",
   "execution_count": 227,
   "metadata": {},
   "outputs": [],
   "source": [
    "def decode_caesar_cipher(ciphertext, key):\n",
    "    plaintext_num = []\n",
    "    ciphertext_num = char_to_num(ciphertext)\n",
    "    for num in ciphertext_num:\n",
    "        if num != 26: #num 26 is a space\n",
    "            num -= key\n",
    "            num = num % 26\n",
    "        plaintext_num.append(num)\n",
    "    plaintext = num_to_char(plaintext_num)\n",
    "    return plaintext"
   ]
  },
  {
   "cell_type": "markdown",
   "metadata": {},
   "source": [
    "An aristocrat cipher is a random substitution cipher. Each letter in the alphabet encodes to another letter. In this code, I often abbreviate aristocrat to 'aris'.\n",
    "make_rand_aris_key generates a random 'key' to be used in encoding and decoding an aristocrat. The key is a list of numbers. The index of the number is the letter that codes for another, and the number in the index is the number of the letter that it codes for. For example: index 0 represents 'a'. If the number at index 0 is 1, then whenever an 'a' comes up in a text, it would be encoded into a 'b', because b is the letter at index 1 of alpha_list."
   ]
  },
  {
   "cell_type": "code",
   "execution_count": 228,
   "metadata": {},
   "outputs": [],
   "source": [
    "# returns a key, a list of numbers, random permutation of 0-25\n",
    "def make_rand_aris_key():\n",
    "    nums = []\n",
    "    for i in range(26):\n",
    "        nums.append(i)\n",
    "    num_key = []\n",
    "    for i in range(26):\n",
    "        num = (random.choice(nums))\n",
    "        num_key.append(num)\n",
    "        nums.remove(num)\n",
    "    return num_key"
   ]
  },
  {
   "cell_type": "markdown",
   "metadata": {},
   "source": [
    "The next two ciphers are similar to the encode and decode caesar ciphers. Instead of just shifting each letter, however, they use the key to encode and decode the letters."
   ]
  },
  {
   "cell_type": "code",
   "execution_count": 229,
   "metadata": {},
   "outputs": [],
   "source": [
    "# plaintext: string or list of characters\n",
    "# num_key is a list of numbers \n",
    "# returns a encoded list of characters\n",
    "def encode_aris(plaintext, num_key):\n",
    "    ciphertext_num = []\n",
    "    plaintext_num = char_to_num(plaintext)\n",
    "    for num in plaintext_num:\n",
    "        if num != 26:\n",
    "            num = num_key[num]\n",
    "        ciphertext_num.append(num)\n",
    "    ciphertext = num_to_char(ciphertext_num)\n",
    "    return ciphertext"
   ]
  },
  {
   "cell_type": "code",
   "execution_count": 230,
   "metadata": {},
   "outputs": [],
   "source": [
    "def decode_aris(ciphertext, num_key):\n",
    "    plaintext_num = []\n",
    "    ciphertext_num = char_to_num(ciphertext)\n",
    "    for num in ciphertext_num:\n",
    "        if num != 26:\n",
    "            num = num_key.index(num)\n",
    "        plaintext_num.append(num)\n",
    "    plaintext = num_to_char(plaintext_num)\n",
    "    return plaintext"
   ]
  },
  {
   "cell_type": "markdown",
   "metadata": {},
   "source": [
    "count_letters takes a text and counts the number of times each letter is used. the list returned has 27 entries, one for each letter in the alphabet, and one for a space. This is then used to generate the frequency of each letter, using the normalize_counts function, which returns a list containing the decimal percent of times each letter comes up. The indices of the percent indicate the letter."
   ]
  },
  {
   "cell_type": "code",
   "execution_count": 231,
   "metadata": {},
   "outputs": [],
   "source": [
    "def count_letters(text, pseudo_count = 0):\n",
    "    letter_count = []\n",
    "    for i in range(27):\n",
    "        letter_count.append(pseudo_count)\n",
    "    for letter in text:\n",
    "        letter_count[alpha_list.index(letter)] += 1\n",
    "    return letter_count"
   ]
  },
  {
   "cell_type": "code",
   "execution_count": 232,
   "metadata": {},
   "outputs": [
    {
     "name": "stdout",
     "output_type": "stream",
     "text": [
      "[1, 1, 1, 1, 1, 1, 0, 0, 0, 0, 0, 0, 0, 0, 0, 0, 0, 0, 0, 0, 0, 0, 0, 0, 0, 0, 0]\n"
     ]
    }
   ],
   "source": [
    "letter_count = count_letters('abcdef')\n",
    "print(letter_count)"
   ]
  },
  {
   "cell_type": "markdown",
   "metadata": {},
   "source": [
    "The next functions are similar but instead of counting the single letters, they count the number of times each pair of letters occurs (including spaced as a letter). Each letter pair is then turned into a decimal. This means that for each letter, the likelihood that it will be followed by the next letter is the likelihood of each pair. For example, anytime you see a 't' there is about a 50% chance the next letter will be an 'h', so the likelihood for 'th' is 0.50..."
   ]
  },
  {
   "cell_type": "code",
   "execution_count": 233,
   "metadata": {},
   "outputs": [],
   "source": [
    "def count_letter_pairs(text, pseudo_count = 0):\n",
    "    pair_count = []\n",
    "    for i in range(27):\n",
    "        pair_count.append([])\n",
    "        for l2 in range(27):\n",
    "            pair_count[i].append(pseudo_count)\n",
    "    for i in range(len(text) - 1):\n",
    "        pair_count[alpha_list.index(text[i])][alpha_list.index(text[i + 1])] += 1\n",
    "    return pair_count"
   ]
  },
  {
   "cell_type": "code",
   "execution_count": 234,
   "metadata": {},
   "outputs": [
    {
     "name": "stdout",
     "output_type": "stream",
     "text": [
      "[[4, 1, 0, 0, 0, 0, 0, 0, 0, 0, 0, 0, 0, 0, 0, 0, 0, 0, 0, 0, 0, 0, 0, 0, 0, 0, 0], [0, 4, 1, 0, 0, 0, 0, 0, 0, 0, 0, 0, 0, 0, 0, 0, 0, 0, 0, 0, 0, 0, 0, 0, 0, 0, 0], [0, 0, 4, 1, 0, 0, 0, 0, 0, 0, 0, 0, 0, 0, 0, 0, 0, 0, 0, 0, 0, 0, 0, 0, 0, 0, 0], [0, 0, 0, 4, 0, 0, 0, 0, 0, 0, 0, 0, 0, 0, 0, 0, 0, 0, 0, 0, 0, 0, 0, 0, 0, 0, 0], [0, 0, 0, 0, 0, 0, 0, 0, 0, 0, 0, 0, 0, 0, 0, 0, 0, 0, 0, 0, 0, 0, 0, 0, 0, 0, 0], [0, 0, 0, 0, 0, 0, 0, 0, 0, 0, 0, 0, 0, 0, 0, 0, 0, 0, 0, 0, 0, 0, 0, 0, 0, 0, 0], [0, 0, 0, 0, 0, 0, 0, 0, 0, 0, 0, 0, 0, 0, 0, 0, 0, 0, 0, 0, 0, 0, 0, 0, 0, 0, 0], [0, 0, 0, 0, 0, 0, 0, 0, 0, 0, 0, 0, 0, 0, 0, 0, 0, 0, 0, 0, 0, 0, 0, 0, 0, 0, 0], [0, 0, 0, 0, 0, 0, 0, 0, 0, 0, 0, 0, 0, 0, 0, 0, 0, 0, 0, 0, 0, 0, 0, 0, 0, 0, 0], [0, 0, 0, 0, 0, 0, 0, 0, 0, 0, 0, 0, 0, 0, 0, 0, 0, 0, 0, 0, 0, 0, 0, 0, 0, 0, 0], [0, 0, 0, 0, 0, 0, 0, 0, 0, 0, 0, 0, 0, 0, 0, 0, 0, 0, 0, 0, 0, 0, 0, 0, 0, 0, 0], [0, 0, 0, 0, 0, 0, 0, 0, 0, 0, 0, 0, 0, 0, 0, 0, 0, 0, 0, 0, 0, 0, 0, 0, 0, 0, 0], [0, 0, 0, 0, 0, 0, 0, 0, 0, 0, 0, 0, 0, 0, 0, 0, 0, 0, 0, 0, 0, 0, 0, 0, 0, 0, 0], [0, 0, 0, 0, 0, 0, 0, 0, 0, 0, 0, 0, 0, 0, 0, 0, 0, 0, 0, 0, 0, 0, 0, 0, 0, 0, 0], [0, 0, 0, 0, 0, 0, 0, 0, 0, 0, 0, 0, 0, 0, 0, 0, 0, 0, 0, 0, 0, 0, 0, 0, 0, 0, 0], [0, 0, 0, 0, 0, 0, 0, 0, 0, 0, 0, 0, 0, 0, 0, 0, 0, 0, 0, 0, 0, 0, 0, 0, 0, 0, 0], [0, 0, 0, 0, 0, 0, 0, 0, 0, 0, 0, 0, 0, 0, 0, 0, 0, 0, 0, 0, 0, 0, 0, 0, 0, 0, 0], [0, 0, 0, 0, 0, 0, 0, 0, 0, 0, 0, 0, 0, 0, 0, 0, 0, 0, 0, 0, 0, 0, 0, 0, 0, 0, 0], [0, 0, 0, 0, 0, 0, 0, 0, 0, 0, 0, 0, 0, 0, 0, 0, 0, 0, 0, 0, 0, 0, 0, 0, 0, 0, 0], [0, 0, 0, 0, 0, 0, 0, 0, 0, 0, 0, 0, 0, 0, 0, 0, 0, 0, 0, 0, 0, 0, 0, 0, 0, 0, 0], [0, 0, 0, 0, 0, 0, 0, 0, 0, 0, 0, 0, 0, 0, 0, 0, 0, 0, 0, 0, 0, 0, 0, 0, 0, 0, 0], [0, 0, 0, 0, 0, 0, 0, 0, 0, 0, 0, 0, 0, 0, 0, 0, 0, 0, 0, 0, 0, 0, 0, 0, 0, 0, 0], [0, 0, 0, 0, 0, 0, 0, 0, 0, 0, 0, 0, 0, 0, 0, 0, 0, 0, 0, 0, 0, 0, 0, 0, 0, 0, 0], [0, 0, 0, 0, 0, 0, 0, 0, 0, 0, 0, 0, 0, 0, 0, 0, 0, 0, 0, 0, 0, 0, 0, 0, 0, 0, 0], [0, 0, 0, 0, 0, 0, 0, 0, 0, 0, 0, 0, 0, 0, 0, 0, 0, 0, 0, 0, 0, 0, 0, 0, 0, 0, 0], [0, 0, 0, 0, 0, 0, 0, 0, 0, 0, 0, 0, 0, 0, 0, 0, 0, 0, 0, 0, 0, 0, 0, 0, 0, 0, 0], [0, 0, 0, 0, 0, 0, 0, 0, 0, 0, 0, 0, 0, 0, 0, 0, 0, 0, 0, 0, 0, 0, 0, 0, 0, 0, 0]]\n"
     ]
    }
   ],
   "source": [
    "print(count_letter_pairs('aaaaabbbbbcccccddddd'))"
   ]
  },
  {
   "cell_type": "code",
   "execution_count": 235,
   "metadata": {},
   "outputs": [],
   "source": [
    "def normalize_counts(count_list):\n",
    "    total = 0\n",
    "    normalized_counts = []\n",
    "    for i in range(27):\n",
    "        total += count_list[i]\n",
    "        normalized_counts.append(0)\n",
    "    for i in range(27):\n",
    "        normalized_counts[i] = count_list[i] / total\n",
    "    return normalized_counts"
   ]
  },
  {
   "cell_type": "code",
   "execution_count": 236,
   "metadata": {},
   "outputs": [],
   "source": [
    "def normalize_counts_no_spaces(count_list):\n",
    "    total = 0\n",
    "    normalized_counts = []\n",
    "    for i in range(26):\n",
    "        total += count_list[i]\n",
    "        normalized_counts.append(0)\n",
    "    for i in range(26):\n",
    "        normalized_counts[i] = count_list[i] / total\n",
    "    return normalized_counts"
   ]
  },
  {
   "cell_type": "code",
   "execution_count": 237,
   "metadata": {},
   "outputs": [
    {
     "name": "stdout",
     "output_type": "stream",
     "text": [
      "[0.16666666666666666, 0.16666666666666666, 0.16666666666666666, 0.16666666666666666, 0.16666666666666666, 0.16666666666666666, 0.0, 0.0, 0.0, 0.0, 0.0, 0.0, 0.0, 0.0, 0.0, 0.0, 0.0, 0.0, 0.0, 0.0, 0.0, 0.0, 0.0, 0.0, 0.0, 0.0, 0.0]\n"
     ]
    }
   ],
   "source": [
    "print(normalize_counts(letter_count))"
   ]
  },
  {
   "cell_type": "code",
   "execution_count": 238,
   "metadata": {},
   "outputs": [],
   "source": [
    "def compute_transition_matrix(pair_count):\n",
    "    transition_matrix = []\n",
    "    for i in range(27):\n",
    "        transition_matrix.append([])\n",
    "    for i in range(27):\n",
    "        transition_matrix[i] = (normalize_counts(pair_count[i]))\n",
    "    return transition_matrix"
   ]
  },
  {
   "cell_type": "code",
   "execution_count": 239,
   "metadata": {},
   "outputs": [],
   "source": [
    "def find_likelihood(text, percent_list):\n",
    "    likely = 1\n",
    "    for letter in text:\n",
    "        letter = alpha_list.index(letter)\n",
    "        likely *= percent_list[letter]\n",
    "    return likely"
   ]
  },
  {
   "cell_type": "code",
   "execution_count": 240,
   "metadata": {},
   "outputs": [],
   "source": [
    "def find_log_likelihood(text, percent_list):\n",
    "    log_likely = 0\n",
    "    for letter in text:\n",
    "        letter = alpha_list.index(letter)\n",
    "        log_likely += log(percent_list[letter])\n",
    "    return log_likely"
   ]
  },
  {
   "cell_type": "code",
   "execution_count": 241,
   "metadata": {},
   "outputs": [],
   "source": [
    "def find_pair_log_likelihood(text, percent_list, transition_matrix):\n",
    "    log_likely = 0\n",
    "    log_likely += log(percent_list[alpha_list.index(text[0])])\n",
    "    for letter in range(len(text) - 1):\n",
    "        first_index = alpha_list.index(text[letter])\n",
    "        second_index = alpha_list.index(text[letter + 1])\n",
    "        if transition_matrix[first_index][second_index] != 0:\n",
    "            log_likely += log(transition_matrix[first_index][second_index])\n",
    "    return log_likely"
   ]
  },
  {
   "cell_type": "code",
   "execution_count": 242,
   "metadata": {},
   "outputs": [],
   "source": [
    "#tells you how much the log likelihood will change if you switch the letters at the two indices\n",
    "def log_likelihood_change(text, pair_count, transition_matrix, start_key, index1, index2):\n",
    "    changed_list = list(transition_matrix)\n",
    "    unchanged_rows, changed_rows, unchanged_columns, changed_columns = 0, 0, 0, 0\n",
    "    key1 = start_key[index1]\n",
    "    print(key1)\n",
    "    key2 = start_key[index2]\n",
    "    print(key2)\n",
    "    changed_list[key1], changed_list[key2] = list(transition_matrix[key2]), list(transition_matrix[key1])\n",
    "    for i in range(27):\n",
    "        unchanged_rows += log(transition_matrix[key1][i]) * pair_count[key1][i]\n",
    "        unchanged_rows += log(transition_matrix[key2][i]) * pair_count[key2][i]\n",
    "        changed_rows += log(changed_list[key1][i]) * pair_count[key1][i]\n",
    "        changed_rows += log(changed_list[key2][i]) * pair_count[key2][i]\n",
    "    for i in range(27):\n",
    "        changed_list[i][key1], changed_list[i][key2] = float(transition_matrix[i][key2]), float(transition_matrix[i][key1])\n",
    "        unchanged_columns += (log(transition_matrix[i][key1]) * pair_count[i][key1])\n",
    "        unchanged_columns += (log(transition_matrix[i][key2]) * pair_count[i][key2])\n",
    "        changed_columns += (log(changed_list[i][key1]) * pair_count[i][key1])\n",
    "        changed_columns += (log(changed_list[i][key2]) * pair_count[i][key2])\n",
    "    change = changed_rows + changed_columns - unchanged_rows - unchanged_columns\n",
    "    return change\n",
    "        \n",
    "        "
   ]
  },
  {
   "cell_type": "code",
   "execution_count": 243,
   "metadata": {},
   "outputs": [],
   "source": [
    "def calculate_likelihood_change(text, text_pair_count, ref_letter_percent,\\\n",
    "                                ref_transition_matrix, index1, index2, key):\n",
    "    column_change, row_change = 0, 0\n",
    "    l1 = key[index1]\n",
    "    l2 = key[index2]\n",
    "    for j in range(27):\n",
    "        if j != l1 and j != l2:\n",
    "            column_change += (text_pair_count[l1][j] - text_pair_count[l2][j])\\\n",
    "            * (log(transition_matrix[l1][j]) - log(transition_matrix[l2][j]))\n",
    "    for i in range(27):\n",
    "        if i != l1 and i != l2:\n",
    "            row_change += (text_pair_count[i][l1] - text_pair_count[i][l2])\\\n",
    "            * (log(transition_matrix[i][l1]) - log(transition_matrix[i][l2]))\n",
    "    \n",
    "    change = column_change + row_change\n",
    "    \n",
    "    change += (text_pair_count[l1][l1] - text_pair_count[l2][l2])\\\n",
    "    * (log(transition_matrix[l1][l1]) - log(transition_matrix[l2][l2]))\n",
    "    \n",
    "    change += (text_pair_count[l1][l2] - text_pair_count[l2][l1])\\\n",
    "    * (log(transition_matrix[l1][l2]) - log(transition_matrix[l2][l1]))\n",
    "    #dealing with the first letter (special case)\n",
    "    \n",
    "    if text[0] == alpha_list[l1]:\n",
    "        change += log(ref_letter_percent[l1]) - log(ref_letter_percent[l2])\n",
    "    elif text[0] == alpha_list[l2]:\n",
    "        change += log(ref_letter_percent[l2]) - log(ref_letter_percent[l1])\n",
    "    return -1 * change\n",
    "    \n",
    "    "
   ]
  },
  {
   "cell_type": "code",
   "execution_count": 244,
   "metadata": {},
   "outputs": [],
   "source": [
    "bible_letter_count = count_letters(bible_letters, 0.5)\n",
    "bible_letter_percent = normalize_counts(bible_letter_count)\n",
    "\n",
    "bible_pair_count = count_letter_pairs(bible_letters, 0.5)\n",
    "bible_matrix = compute_transition_matrix(bible_pair_count)"
   ]
  },
  {
   "cell_type": "code",
   "execution_count": 245,
   "metadata": {},
   "outputs": [
    {
     "ename": "ValueError",
     "evalue": "math domain error",
     "output_type": "error",
     "traceback": [
      "\u001b[0;31m---------------------------------------------------------------------------\u001b[0m",
      "\u001b[0;31mValueError\u001b[0m                                Traceback (most recent call last)",
      "\u001b[0;32m<ipython-input-245-0197783930db>\u001b[0m in \u001b[0;36m<module>\u001b[0;34m\u001b[0m\n\u001b[1;32m     17\u001b[0m \u001b[0;34m\u001b[0m\u001b[0m\n\u001b[1;32m     18\u001b[0m faster_calc = (calculate_likelihood_change(test_text, text_pair_count, bible_letter_percent, bible_matrix,\\\n\u001b[0;32m---> 19\u001b[0;31m                                   index1, index2, num_key))\n\u001b[0m\u001b[1;32m     20\u001b[0m \u001b[0mprint\u001b[0m\u001b[0;34m(\u001b[0m\u001b[0mfaster_calc\u001b[0m\u001b[0;34m)\u001b[0m\u001b[0;34m\u001b[0m\u001b[0;34m\u001b[0m\u001b[0m\n\u001b[1;32m     21\u001b[0m \u001b[0;34m\u001b[0m\u001b[0m\n",
      "\u001b[0;32m<ipython-input-243-36c899db716a>\u001b[0m in \u001b[0;36mcalculate_likelihood_change\u001b[0;34m(text, text_pair_count, ref_letter_percent, ref_transition_matrix, index1, index2, key)\u001b[0m\n\u001b[1;32m     11\u001b[0m         \u001b[0;32mif\u001b[0m \u001b[0mi\u001b[0m \u001b[0;34m!=\u001b[0m \u001b[0ml1\u001b[0m \u001b[0;32mand\u001b[0m \u001b[0mi\u001b[0m \u001b[0;34m!=\u001b[0m \u001b[0ml2\u001b[0m\u001b[0;34m:\u001b[0m\u001b[0;34m\u001b[0m\u001b[0;34m\u001b[0m\u001b[0m\n\u001b[1;32m     12\u001b[0m             \u001b[0mrow_change\u001b[0m \u001b[0;34m+=\u001b[0m \u001b[0;34m(\u001b[0m\u001b[0mtext_pair_count\u001b[0m\u001b[0;34m[\u001b[0m\u001b[0mi\u001b[0m\u001b[0;34m]\u001b[0m\u001b[0;34m[\u001b[0m\u001b[0ml1\u001b[0m\u001b[0;34m]\u001b[0m \u001b[0;34m-\u001b[0m \u001b[0mtext_pair_count\u001b[0m\u001b[0;34m[\u001b[0m\u001b[0mi\u001b[0m\u001b[0;34m]\u001b[0m\u001b[0;34m[\u001b[0m\u001b[0ml2\u001b[0m\u001b[0;34m]\u001b[0m\u001b[0;34m)\u001b[0m\u001b[0;31m\\\u001b[0m\u001b[0;34m\u001b[0m\u001b[0;34m\u001b[0m\u001b[0m\n\u001b[0;32m---> 13\u001b[0;31m             \u001b[0;34m*\u001b[0m \u001b[0;34m(\u001b[0m\u001b[0mlog\u001b[0m\u001b[0;34m(\u001b[0m\u001b[0mtransition_matrix\u001b[0m\u001b[0;34m[\u001b[0m\u001b[0mi\u001b[0m\u001b[0;34m]\u001b[0m\u001b[0;34m[\u001b[0m\u001b[0ml1\u001b[0m\u001b[0;34m]\u001b[0m\u001b[0;34m)\u001b[0m \u001b[0;34m-\u001b[0m \u001b[0mlog\u001b[0m\u001b[0;34m(\u001b[0m\u001b[0mtransition_matrix\u001b[0m\u001b[0;34m[\u001b[0m\u001b[0mi\u001b[0m\u001b[0;34m]\u001b[0m\u001b[0;34m[\u001b[0m\u001b[0ml2\u001b[0m\u001b[0;34m]\u001b[0m\u001b[0;34m)\u001b[0m\u001b[0;34m)\u001b[0m\u001b[0;34m\u001b[0m\u001b[0;34m\u001b[0m\u001b[0m\n\u001b[0m\u001b[1;32m     14\u001b[0m \u001b[0;34m\u001b[0m\u001b[0m\n\u001b[1;32m     15\u001b[0m     \u001b[0mchange\u001b[0m \u001b[0;34m=\u001b[0m \u001b[0mcolumn_change\u001b[0m \u001b[0;34m+\u001b[0m \u001b[0mrow_change\u001b[0m\u001b[0;34m\u001b[0m\u001b[0;34m\u001b[0m\u001b[0m\n",
      "\u001b[0;31mValueError\u001b[0m: math domain error"
     ]
    }
   ],
   "source": [
    "test_text = 'a'\n",
    "changed_text = 'e'\n",
    "text_letter_count = count_letters(test_text)\n",
    "text_pair_count = count_letter_pairs(test_text)\n",
    "\n",
    "\n",
    "\n",
    "one = find_pair_log_likelihood( test_text, bible_letter_percent, bible_matrix)\n",
    "two = find_pair_log_likelihood(changed_text, bible_letter_percent, bible_matrix)\n",
    "diff = (two - one)\n",
    "\n",
    "start_key = list(alpha_list)\n",
    "num_key = char_to_num(start_key)\n",
    "index1 = alpha_list.index(\"a\")\n",
    "index2 = alpha_list.index(\"e\")\n",
    "\n",
    "\n",
    "faster_calc = (calculate_likelihood_change(test_text, text_pair_count, bible_letter_percent, bible_matrix,\\\n",
    "                                  index1, index2, num_key))\n",
    "print(faster_calc)\n",
    "\n",
    "assert isclose(diff, faster_calc), 'should be equal'\n",
    "print(\"test passed\")"
   ]
  },
  {
   "cell_type": "code",
   "execution_count": 246,
   "metadata": {},
   "outputs": [],
   "source": [
    "def find_letter_num(text, letter_count):\n",
    "    return len(text) - letter_count[26]"
   ]
  },
  {
   "cell_type": "code",
   "execution_count": 247,
   "metadata": {},
   "outputs": [],
   "source": [
    "def find_solution_brute(ciphertext, percent_list):\n",
    "    solutions = []\n",
    "    for i in range(26):\n",
    "        plaintext = decode_caesar_cipher(ciphertext, i)\n",
    "        plaintext = ''.join(plaintext)\n",
    "        likely = find_log_likelihood(plaintext, percent_list)\n",
    "        solutions.append(likely)\n",
    "    return solutions"
   ]
  },
  {
   "cell_type": "code",
   "execution_count": 248,
   "metadata": {},
   "outputs": [],
   "source": [
    "def find_solution_brute_pairs(ciphertext, new_dict = {}, both_list = []):\n",
    "    solutions = []\n",
    "    for i in range(26):\n",
    "        plaintext = decode_caesar_cipher(ciphertext, i)\n",
    "        plaintext = ''.join(plaintext)\n",
    "        likely = find_pair_log_likelihood(plaintext, percent_list, transition_matrix)\n",
    "        solutions.append(likely)\n",
    "    return solutions"
   ]
  },
  {
   "cell_type": "code",
   "execution_count": null,
   "metadata": {},
   "outputs": [],
   "source": [
    "def ordered_solutions(ciphertext, function_name = find_solution_brute_pairs):\n",
    "    solution_list = []\n",
    "    solutions = (function_name(ciphertext, percent_list))\n",
    "    index_array = numpy.flipud(numpy.argsort(solutions))\n",
    "    for i in range(26):\n",
    "        solution_list.append(\"%02d: %s: %s\" % ((index_array[i]), ''.join(decode_caesar_cipher(ciphertext, index_array[i])), str(solutions[index_array[i]])))\n",
    "    return solution_list"
   ]
  },
  {
   "cell_type": "code",
   "execution_count": null,
   "metadata": {},
   "outputs": [],
   "source": [
    "def make_letters(file_name):\n",
    "    new_file = open('../data/' + file_name, 'r')\n",
    "    file = new_file.read()\n",
    "    file = file.lower()\n",
    "    #regular expressions is imported\n",
    "    #The next line takes out only the letters\n",
    "    return re.findall('[a-z]|\\ ', file)"
   ]
  },
  {
   "cell_type": "code",
   "execution_count": null,
   "metadata": {},
   "outputs": [],
   "source": [
    "def get_percent_lists(text_letters):\n",
    "    letter_count = count_letters(text_letters)\n",
    "    letter_num = find_letter_num(text_letters, letter_count)\n",
    "    percent_list = normalize_counts(letter_count)\n",
    "    pair_count = count_letter_pairs(text_letters)\n",
    "    transition_matrix = compute_transition_matrix(pair_count)\n",
    "    return percent_list, transition_matrix"
   ]
  },
  {
   "cell_type": "code",
   "execution_count": null,
   "metadata": {},
   "outputs": [],
   "source": [
    "def find_language(text, german_percent_list, german_transition_matrix, english_percent_list, english_transition_matrix):\n",
    "    german_likelihood = find_pair_log_likelihood(text, german_percent_list, german_transition_matrix)\n",
    "    english_likelihood = find_pair_log_likelihood(text, english_percent_list, english_transition_matrix)\n",
    "    if german_likelihood > english_likelihood:\n",
    "        return 'The text is most likely German'\n",
    "    else:\n",
    "        return 'The text is most likely English'"
   ]
  },
  {
   "cell_type": "code",
   "execution_count": null,
   "metadata": {},
   "outputs": [],
   "source": [
    "german_letters = make_letters('german_text.txt')\n",
    "german_list, german_pair_count = get_percent_lists(german_letters)\n",
    "english_letters = make_letters('bible.txt')\n",
    "english_list, english_pair_count = get_percent_lists(english_letters)\n",
    "print(find_language('hallo wie gehts du', german_list, german_pair_count, english_list, english_pair_count))"
   ]
  },
  {
   "cell_type": "code",
   "execution_count": null,
   "metadata": {},
   "outputs": [],
   "source": [
    "def decode_aris_no_key(ciphertext, start_key, guess_num = 3000):\n",
    "    count = 0\n",
    "    num_key = start_key\n",
    "    new_num_key = list(num_key)\n",
    "    for i in range(guess_num):\n",
    "        index1 = random.randint(0, 25)\n",
    "        index2 = random.randint(0, 25)\n",
    "        plaintext = decode_aris(ciphertext, num_key)\n",
    "        new_num_key[index1], new_num_key[index2] = num_key[index2], num_key[index1]\n",
    "        new_plaintext = decode_aris(ciphertext, new_num_key)\n",
    "        plaintext_likely = find_pair_log_likelihood(plaintext, percent_list, transition_matrix)\n",
    "        new_plaintext_likely = find_pair_log_likelihood(new_plaintext, percent_list, transition_matrix)\n",
    "        if new_plaintext_likely > plaintext_likely:\n",
    "            num_key = list(new_num_key)\n",
    "            pair_count[index1], pair_count[index2] = pair_count[index2], pair_count[index1]\n",
    "            count += 1\n",
    "        else:\n",
    "            new_num_key = list(num_key)\n",
    "        plaintext = decode_aris(ciphertext, num_key)\n",
    "        log_likelihood = find_pair_log_likelihood(plaintext, percent_list, transition_matrix)\n",
    "    return (''.join(decode_aris(ciphertext, num_key))), count, log_likelihood"
   ]
  },
  {
   "cell_type": "code",
   "execution_count": null,
   "metadata": {},
   "outputs": [],
   "source": [
    "def decode_aris_faster(ciphertext, start_key, text_pair_count, ref_letter_percent, \\\n",
    "                       ref_transition_matrix, guess_num = 3000):\n",
    "    num_key = start_key\n",
    "    new_num_key = list(num_key)\n",
    "    for i in range(guess_num):\n",
    "        index1 = random.randint(0, 25)\n",
    "        index2 = random.randint(0, 25)\n",
    "        while index1 == index2:\n",
    "            index1 = random.randint(0, 25)\n",
    "            index2 = random.randint(0, 25)\n",
    "        plaintext = decode_aris(ciphertext, num_key)\n",
    "        new_num_key[index1], new_num_key[index2] = int(num_key[index2]), int(num_key[index1])\n",
    "        change = calculate_likelihood_change(plaintext, text_pair_count, ref_letter_percent\\\n",
    "                                             , index1, index2, num_key)\n",
    "        if change > 0:\n",
    "            num_key = list(num_key)\n",
    "            text_pair_count[index1], text_pair_count[index2] = \\\n",
    "            text_pair_count[index2], text_pair_count[index1]\n",
    "        else:\n",
    "            new_num_key = list(num_key)\n",
    "    return(''.join(decode_aris(ciphertext, num_key)))\n",
    "        "
   ]
  },
  {
   "cell_type": "code",
   "execution_count": 220,
   "metadata": {},
   "outputs": [
    {
     "ename": "TypeError",
     "evalue": "calculate_likelihood_change() missing 1 required positional argument: 'key'",
     "output_type": "error",
     "traceback": [
      "\u001b[0;31m---------------------------------------------------------------------------\u001b[0m",
      "\u001b[0;31mTypeError\u001b[0m                                 Traceback (most recent call last)",
      "\u001b[0;32m<ipython-input-220-ccd7853528ec>\u001b[0m in \u001b[0;36m<module>\u001b[0;34m\u001b[0m\n\u001b[1;32m      7\u001b[0m \u001b[0mstart_key\u001b[0m \u001b[0;34m=\u001b[0m \u001b[0mmake_start_key\u001b[0m\u001b[0;34m(\u001b[0m\u001b[0mciphertext\u001b[0m\u001b[0;34m,\u001b[0m \u001b[0mref_percent_list\u001b[0m\u001b[0;34m)\u001b[0m\u001b[0;34m\u001b[0m\u001b[0;34m\u001b[0m\u001b[0m\n\u001b[1;32m      8\u001b[0m print(decode_aris_faster(ciphertext, start_key, text_pair_count, ref_percent_list, \\\n\u001b[0;32m----> 9\u001b[0;31m                         ref_transition_matrix))\n\u001b[0m",
      "\u001b[0;32m<ipython-input-215-0cb127c8e060>\u001b[0m in \u001b[0;36mdecode_aris_faster\u001b[0;34m(ciphertext, start_key, text_pair_count, ref_letter_percent, ref_transition_matrix, guess_num)\u001b[0m\n\u001b[1;32m     12\u001b[0m         \u001b[0mnew_num_key\u001b[0m\u001b[0;34m[\u001b[0m\u001b[0mindex1\u001b[0m\u001b[0;34m]\u001b[0m\u001b[0;34m,\u001b[0m \u001b[0mnew_num_key\u001b[0m\u001b[0;34m[\u001b[0m\u001b[0mindex2\u001b[0m\u001b[0;34m]\u001b[0m \u001b[0;34m=\u001b[0m \u001b[0mint\u001b[0m\u001b[0;34m(\u001b[0m\u001b[0mnum_key\u001b[0m\u001b[0;34m[\u001b[0m\u001b[0mindex2\u001b[0m\u001b[0;34m]\u001b[0m\u001b[0;34m)\u001b[0m\u001b[0;34m,\u001b[0m \u001b[0mint\u001b[0m\u001b[0;34m(\u001b[0m\u001b[0mnum_key\u001b[0m\u001b[0;34m[\u001b[0m\u001b[0mindex1\u001b[0m\u001b[0;34m]\u001b[0m\u001b[0;34m)\u001b[0m\u001b[0;34m\u001b[0m\u001b[0;34m\u001b[0m\u001b[0m\n\u001b[1;32m     13\u001b[0m         change = calculate_likelihood_change(plaintext, text_pair_count, ref_letter_percent\\\n\u001b[0;32m---> 14\u001b[0;31m                                              , index1, index2, num_key)\n\u001b[0m\u001b[1;32m     15\u001b[0m         \u001b[0;32mif\u001b[0m \u001b[0mchange\u001b[0m \u001b[0;34m>\u001b[0m \u001b[0;36m0\u001b[0m\u001b[0;34m:\u001b[0m\u001b[0;34m\u001b[0m\u001b[0;34m\u001b[0m\u001b[0m\n\u001b[1;32m     16\u001b[0m             \u001b[0mnum_key\u001b[0m \u001b[0;34m=\u001b[0m \u001b[0mlist\u001b[0m\u001b[0;34m(\u001b[0m\u001b[0mnum_key\u001b[0m\u001b[0;34m)\u001b[0m\u001b[0;34m\u001b[0m\u001b[0;34m\u001b[0m\u001b[0m\n",
      "\u001b[0;31mTypeError\u001b[0m: calculate_likelihood_change() missing 1 required positional argument: 'key'"
     ]
    }
   ],
   "source": [
    "ciphertext = encode_aris(eman_letters, make_rand_aris_key())\n",
    "text_pair_count = count_letter_pairs(ciphertext)\n",
    "letter_count = count_letters(bible_letters)\n",
    "ref_pair_count = count_letter_pairs(bible_letters)\n",
    "ref_percent_list = normalize_counts(letter_count)\n",
    "ref_transition_matrix = compute_transition_matrix(ref_pair_count)\n",
    "start_key = make_start_key(ciphertext, ref_percent_list)\n",
    "print(decode_aris_faster(ciphertext, start_key, text_pair_count, ref_percent_list, \\\n",
    "                        ref_transition_matrix))"
   ]
  },
  {
   "cell_type": "code",
   "execution_count": 196,
   "metadata": {},
   "outputs": [
    {
     "data": {
      "text/plain": [
       "\"\\nright = 0\\nwrong = 0\\neman_letters = make_letters('Emancipation_Proclamation.txt')\\nciphertext = (encode_aris(eman_letters, make_rand_aris_key()))\\nbible_letters = make_letters('bible.txt')\\nbible_percent_list, bible_transition_matrix = get_percent_lists(bible_letters)\\nfor i in range(100):\\n    decoded_text, count, log_likelihood = decode_aris_no_key(ciphertext, make_start_key(ciphertext, bible_percent_list))\\n    if (log_likelihood) == (find_pair_log_likelihood(eman_letters, percent_list, transition_matrix)):\\n        right += 1\\n    else:\\n        wrong += 1\\nprint('right: ' + str(right))\\n\""
      ]
     },
     "execution_count": 196,
     "metadata": {},
     "output_type": "execute_result"
    }
   ],
   "source": [
    "'''\n",
    "right = 0\n",
    "wrong = 0\n",
    "eman_letters = make_letters('Emancipation_Proclamation.txt')\n",
    "ciphertext = (encode_aris(eman_letters, make_rand_aris_key()))\n",
    "bible_letters = make_letters('bible.txt')\n",
    "bible_percent_list, bible_transition_matrix = get_percent_lists(bible_letters)\n",
    "for i in range(100):\n",
    "    decoded_text, count, log_likelihood = decode_aris_no_key(ciphertext, make_start_key(ciphertext, bible_percent_list))\n",
    "    if (log_likelihood) == (find_pair_log_likelihood(eman_letters, percent_list, transition_matrix)):\n",
    "        right += 1\n",
    "    else:\n",
    "        wrong += 1\n",
    "print('right: ' + str(right))\n",
    "'''"
   ]
  },
  {
   "cell_type": "code",
   "execution_count": 197,
   "metadata": {},
   "outputs": [
    {
     "name": "stdout",
     "output_type": "stream",
     "text": [
      "right: 0\n"
     ]
    }
   ],
   "source": [
    "print('right: ' + str(right))"
   ]
  },
  {
   "cell_type": "code",
   "execution_count": 198,
   "metadata": {},
   "outputs": [],
   "source": [
    "bible_letters = make_letters('bible.txt')\n",
    "crime_letters = make_letters('crime_and_punishment.txt')\n",
    "\n",
    "#For the first case, text = bible_letters for all\n",
    "letter_count = count_letters(bible_letters)\n",
    "letter_num = find_letter_num(bible_letters, letter_count)\n",
    "percent_list = normalize_counts(letter_count)\n",
    "pair_count = count_letter_pairs(bible_letters)\n",
    "transition_matrix = compute_transition_matrix(pair_count)"
   ]
  },
  {
   "cell_type": "code",
   "execution_count": 199,
   "metadata": {},
   "outputs": [
    {
     "name": "stdout",
     "output_type": "stream",
     "text": [
      "0.010133767865891324\n",
      "190037\n"
     ]
    }
   ],
   "source": [
    "#print(transition_matrix)\n",
    "print(transition_matrix[alpha_list.index(\" \")][alpha_list.index(\" \")])\n",
    "print(sum(pair_count[alpha_list.index('s')]))\n",
    "#0.0003554540226212538"
   ]
  },
  {
   "cell_type": "code",
   "execution_count": 200,
   "metadata": {},
   "outputs": [],
   "source": [
    "plaintext = 'queen'\n",
    "plaintext = (plaintext.lower())\n",
    "ciphertext = encode_caesar_cipher(plaintext, 3)\n",
    "solutions = []\n",
    "#print(find_solution_brute(ciphertext))\n",
    "solutions = (find_solution_brute_pairs(ciphertext))"
   ]
  },
  {
   "cell_type": "code",
   "execution_count": 201,
   "metadata": {},
   "outputs": [
    {
     "name": "stdout",
     "output_type": "stream",
     "text": [
      "Solutions using single letter frequencies\n",
      "23: doha: -11.346044075403249\n",
      "19: hsle: -11.386631024965762\n",
      "04: what: -11.959906651105367\n",
      "18: itmf: -13.331178590879514\n",
      "11: patm: -13.637679295303993\n",
      "22: epib: -14.22101177818302\n",
      "08: sdwp: -14.907310725370861\n",
      "15: lwpi: -15.082930692419485\n",
      "06: ufyr: -15.108844800510976\n",
      "09: rcvo: -15.113296850426812\n",
      "13: nyrk: -15.438097533492574\n",
      "16: kvoh: -15.510979193818972\n",
      "20: grkd: -15.848699780173737\n",
      "00: alex: -16.267399524731815\n",
      "25: bmfy: -16.400487321886825\n",
      "12: ozsl: -16.46949609117525\n",
      "17: jung: -17.12822404241328\n",
      "24: cngz: -18.639870027201777\n",
      "03: xibu: -19.193981196052746\n",
      "05: vgzs: -19.404250905258444\n",
      "10: qbun: -19.47334624424326\n",
      "02: yjcv: -19.48971821480123\n",
      "01: zkdw: -19.72816563312397\n",
      "07: texq: -21.02931832779837\n",
      "21: fqjc: -22.584685566030522\n",
      "14: mxqj: -26.246030842380268\n",
      "Solutions using letter pair frequencies\n",
      "21: fqjc: -3.8663044923337315\n",
      "14: mxqj: -3.910410849137751\n",
      "04: what: -9.678111088164991\n",
      "09: rcvo: -11.153353960982418\n",
      "17: jung: -11.684205871829102\n",
      "07: texq: -11.804445077548563\n",
      "10: qbun: -12.012839454201321\n",
      "02: yjcv: -12.203772752803282\n",
      "00: alex: -13.235349788252936\n",
      "23: doha: -13.964652484915787\n",
      "22: epib: -15.025759102446445\n",
      "05: vgzs: -15.799015086725664\n",
      "19: hsle: -15.812868399073874\n",
      "12: ozsl: -15.865026986598657\n",
      "11: patm: -16.018371231086896\n",
      "13: nyrk: -17.075495918491935\n",
      "18: itmf: -18.150232088806856\n",
      "03: xibu: -19.9433799319055\n",
      "06: ufyr: -19.98514320730079\n",
      "20: grkd: -20.64621802704191\n",
      "15: lwpi: -21.937524678179162\n",
      "16: kvoh: -22.962604616846118\n",
      "08: sdwp: -23.040858676943046\n",
      "25: bmfy: -23.625051192476313\n",
      "01: zkdw: -27.60514437600577\n",
      "24: cngz: -28.510239063490136\n"
     ]
    }
   ],
   "source": [
    "caesar_ciphertext = \"alex\"\n",
    "solution_list = ordered_solutions(caesar_ciphertext, find_solution_brute)\n",
    "print(\"Solutions using single letter frequencies\")\n",
    "for i in range(26):\n",
    "    print(solution_list[i])\n",
    "solution_list = ordered_solutions(caesar_ciphertext)\n",
    "print(\"Solutions using letter pair frequencies\")\n",
    "for i in range(26):\n",
    "    print(solution_list[i])"
   ]
  },
  {
   "cell_type": "code",
   "execution_count": 211,
   "metadata": {},
   "outputs": [],
   "source": [
    "def make_start_key(text, ref_percent_list):\n",
    "    start_key = []\n",
    "    text_letter_count = count_letters(text)\n",
    "    text_percent_list = normalize_counts(text_letter_count)\n",
    "    sorted_text_percent_list = list(text_percent_list)\n",
    "    sorted_text_percent_list.sort(reverse = True)\n",
    "    sorted_ref_percent_list = list(ref_percent_list)\n",
    "    sorted_ref_percent_list.sort(reverse = True)\n",
    "    for i in range(26):\n",
    "        start_key.append(0)\n",
    "    for i in range(26):\n",
    "        key_value = ref_percent_list.index(sorted_ref_percent_list[i])\n",
    "        key_index = text_percent_list.index(sorted_text_percent_list[i])\n",
    "        text_percent_list[key_index] = 0\n",
    "        start_key[key_index] = key_value\n",
    "    return start_key"
   ]
  },
  {
   "cell_type": "code",
   "execution_count": 221,
   "metadata": {},
   "outputs": [
    {
     "ename": "NameError",
     "evalue": "name 'normalize_counts_no_space' is not defined",
     "output_type": "error",
     "traceback": [
      "\u001b[0;31m---------------------------------------------------------------------------\u001b[0m",
      "\u001b[0;31mNameError\u001b[0m                                 Traceback (most recent call last)",
      "\u001b[0;32m<ipython-input-221-329688656818>\u001b[0m in \u001b[0;36m<module>\u001b[0;34m\u001b[0m\n\u001b[1;32m      2\u001b[0m \u001b[0mletter_count\u001b[0m \u001b[0;34m=\u001b[0m \u001b[0mcount_letters\u001b[0m\u001b[0;34m(\u001b[0m\u001b[0mbible_letters\u001b[0m\u001b[0;34m)\u001b[0m\u001b[0;34m\u001b[0m\u001b[0;34m\u001b[0m\u001b[0m\n\u001b[1;32m      3\u001b[0m \u001b[0mletter_num\u001b[0m \u001b[0;34m=\u001b[0m \u001b[0mfind_letter_num\u001b[0m\u001b[0;34m(\u001b[0m\u001b[0mbible_letters\u001b[0m\u001b[0;34m,\u001b[0m \u001b[0mletter_count\u001b[0m\u001b[0;34m)\u001b[0m\u001b[0;34m\u001b[0m\u001b[0;34m\u001b[0m\u001b[0m\n\u001b[0;32m----> 4\u001b[0;31m \u001b[0mpercent_list\u001b[0m \u001b[0;34m=\u001b[0m \u001b[0mnormalize_counts_no_space\u001b[0m\u001b[0;34m(\u001b[0m\u001b[0mletter_count\u001b[0m\u001b[0;34m)\u001b[0m\u001b[0;34m\u001b[0m\u001b[0;34m\u001b[0m\u001b[0m\n\u001b[0m\u001b[1;32m      5\u001b[0m \u001b[0mstart_key\u001b[0m \u001b[0;34m=\u001b[0m \u001b[0mmake_start_key\u001b[0m\u001b[0;34m(\u001b[0m\u001b[0meman_letters\u001b[0m\u001b[0;34m,\u001b[0m \u001b[0mpercent_list\u001b[0m\u001b[0;34m)\u001b[0m\u001b[0;34m\u001b[0m\u001b[0;34m\u001b[0m\u001b[0m\n\u001b[1;32m      6\u001b[0m \u001b[0mprint\u001b[0m\u001b[0;34m(\u001b[0m\u001b[0mstart_key\u001b[0m\u001b[0;34m)\u001b[0m\u001b[0;34m\u001b[0m\u001b[0;34m\u001b[0m\u001b[0m\n",
      "\u001b[0;31mNameError\u001b[0m: name 'normalize_counts_no_space' is not defined"
     ]
    }
   ],
   "source": [
    "eman_letters = make_letters('Emancipation_Proclamation.txt')\n",
    "letter_count = count_letters(bible_letters)\n",
    "letter_num = find_letter_num(bible_letters, letter_count)\n",
    "percent_list = normalize_counts_no_space(letter_count)\n",
    "start_key = make_start_key(eman_letters, percent_list)\n",
    "print(start_key)\n",
    "right = 0\n",
    "wrong = 0"
   ]
  },
  {
   "cell_type": "code",
   "execution_count": null,
   "metadata": {},
   "outputs": [],
   "source": []
  }
 ],
 "metadata": {
  "kernelspec": {
   "display_name": "Python 3",
   "language": "python",
   "name": "python3"
  },
  "language_info": {
   "codemirror_mode": {
    "name": "ipython",
    "version": 3
   },
   "file_extension": ".py",
   "mimetype": "text/x-python",
   "name": "python",
   "nbconvert_exporter": "python",
   "pygments_lexer": "ipython3",
   "version": "3.7.6"
  }
 },
 "nbformat": 4,
 "nbformat_minor": 4
}
