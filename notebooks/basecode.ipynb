{
 "cells": [
  {
   "cell_type": "code",
   "execution_count": 1,
   "metadata": {},
   "outputs": [
    {
     "name": "stdout",
     "output_type": "stream",
     "text": [
      "what did you say\n"
     ]
    }
   ],
   "source": [
    "text = \"WHAT DID YOU SAY\"\n",
    "text = text.lower()\n",
    "print(text)\n",
    "import random\n",
    "from utils import *\n",
    "#from ipynb.fs.full.zoecode import *\n",
    "import re\n",
    "from math import log\n",
    "from math import isclose\n",
    "import numpy"
   ]
  },
  {
   "cell_type": "markdown",
   "metadata": {},
   "source": [
    "## Some basic definitions\n",
    "\n",
    "I defined alpha_list as a list of all the letters in the alphabet with a space included. This helps assign each letter an index and is used in many definitions."
   ]
  },
  {
   "cell_type": "code",
   "execution_count": 8,
   "metadata": {},
   "outputs": [
    {
     "name": "stdout",
     "output_type": "stream",
     "text": [
      "['a', 'b', 'c', 'd', 'e', 'f', 'g', 'h', 'i', 'j', 'k', 'l', 'm', 'n', 'o', 'p', 'q', 'r', 's', 't', 'u', 'v', 'w', 'x', 'y', 'z', ' ']\n"
     ]
    }
   ],
   "source": [
    "print(alpha_list)"
   ]
  },
  {
   "cell_type": "markdown",
   "metadata": {},
   "source": [
    "The function `char_to_num`, takes a piece of text (a string of lowercase letters) and returns a list of the numerical values for each number, based on the indices in alpha_list. \n",
    "\n",
    "The function after that, `num_to_char`, reverses the effect, going from a series of numbers (ranged 0 - 26) to a string of lowercase letters returned as a list."
   ]
  },
  {
   "cell_type": "code",
   "execution_count": 9,
   "metadata": {},
   "outputs": [
    {
     "data": {
      "text/plain": [
       "[0, 1, 2]"
      ]
     },
     "execution_count": 9,
     "metadata": {},
     "output_type": "execute_result"
    }
   ],
   "source": [
    "char_to_num(\"abc\")"
   ]
  },
  {
   "cell_type": "code",
   "execution_count": 10,
   "metadata": {},
   "outputs": [
    {
     "data": {
      "text/plain": [
       "['y', 'w', 'a']"
      ]
     },
     "execution_count": 10,
     "metadata": {},
     "output_type": "execute_result"
    }
   ],
   "source": [
    "num_to_char([24,22,0])"
   ]
  },
  {
   "cell_type": "markdown",
   "metadata": {},
   "source": [
    "# A caesar cipher\n",
    "\n",
    "A caesar cipher is just a shift cipher.\n",
    "The function `encode_caesar_cipher` takes a piece of text and a key, and shifts each letter forwards by the key. For example, if the key was 3, an 'a' would become a 'd', a 'b' would become a 'e' , and so on. The function `decode_caesar_cipher` works much the same way, but instead of shifting the letters forwards, it shifts them backwards, effectively reversing the encoding of the cipher. However, this only works if you use the same key to encode and decode."
   ]
  },
  {
   "cell_type": "code",
   "execution_count": 11,
   "metadata": {},
   "outputs": [
    {
     "name": "stdout",
     "output_type": "stream",
     "text": [
      "['k', 'h', 'o', 'o', 'r']\n",
      "['h', 'e', 'l', 'l', 'o']\n"
     ]
    }
   ],
   "source": [
    "key = 3\n",
    "ciphertext = encode_caesar_cipher('hello', key)\n",
    "plaintext = decode_caesar_cipher(ciphertext,key)\n",
    "print(ciphertext)\n",
    "print(plaintext)"
   ]
  },
  {
   "cell_type": "markdown",
   "metadata": {},
   "source": [
    "## Aristocrat cipher\n",
    "\n",
    "An aristocrat cipher is a random substitution cipher. Each letter in the alphabet encodes to another letter. In this code, I often abbreviate aristocrat to 'aris'.\n",
    "`make_rand_aris_key` generates a random 'key' to be used in encoding and decoding an aristocrat. The key is a list of numbers. The index of the number is the letter that codes for another, and the number in the index is the number of the letter that it codes for. For example: index 0 represents 'a'. If the number at index 0 is 1, then whenever an 'a' comes up in a text, it would be encoded into a 'b', because b is the letter at index 1 of alpha_list."
   ]
  },
  {
   "cell_type": "markdown",
   "metadata": {},
   "source": [
    "The next two ciphers are similar to the encode and decode caesar ciphers. Instead of just shifting each letter, however, they use the key to encode and decode the letters."
   ]
  },
  {
   "cell_type": "code",
   "execution_count": 3,
   "metadata": {},
   "outputs": [
    {
     "name": "stdout",
     "output_type": "stream",
     "text": [
      "[7, 22, 12, 25, 6, 2, 17, 23, 18, 15, 9, 19, 3, 10, 0, 5, 8, 20, 14, 16, 13, 4, 21, 24, 1, 11]\n",
      "['x', 'g', 't', 't', 'a']\n",
      "['h', 'e', 'l', 'l', 'o']\n"
     ]
    }
   ],
   "source": [
    "key = make_rand_aris_key()\n",
    "print(key)\n",
    "ciphertext = encode_aris('hello', key)\n",
    "plaintext = decode_aris(ciphertext, key)\n",
    "print(ciphertext)\n",
    "print(plaintext)"
   ]
  },
  {
   "cell_type": "code",
   "execution_count": 90,
   "metadata": {},
   "outputs": [],
   "source": []
  },
  {
   "cell_type": "code",
   "execution_count": 233,
   "metadata": {},
   "outputs": [],
   "source": [
    "def switch_row_and_columns(text_pair_count, index1, index2):\n",
    "    text_1 = list(text_pair_count[index1])\n",
    "    text_pair_count[index1] = list(text_pair_count[index2])\n",
    "    text_pair_count[index2] = list(text_1)\n",
    "    for i in range(len(text_pair_count)):\n",
    "        value_i1 = int(text_pair_count[i][index1])\n",
    "        value_i2 = int(text_pair_count[i][index2])\n",
    "        text_pair_count[i][index1] = value_i2\n",
    "        text_pair_count[i][index2] = value_i1  "
   ]
  },
  {
   "cell_type": "code",
   "execution_count": 217,
   "metadata": {},
   "outputs": [],
   "source": [
    "def decode_aris_faster(ciphertext, start_key, text_pair_count, ref_letter_percent, \\\n",
    "                       ref_transition_matrix, guess_num = 3000):\n",
    "    count = 0\n",
    "    num_key = list(start_key)\n",
    "    for i in range(guess_num):\n",
    "        index1 = random.randint(0, 25)\n",
    "        index2 = random.randint(0, 25)\n",
    "        while index1 == index2:\n",
    "            index1 = random.randint(0, 25)\n",
    "        plaintext = decode_aris(ciphertext, num_key)\n",
    "        change = calculate_likelihood_change(plaintext, text_pair_count, ref_letter_percent,\\\n",
    "                                             ref_transition_matrix, index1, index2, num_key)\n",
    "        print(change)\n",
    "        print(num_key)\n",
    "        if change > 0:\n",
    "            num_1 = int(num_key[index1])\n",
    "            num_key[index1] = int(num_key[index2])\n",
    "            num_key[index2] = num_1\n",
    "            count += 1\n",
    "            print(count)\n",
    "            print(num_key)\n",
    "            switch_row_and_columns(text_pair_count, index1, index2)\n",
    "        print(num_key)\n",
    "    return(''.join(decode_aris(ciphertext, num_key)))\n",
    "\n",
    "        "
   ]
  },
  {
   "cell_type": "code",
   "execution_count": 235,
   "metadata": {},
   "outputs": [
    {
     "name": "stdout",
     "output_type": "stream",
     "text": [
      "[[1, 3, 2], [7, 9, 8], [4, 6, 5]]\n",
      "[[9, 7, 8], [3, 1, 2], [6, 4, 5]]\n"
     ]
    }
   ],
   "source": [
    "\n"
   ]
  },
  {
   "cell_type": "code",
   "execution_count": 2,
   "metadata": {},
   "outputs": [
    {
     "ename": "ValueError",
     "evalue": "0.07956805910770105 is not in list",
     "output_type": "error",
     "traceback": [
      "\u001b[0;31m---------------------------------------------------------------------------\u001b[0m",
      "\u001b[0;31mValueError\u001b[0m                                Traceback (most recent call last)",
      "\u001b[0;32m<ipython-input-2-8e5a03d931f2>\u001b[0m in \u001b[0;36m<module>\u001b[0;34m\u001b[0m\n\u001b[1;32m      7\u001b[0m \u001b[0mref_percent_list\u001b[0m \u001b[0;34m=\u001b[0m \u001b[0mnormalize_counts_no_spaces\u001b[0m\u001b[0;34m(\u001b[0m\u001b[0mletter_count\u001b[0m\u001b[0;34m)\u001b[0m\u001b[0;34m\u001b[0m\u001b[0;34m\u001b[0m\u001b[0m\n\u001b[1;32m      8\u001b[0m \u001b[0mref_transition_matrix\u001b[0m \u001b[0;34m=\u001b[0m \u001b[0mcompute_transition_matrix\u001b[0m\u001b[0;34m(\u001b[0m\u001b[0mref_pair_count\u001b[0m\u001b[0;34m,\u001b[0m \u001b[0;36m0.5\u001b[0m\u001b[0;34m)\u001b[0m\u001b[0;34m\u001b[0m\u001b[0;34m\u001b[0m\u001b[0m\n\u001b[0;32m----> 9\u001b[0;31m \u001b[0mstart_key\u001b[0m \u001b[0;34m=\u001b[0m \u001b[0mmake_start_key\u001b[0m\u001b[0;34m(\u001b[0m\u001b[0mciphertext\u001b[0m\u001b[0;34m,\u001b[0m \u001b[0mref_percent_list\u001b[0m\u001b[0;34m)\u001b[0m\u001b[0;34m\u001b[0m\u001b[0;34m\u001b[0m\u001b[0m\n\u001b[0m",
      "\u001b[0;32m~/zoecoding/decoder/notebooks/utils.py\u001b[0m in \u001b[0;36mmake_start_key\u001b[0;34m(text, ref_percent_list)\u001b[0m\n\u001b[1;32m    290\u001b[0m     \u001b[0;32mfor\u001b[0m \u001b[0mi\u001b[0m \u001b[0;32min\u001b[0m \u001b[0mrange\u001b[0m\u001b[0;34m(\u001b[0m\u001b[0;36m26\u001b[0m\u001b[0;34m)\u001b[0m\u001b[0;34m:\u001b[0m\u001b[0;34m\u001b[0m\u001b[0;34m\u001b[0m\u001b[0m\n\u001b[1;32m    291\u001b[0m         \u001b[0mkey_index\u001b[0m \u001b[0;34m=\u001b[0m \u001b[0mref_percent_list\u001b[0m\u001b[0;34m.\u001b[0m\u001b[0mindex\u001b[0m\u001b[0;34m(\u001b[0m\u001b[0msorted_ref_percent_list\u001b[0m\u001b[0;34m[\u001b[0m\u001b[0mi\u001b[0m\u001b[0;34m]\u001b[0m\u001b[0;34m)\u001b[0m\u001b[0;34m\u001b[0m\u001b[0;34m\u001b[0m\u001b[0m\n\u001b[0;32m--> 292\u001b[0;31m         \u001b[0mkey_value\u001b[0m \u001b[0;34m=\u001b[0m \u001b[0mtext_percent_list\u001b[0m\u001b[0;34m.\u001b[0m\u001b[0mindex\u001b[0m\u001b[0;34m(\u001b[0m\u001b[0msorted_text_percent_list\u001b[0m\u001b[0;34m[\u001b[0m\u001b[0mi\u001b[0m\u001b[0;34m]\u001b[0m\u001b[0;34m)\u001b[0m\u001b[0;34m\u001b[0m\u001b[0;34m\u001b[0m\u001b[0m\n\u001b[0m\u001b[1;32m    293\u001b[0m         \u001b[0mstart_key\u001b[0m\u001b[0;34m[\u001b[0m\u001b[0mkey_index\u001b[0m\u001b[0;34m]\u001b[0m \u001b[0;34m=\u001b[0m \u001b[0mkey_value\u001b[0m\u001b[0;34m\u001b[0m\u001b[0;34m\u001b[0m\u001b[0m\n\u001b[1;32m    294\u001b[0m         \u001b[0mtext_percent_list\u001b[0m\u001b[0;34m[\u001b[0m\u001b[0mkey_index\u001b[0m\u001b[0;34m]\u001b[0m \u001b[0;34m=\u001b[0m \u001b[0;34m-\u001b[0m\u001b[0;36m1\u001b[0m\u001b[0;34m\u001b[0m\u001b[0;34m\u001b[0m\u001b[0m\n",
      "\u001b[0;31mValueError\u001b[0m: 0.07956805910770105 is not in list"
     ]
    }
   ],
   "source": [
    "eman_letters = make_letters('../data/Emancipation_Proclamation.txt')\n",
    "ciphertext = encode_aris(eman_letters, make_rand_aris_key())\n",
    "text_pair_count = count_letter_pairs(ciphertext)\n",
    "bible_letters = make_letters('../data/bible.txt')\n",
    "letter_count = count_letters(bible_letters)\n",
    "ref_pair_count = count_letter_pairs(bible_letters)\n",
    "ref_percent_list = normalize_counts_no_spaces(letter_count)\n",
    "ref_transition_matrix = compute_transition_matrix(ref_pair_count, 0.5)\n",
    "start_key = make_start_key(ciphertext, ref_percent_list)"
   ]
  },
  {
   "cell_type": "code",
   "execution_count": null,
   "metadata": {},
   "outputs": [],
   "source": []
  },
  {
   "cell_type": "code",
   "execution_count": null,
   "metadata": {},
   "outputs": [],
   "source": [
    "print(''.join(decode_aris(ciphertext, start_key)))\n",
    "plaintext = (decode_aris_faster(ciphertext, start_key, text_pair_count, ref_percent_list, \\\n",
    "                        ref_transition_matrix))\n",
    "#print(find_pair_log_likelihood(plaintext, ref_percent_list, ref_transition_matrix))\n",
    "#print(find_pair_log_likelihood(eman_letters, ref_percent_list, ref_transition_matrix))"
   ]
  },
  {
   "cell_type": "code",
   "execution_count": 219,
   "metadata": {},
   "outputs": [
    {
     "data": {
      "text/plain": [
       "'qglwgmx  g rmglbkmupruvlfx rys pmsbuislr vt rys wlursi brgrsb vt ghsmukgg pmvkzghgruvlcysmsgb vl rys rcslrxbskvli igx vt bsprshfsm ul rys xsgm vt vwm zvmi vls ryvwbgli sunyr ywlimsi gli budrxrcv g pmvkzghgruvl cgb ubbwsi fx rys pmsbuislr vt rys wlursi brgrsb kvlrgululn ghvln vrysm ryulnb rys tvzzvculn rv currygr vl rys tumbr igx vt qglwgmx ul rys xsgm vt vwm zvmi vls ryvwbgli sunyr ywlimsi gli budrxrymss gzz psmbvlb yszi gb bzgjsb curyul glx brgrs vm isbunlgrsi pgmr vt g brgrs rys psvpzs cysmsvt bygzz rysl fs ul msfszzuvl gngulbr rys wlursi brgrsb bygzz fs rysl ryslkstvmcgmi gli tvmsjsm tmss gli rys sdskwrujs nvjsmlhslr vt rys wlursi brgrsb ulkzwiuln rys huzurgmx gli lgjgz gwryvmurx rysmsvt cuzz mskvnluos gli hgulrgul rys tmssivh vt bwky psmbvlb gli cuzz iv lv gkr vm gkrb rv mspmsbb bwky psmbvlb vm glx vt rysh ul glx sttvmrb rysx hgx hges tvm rysum gkrwgz tmssivhrygr rys sdskwrujs cuzz vl rys tumbr igx vt qglwgmx gtvmsbgui fx pmvkzghgruvl isbunlgrs rys brgrsb gli pgmrb vt brgrsb ut glx ul cyuky rys psvpzs rysmsvt msbpskrujszx bygzz rysl fs ul msfszzuvl gngulbr rys wlursi brgrsb gli rys tgkr rygr glx brgrs vm rys psvpzs rysmsvt bygzz vl rygr igx fs ul nvvi tgury mspmsbslrsi ul rys kvlnmsbb vt rys wlursi brgrsb fx hshfsmb kyvbsl rysmsrv gr szskruvlb cysmsul g hgqvmurx vt rys awgzutusi jvrsmb vt bwky brgrs bygzz ygjs pgmrukupgrsi bygzz ul rys gfbslks vt brmvln kvwlrsmjguzuln rsbruhvlx fs isshsi kvlkzwbujs sjuislks rygr bwky brgrs gli rys psvpzs rysmsvt gms lvr rysl ul msfszzuvl gngulbr rys wlursi brgrsblvc rysmstvms u gfmgygh zulkvzl pmsbuislr vt rys wlursi brgrsb fx jumrws vt rys pvcsm ul hs jsbrsi gb kvhhglismulkyust vt rys gmhx gli lgjx vt rys wlursi brgrsb ul ruhs vt gkrwgz gmhsi msfszzuvl gngulbr rys gwryvmurx gli nvjsmlhslr vt rys wlursi brgrsb gli gb g tur gli lsksbbgmx cgm hsgbwms tvm bwppmsbbuln bgui msfszzuvl iv vl ryub tumbr igx vt qglwgmx ul rys xsgm vt vwm zvmi vls ryvwbgli sunyr ywlimsi gli budrxrymss gli ul gkkvmiglks cury hx pwmpvbs bv rv iv pwfzukzx pmvkzguhsi tvm rys twzz psmuvi vt vls ywlimsi igxb tmvh rys igx tumbr gfvjs hslruvlsi vmism gli isbunlgrs gb rys brgrsb gli pgmrb vt brgrsb cysmsul rys psvpzs rysmsvt msbpskrujszx gms ryub igx ul msfszzuvl gngulbr rys wlursi brgrsb rys tvzzvculn rv curgmeglbgb rsdgb zvwubuglg sdkspr rys pgmubysb vt br fsmlgmi pzgawshulsb qsttsmbvl br qvyl br kygmzsb br qghsb gbkslbuvl gbbwhpruvl rsmmsfvlls zgtvwmkys br hgmx br hgmrul gli vmzsglb ulkzwiuln rys kurx vt lsc vmzsglb hubbubbuppu gzgfghg tzvmuig nsvmnug bvwry kgmvzulg lvmry kgmvzulg gli jumnulug sdkspr rys tvmrxsunyr kvwlrusb isbunlgrsi gb csbr jumnulug gli gzbv rys kvwlrusb vt fsmezsx gkkvhgk lvmryghprvl szuogfsry kurx xvme pmulksbb gll gli lvmtvze ulkzwiuln rys kurusb vt lvmtvze gli pvmrbhvwry gli cyuky sdksprsi pgmrb gms tvm rys pmsbslr zstr pmskubszx gb ut ryub pmvkzghgruvl csms lvr ubbwsigli fx jumrws vt rys pvcsm gli tvm rys pwmpvbs gtvmsbgui u iv vmism gli iskzgms rygr gzz psmbvlb yszi gb bzgjsb curyul bgui isbunlgrsi brgrsb gli pgmrb vt brgrsb gms gli yslkstvmcgmi bygzz fs tmss gli rygr rys sdskwrujs nvjsmlhslr vt rys wlursi brgrsb ulkzwiuln rys huzurgmx gli lgjgz gwryvmurusb rysmsvt cuzz mskvnluos gli hgulrgul rys tmssivh vt bgui psmbvlbgli u ysmsfx slqvul wpvl rys psvpzs bv iskzgmsi rv fs tmss rv gfbrgul tmvh gzz juvzslks wlzsbb ul lsksbbgmx bsztistslks gli u mskvhhsli rv rysh rygr ul gzz kgbsb cysl gzzvcsi rysx zgfvm tgurytwzzx tvm msgbvlgfzs cgnsbgli u twmrysm iskzgms gli hges elvcl rygr bwky psmbvlb vt bwurgfzs kvliuruvl cuzz fs msksujsi ulrv rys gmhsi bsmjuks vt rys wlursi brgrsb rv ngmmubvl tvmrb pvburuvlb brgruvlb gli vrysm pzgksb gli rv hgl jsbbszb vt gzz bvmrb ul bgui bsmjuksgli wpvl ryub gkr bulksmszx fszusjsi rv fs gl gkr vt qwbruks cgmmglrsi fx rys kvlbrurwruvl wpvl huzurgmx lsksbburx u uljves rys kvlbuismgrs qwinhslr vt hgleuli gli rys nmgkuvwb tgjvm vt gzhunyrx nviul curlsbb cysmsvt u ygjs ysmswlrv bsr hx ygli gli kgwbsi rys bsgz vt rys wlursi brgrsb rv fs gttudsiivls gr rys kurx vt cgbyulnrvl ryub tumbr igx vt qglwgmx ul rys xsgm vt vwm zvmi vls ryvwbgli sunyr ywlimsi gli budrx rymss gli vt rys ulispslislks vt rys wlursi brgrsb vt ghsmukg rys sunyrxbsjslryfx rys pmsbuislr gfmgygh zulkvzlcuzzugh y bscgmi bskmsrgmx vt brgrs'"
      ]
     },
     "execution_count": 219,
     "metadata": {},
     "output_type": "execute_result"
    }
   ],
   "source": [
    "plaintext"
   ]
  },
  {
   "cell_type": "code",
   "execution_count": 220,
   "metadata": {},
   "outputs": [
    {
     "name": "stdout",
     "output_type": "stream",
     "text": [
      "-20639.119499883032\n",
      "-20279.34705856185\n"
     ]
    }
   ],
   "source": [
    "print(find_pair_log_likelihood(plaintext, ref_percent_list, ref_transition_matrix))\n",
    "print(find_pair_log_likelihood(decode_aris(eman_letters, start_key), ref_percent_list, ref_transition_matrix))"
   ]
  },
  {
   "cell_type": "code",
   "execution_count": 94,
   "metadata": {},
   "outputs": [
    {
     "data": {
      "text/plain": [
       "\"\\nright = 0\\nwrong = 0\\neman_letters = make_letters('Emancipation_Proclamation.txt')\\nciphertext = (encode_aris(eman_letters, make_rand_aris_key()))\\nbible_letters = make_letters('bible.txt')\\nbible_percent_list, bible_transition_matrix = get_percent_lists(bible_letters)\\nfor i in range(100):\\n    decoded_text, count, log_likelihood = decode_aris_no_key(ciphertext, make_start_key(ciphertext, bible_percent_list))\\n    if (log_likelihood) == (find_pair_log_likelihood(eman_letters, percent_list, transition_matrix)):\\n        right += 1\\n    else:\\n        wrong += 1\\nprint('right: ' + str(right))\\n\""
      ]
     },
     "execution_count": 94,
     "metadata": {},
     "output_type": "execute_result"
    }
   ],
   "source": [
    "'''\n",
    "\n",
    "'''"
   ]
  },
  {
   "cell_type": "code",
   "execution_count": null,
   "metadata": {},
   "outputs": [],
   "source": [
    "print('right: ' + str(right))"
   ]
  },
  {
   "cell_type": "code",
   "execution_count": null,
   "metadata": {},
   "outputs": [],
   "source": [
    "bible_letters = make_letters('bible.txt')\n",
    "crime_letters = make_letters('crime_and_punishment.txt')\n",
    "\n",
    "#For the first case, text = bible_letters for all\n",
    "letter_count = count_letters(bible_letters)\n",
    "percent_list = normalize_counts_no_spaces(letter_count)\n",
    "pair_count = count_letter_pairs(bible_letters)\n",
    "transition_matrix = compute_transition_matrix(pair_count)"
   ]
  },
  {
   "cell_type": "code",
   "execution_count": null,
   "metadata": {},
   "outputs": [],
   "source": [
    "#print(transition_matrix)\n",
    "print(transition_matrix[alpha_list.index(\" \")][alpha_list.index(\" \")])\n",
    "print(sum(pair_count[alpha_list.index('s')]))\n",
    "#0.0003554540226212538"
   ]
  },
  {
   "cell_type": "code",
   "execution_count": null,
   "metadata": {},
   "outputs": [],
   "source": [
    "plaintext = 'queen'\n",
    "plaintext = (plaintext.lower())\n",
    "ciphertext = encode_caesar_cipher(plaintext, 3)\n",
    "solutions = []\n",
    "#print(find_solution_brute(ciphertext))\n",
    "solutions = (find_solution_brute_pairs(ciphertext))"
   ]
  },
  {
   "cell_type": "code",
   "execution_count": null,
   "metadata": {},
   "outputs": [],
   "source": [
    "caesar_ciphertext = \"alex\"\n",
    "solution_list = ordered_solutions(caesar_ciphertext, find_solution_brute)\n",
    "print(\"Solutions using single letter frequencies\")\n",
    "for i in range(26):\n",
    "    print(solution_list[i])\n",
    "solution_list = ordered_solutions(caesar_ciphertext)\n",
    "print(\"Solutions using letter pair frequencies\")\n",
    "for i in range(26):\n",
    "    print(solution_list[i])"
   ]
  },
  {
   "cell_type": "code",
   "execution_count": 168,
   "metadata": {},
   "outputs": [],
   "source": []
  },
  {
   "cell_type": "code",
   "execution_count": 170,
   "metadata": {},
   "outputs": [
    {
     "name": "stdout",
     "output_type": "stream",
     "text": [
      "[13, 1, 6, 3, 4, 5, 12, 0, 8, 23, 9, 11, 20, 18, 14, 22, 16, 7, 17, 19, 2, 21, 24, 25, 15, 10]\n",
      "sfalfwn  f jwfazmwrtjrqaon jub twbzrebaj qg jub larjbe zjfjbz qg fdbwrmff twqmhfdfjrqayubwbfz qa jub jybajnzbmqae efn qg zbtjbdobw ra jub nbfw qg qlw hqwe qab juqlzfae brpuj ulaewbe fae zrijnjyq f twqmhfdfjrqa yfz rzzlbe on jub twbzrebaj qg jub larjbe zjfjbz mqajfrarap fdqap qjubw jurapz jub gqhhqyrap jq yrjjufj qa jub grwzj efn qg sfalfwn ra jub nbfw qg qlw hqwe qab juqlzfae brpuj ulaewbe fae zrijnjuwbb fhh tbwzqaz ubhe fz zhfxbz yrjura fan zjfjb qw ebzrpafjbe tfwj qg f zjfjb jub tbqthb yubwbqg zufhh juba ob ra wbobhhrqa fpfrazj jub larjbe zjfjbz zufhh ob juba jubambgqwyfwe fae gqwbxbw gwbb fae jub bibmljrxb pqxbwadbaj qg jub larjbe zjfjbz ramhlerap jub drhrjfwn fae afxfh fljuqwrjn jubwbqg yrhh wbmqparkb fae dfrajfra jub gwbbeqd qg zlmu tbwzqaz fae yrhh eq aq fmj qw fmjz jq wbtwbzz zlmu tbwzqaz qw fan qg jubd ra fan bggqwjz jubn dfn dfvb gqw jubrw fmjlfh gwbbeqdjufj jub bibmljrxb yrhh qa jub grwzj efn qg sfalfwn fgqwbzfre on twqmhfdfjrqa ebzrpafjb jub zjfjbz fae tfwjz qg zjfjbz rg fan ra yurmu jub tbqthb jubwbqg wbztbmjrxbhn zufhh juba ob ra wbobhhrqa fpfrazj jub larjbe zjfjbz fae jub gfmj jufj fan zjfjb qw jub tbqthb jubwbqg zufhh qa jufj efn ob ra pqqe gfrju wbtwbzbajbe ra jub mqapwbzz qg jub larjbe zjfjbz on dbdobwz muqzba jubwbjq fj bhbmjrqaz yubwbra f dfsqwrjn qg jub clfhrgrbe xqjbwz qg zlmu zjfjb zufhh ufxb tfwjrmrtfjbe zufhh ra jub fozbamb qg zjwqap mqlajbwxfrhrap jbzjrdqan ob ebbdbe mqamhlzrxb bxrebamb jufj zlmu zjfjb fae jub tbqthb jubwbqg fwb aqj juba ra wbobhhrqa fpfrazj jub larjbe zjfjbzaqy jubwbgqwb r fowfufd hramqha twbzrebaj qg jub larjbe zjfjbz on xrwjlb qg jub tqybw ra db xbzjbe fz mqddfaebwramurbg qg jub fwdn fae afxn qg jub larjbe zjfjbz ra jrdb qg fmjlfh fwdbe wbobhhrqa fpfrazj jub fljuqwrjn fae pqxbwadbaj qg jub larjbe zjfjbz fae fz f grj fae abmbzzfwn yfw dbfzlwb gqw zlttwbzzrap zfre wbobhhrqa eq qa jurz grwzj efn qg sfalfwn ra jub nbfw qg qlw hqwe qab juqlzfae brpuj ulaewbe fae zrijnjuwbb fae ra fmmqwefamb yrju dn tlwtqzb zq jq eq tlohrmhn twqmhfrdbe gqw jub glhh tbwrqe qg qab ulaewbe efnz gwqd jub efn grwzj foqxb dbajrqabe qwebw fae ebzrpafjb fz jub zjfjbz fae tfwjz qg zjfjbz yubwbra jub tbqthb jubwbqg wbztbmjrxbhn fwb jurz efn ra wbobhhrqa fpfrazj jub larjbe zjfjbz jub gqhhqyrap jq yrjfwvfazfz jbifz hqlrzrfaf bimbtj jub tfwrzubz qg zj obwafwe thfclbdrabz sbggbwzqa zj squa zj mufwhbz zj sfdbz fzmbazrqa fzzldtjrqa jbwwboqaab hfgqlwmub zj dfwn zj dfwjra fae qwhbfaz ramhlerap jub mrjn qg aby qwhbfaz drzzrzzrttr fhfofdf ghqwref pbqwprf zqlju mfwqhraf aqwju mfwqhraf fae xrwprarf bimbtj jub gqwjnbrpuj mqlajrbz ebzrpafjbe fz ybzj xrwprarf fae fhzq jub mqlajrbz qg obwvhbn fmmqdfm aqwjufdtjqa bhrkfobju mrjn nqwv twrambzz faa fae aqwgqhv ramhlerap jub mrjrbz qg aqwgqhv fae tqwjzdqlju fae yurmu bimbtjbe tfwjz fwb gqw jub twbzbaj hbgj twbmrzbhn fz rg jurz twqmhfdfjrqa ybwb aqj rzzlbefae on xrwjlb qg jub tqybw fae gqw jub tlwtqzb fgqwbzfre r eq qwebw fae ebmhfwb jufj fhh tbwzqaz ubhe fz zhfxbz yrjura zfre ebzrpafjbe zjfjbz fae tfwjz qg zjfjbz fwb fae ubambgqwyfwe zufhh ob gwbb fae jufj jub bibmljrxb pqxbwadbaj qg jub larjbe zjfjbz ramhlerap jub drhrjfwn fae afxfh fljuqwrjrbz jubwbqg yrhh wbmqparkb fae dfrajfra jub gwbbeqd qg zfre tbwzqazfae r ubwbon basqra ltqa jub tbqthb zq ebmhfwbe jq ob gwbb jq fozjfra gwqd fhh xrqhbamb lahbzz ra abmbzzfwn zbhgebgbamb fae r wbmqddbae jq jubd jufj ra fhh mfzbz yuba fhhqybe jubn hfoqw gfrjuglhhn gqw wbfzqafohb yfpbzfae r glwjubw ebmhfwb fae dfvb vaqya jufj zlmu tbwzqaz qg zlrjfohb mqaerjrqa yrhh ob wbmbrxbe rajq jub fwdbe zbwxrmb qg jub larjbe zjfjbz jq pfwwrzqa gqwjz tqzrjrqaz zjfjrqaz fae qjubw thfmbz fae jq dfa xbzzbhz qg fhh zqwjz ra zfre zbwxrmbfae ltqa jurz fmj zrambwbhn obhrbxbe jq ob fa fmj qg slzjrmb yfwwfajbe on jub mqazjrjljrqa ltqa drhrjfwn abmbzzrjn r raxqvb jub mqazrebwfjb slepdbaj qg dfavrae fae jub pwfmrqlz gfxqw qg fhdrpujn pqera yrjabzz yubwbqg r ufxb ubwblajq zbj dn ufae fae mflzbe jub zbfh qg jub larjbe zjfjbz jq ob fggribeeqab fj jub mrjn qg yfzurapjqa jurz grwzj efn qg sfalfwn ra jub nbfw qg qlw hqwe qab juqlzfae brpuj ulaewbe fae zrijn juwbb fae qg jub raebtbaebamb qg jub larjbe zjfjbz qg fdbwrmf jub brpujnzbxbajuon jub twbzrebaj fowfufd hramqhayrhhrfd u zbyfwe zbmwbjfwn qg zjfjb\n"
     ]
    }
   ],
   "source": [
    "eman_letters = make_letters('Emancipation_Proclamation.txt')\n",
    "#ciphertext = encode_aris(eman_letters, make_rand_aris_key())\n",
    "ref_letter_count = count_letters(bible_letters, 0.5)\n",
    "ref_percent_list = normalize_counts_no_spaces(ref_letter_count)\n",
    "start_key = make_start_key(eman_letters, ref_percent_list)\n",
    "right = 0\n",
    "wrong = 0\n",
    "plaintext = (''.join(decode_aris(ciphertext, start_key)))\n",
    "print(start_key)\n",
    "#print(plaintext)"
   ]
  },
  {
   "cell_type": "code",
   "execution_count": 129,
   "metadata": {},
   "outputs": [
    {
     "data": {
      "text/plain": [
       "26"
      ]
     },
     "execution_count": 129,
     "metadata": {},
     "output_type": "execute_result"
    }
   ],
   "source": [
    "len(ref_percent_list)"
   ]
  },
  {
   "cell_type": "code",
   "execution_count": null,
   "metadata": {},
   "outputs": [],
   "source": [
    "print(start_key)\n",
    "print(start_key.index(16))"
   ]
  }
 ],
 "metadata": {
  "kernelspec": {
   "display_name": "Python 3",
   "language": "python",
   "name": "python3"
  },
  "language_info": {
   "codemirror_mode": {
    "name": "ipython",
    "version": 3
   },
   "file_extension": ".py",
   "mimetype": "text/x-python",
   "name": "python",
   "nbconvert_exporter": "python",
   "pygments_lexer": "ipython3",
   "version": "3.7.6"
  }
 },
 "nbformat": 4,
 "nbformat_minor": 4
}
