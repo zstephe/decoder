{
 "cells": [
  {
   "cell_type": "code",
   "execution_count": 463,
   "metadata": {},
   "outputs": [
    {
     "name": "stdout",
     "output_type": "stream",
     "text": [
      "what did you say\n"
     ]
    }
   ],
   "source": [
    "text = \"WHAT DID YOU SAY\"\n",
    "text = text.lower()\n",
    "print(text)\n",
    "import random\n",
    "#from ipynb.fs.full.zoecode import *\n",
    "import re\n",
    "from math import log\n",
    "from math import isclose\n",
    "import numpy"
   ]
  },
  {
   "cell_type": "markdown",
   "metadata": {},
   "source": [
    "alpha_list is just a list of all the letters in the alphabet with a space included. This helps assign each letter an index and is used in many definitions."
   ]
  },
  {
   "cell_type": "code",
   "execution_count": 369,
   "metadata": {},
   "outputs": [],
   "source": [
    "alpha_list = ['a', 'b', 'c', 'd', 'e', 'f', 'g', 'h', 'i', 'j', 'k', 'l', 'm', 'n', 'o', \n",
    "             'p','q', 'r', 's', 't', 'u', 'v', 'w', 'x', 'y', 'z', ' ']"
   ]
  },
  {
   "cell_type": "markdown",
   "metadata": {},
   "source": [
    "The function char_to_num, takes a piece of text (a string of lowercase letters) and returns a list of the numerical values for each number, based on the indices in alpha_list. \n",
    "\n",
    "The function after that, num_to_char, reverses the effect, going from a series of numbers (ranged 0 - 26) to a string of lowercase letters returned as a list."
   ]
  },
  {
   "cell_type": "code",
   "execution_count": 370,
   "metadata": {},
   "outputs": [],
   "source": [
    "def char_to_num(char_text):\n",
    "    num_text = []\n",
    "    for letter in char_text:\n",
    "        num_text.append(alpha_list.index(letter))\n",
    "    return num_text"
   ]
  },
  {
   "cell_type": "code",
   "execution_count": 371,
   "metadata": {},
   "outputs": [],
   "source": [
    "def num_to_char(num_text):\n",
    "    char_text = []\n",
    "    for num in num_text:\n",
    "        char_text.append(alpha_list[num])\n",
    "    return char_text"
   ]
  },
  {
   "cell_type": "markdown",
   "metadata": {},
   "source": [
    "A caesar cipher is just a shift cipher.\n",
    "encode_caesar_cipher takes a piece of text and a key, and shifts each letter forwards by the key. For example, if the key was 3, an 'a' would become a 'd', a 'b' would become a 'e' , and so on. decode_caesar_cipher works much the same way, but instead of shifting the letters forwards, it shifts them backwards, effectively reversing the encoding of the cipher. This only works if you use the same key to encode and decode, however."
   ]
  },
  {
   "cell_type": "code",
   "execution_count": 372,
   "metadata": {},
   "outputs": [],
   "source": [
    "def encode_caesar_cipher(plaintext, key):\n",
    "    ciphertext_num = []\n",
    "    plaintext_num = char_to_num(plaintext)\n",
    "    for num in plaintext_num:\n",
    "        if num != 26: #num 26 is a space\n",
    "            num += key\n",
    "            num = num % 26\n",
    "        ciphertext_num.append(num)\n",
    "    ciphertext = num_to_char(ciphertext_num)\n",
    "    return ciphertext"
   ]
  },
  {
   "cell_type": "code",
   "execution_count": 373,
   "metadata": {},
   "outputs": [],
   "source": [
    "def decode_caesar_cipher(ciphertext, key):\n",
    "    plaintext_num = []\n",
    "    ciphertext_num = char_to_num(ciphertext)\n",
    "    for num in ciphertext_num:\n",
    "        if num != 26: #num 26 is a space\n",
    "            num -= key\n",
    "            num = num % 26\n",
    "        plaintext_num.append(num)\n",
    "    plaintext = num_to_char(plaintext_num)\n",
    "    return plaintext"
   ]
  },
  {
   "cell_type": "markdown",
   "metadata": {},
   "source": [
    "An aristocrat cipher is a random substitution cipher. Each letter in the alphabet encodes to another letter. In this code, I often abbreviate aristocrat to 'aris'.\n",
    "make_rand_aris_key generates a random 'key' to be used in encoding and decoding an aristocrat. The key is a list of numbers. The index of the number is the letter that codes for another, and the number in the index is the number of the letter that it codes for. For example: index 0 represents 'a'. If the number at index 0 is 1, then whenever an 'a' comes up in a text, it would be encoded into a 'b', because b is the letter at index 1 of alpha_list."
   ]
  },
  {
   "cell_type": "code",
   "execution_count": 374,
   "metadata": {},
   "outputs": [],
   "source": [
    "# returns a key, a list of numbers, random permutation of 0-25\n",
    "def make_rand_aris_key():\n",
    "    nums = []\n",
    "    for i in range(26):\n",
    "        nums.append(i)\n",
    "    num_key = []\n",
    "    for i in range(26):\n",
    "        num = (random.choice(nums))\n",
    "        num_key.append(num)\n",
    "        nums.remove(num)\n",
    "    return num_key"
   ]
  },
  {
   "cell_type": "markdown",
   "metadata": {},
   "source": [
    "The next two ciphers are similar to the encode and decode caesar ciphers. Instead of just shifting each letter, however, they use the key to encode and decode the letters."
   ]
  },
  {
   "cell_type": "code",
   "execution_count": 375,
   "metadata": {},
   "outputs": [],
   "source": [
    "# plaintext: string or list of characters\n",
    "# num_key is a list of numbers \n",
    "# returns a encoded list of characters\n",
    "def encode_aris(plaintext, num_key):\n",
    "    ciphertext_num = []\n",
    "    plaintext_num = char_to_num(plaintext)\n",
    "    for num in plaintext_num:\n",
    "        if num != 26:\n",
    "            num = num_key[num]\n",
    "        ciphertext_num.append(num)\n",
    "    ciphertext = num_to_char(ciphertext_num)\n",
    "    return ciphertext"
   ]
  },
  {
   "cell_type": "code",
   "execution_count": 376,
   "metadata": {},
   "outputs": [],
   "source": [
    "def decode_aris(ciphertext, num_key):\n",
    "    plaintext_num = []\n",
    "    ciphertext_num = char_to_num(ciphertext)\n",
    "    for num in ciphertext_num:\n",
    "        if num != 26:\n",
    "            num = num_key.index(num)\n",
    "        plaintext_num.append(num)\n",
    "    plaintext = num_to_char(plaintext_num)\n",
    "    return plaintext"
   ]
  },
  {
   "cell_type": "markdown",
   "metadata": {},
   "source": [
    "make_alpha_dict takes a text and counts the number of times each letter is used. the dictionary returned has 27 entries, the key for each entry is a letter of the alphabet. The value for each entry is the number of times the letter occured. This is then used to generate the frequency of each letter, using the make_percent_list function, which returns a list containing the decimal percent of times each letter comes up. The indices of the percent indicate the letter."
   ]
  },
  {
   "cell_type": "code",
   "execution_count": 377,
   "metadata": {},
   "outputs": [],
   "source": [
    "def make_alpha_dict(text, alpha_dict = None, pseudo_count = 0):\n",
    "    if alpha_dict is None or alpha_dict=={}:\n",
    "        alpha_dict = {}\n",
    "        for i in range(27):\n",
    "            alpha_dict[alpha_list[i]] = pseudo_count\n",
    "    for letter in text:\n",
    "        alpha_dict[letter] += 1\n",
    "    return alpha_dict"
   ]
  },
  {
   "cell_type": "code",
   "execution_count": 378,
   "metadata": {},
   "outputs": [],
   "source": [
    "def count_letters(text, pseudo_count = 0):\n",
    "    letter_count = []\n",
    "    for i in range(27):\n",
    "        letter_count.append(pseudo_count)\n",
    "    for letter in text:\n",
    "        letter_count[alpha_list.index(letter)] += 1\n",
    "    return letter_count"
   ]
  },
  {
   "cell_type": "code",
   "execution_count": 379,
   "metadata": {},
   "outputs": [
    {
     "name": "stdout",
     "output_type": "stream",
     "text": [
      "[1, 1, 1, 1, 1, 1, 0, 0, 0, 0, 0, 0, 0, 0, 0, 0, 0, 0, 0, 0, 0, 0, 0, 0, 0, 0, 0]\n"
     ]
    }
   ],
   "source": [
    "letter_count = count_letters('abcdef')\n",
    "print(letter_count)"
   ]
  },
  {
   "cell_type": "code",
   "execution_count": 380,
   "metadata": {},
   "outputs": [],
   "source": [
    "def make_percent_list(alpha_dict):\n",
    "    percent_list = []\n",
    "    for i in range(26):\n",
    "        percent_list.append(0)\n",
    "    total_letter_count = sum(alpha_dict.values()) - alpha_dict[' ']\n",
    "    for i in range(26):\n",
    "        percent_list[i] = (alpha_dict[alpha_list[i]] / total_letter_count)\n",
    "    return percent_list"
   ]
  },
  {
   "cell_type": "markdown",
   "metadata": {},
   "source": [
    "The next functions are similar but instead of counting the single letters, they count the number of times each pair of letters occurs (including spaced as a letter). Each letter pair is then turned into a decimal. This means that for each letter, the likelihood that it will be followed by the next letter is the likelihood of each pair. For example, anytime you see a 't' there is about a 50% chance the next letter will be an 'h', so the likelihood for 'th' is 0.50..."
   ]
  },
  {
   "cell_type": "code",
   "execution_count": 381,
   "metadata": {},
   "outputs": [],
   "source": [
    "#pair_list is a list of lists, with pair_list[i][j] being the number of times\n",
    "#letter i is followed by letter j\n",
    "def make_pair_list(text, pair_list = None, pseudo_count = 0):\n",
    "    if pair_list is None or pair_list == []:\n",
    "        pair_list = []\n",
    "        for i in range(27):\n",
    "            pair_list.append([])\n",
    "            for l2 in range(27):\n",
    "                pair_list[i].append(pseudo_count)\n",
    "    for i in range(len(text) - 1):\n",
    "        pair_list[alpha_list.index(text[i])][alpha_list.index(text[i+1])] += 1\n",
    "    return pair_list "
   ]
  },
  {
   "cell_type": "code",
   "execution_count": 382,
   "metadata": {},
   "outputs": [],
   "source": [
    "def count_letter_pairs(text, pseudo_count = 0):\n",
    "    pair_count = []\n",
    "    for i in range(27):\n",
    "        pair_count.append([])\n",
    "        for l2 in range(27):\n",
    "            pair_count[i].append(pseudo_count)\n",
    "    for i in range(len(text) - 1):\n",
    "        pair_count[alpha_list.index(text[i])][alpha_list.index(text[i + 1])] += 1\n",
    "    return pair_count"
   ]
  },
  {
   "cell_type": "code",
   "execution_count": 383,
   "metadata": {},
   "outputs": [
    {
     "name": "stdout",
     "output_type": "stream",
     "text": [
      "[[4, 0, 0, 0, 0, 0, 0, 0, 0, 0, 0, 0, 0, 0, 0, 0, 0, 0, 0, 0, 0, 0, 0, 0, 0, 0, 0], [0, 0, 0, 0, 0, 0, 0, 0, 0, 0, 0, 0, 0, 0, 0, 0, 0, 0, 0, 0, 0, 0, 0, 0, 0, 0, 0], [0, 0, 0, 0, 0, 0, 0, 0, 0, 0, 0, 0, 0, 0, 0, 0, 0, 0, 0, 0, 0, 0, 0, 0, 0, 0, 0], [0, 0, 0, 0, 0, 0, 0, 0, 0, 0, 0, 0, 0, 0, 0, 0, 0, 0, 0, 0, 0, 0, 0, 0, 0, 0, 0], [0, 0, 0, 0, 0, 0, 0, 0, 0, 0, 0, 0, 0, 0, 0, 0, 0, 0, 0, 0, 0, 0, 0, 0, 0, 0, 0], [0, 0, 0, 0, 0, 0, 0, 0, 0, 0, 0, 0, 0, 0, 0, 0, 0, 0, 0, 0, 0, 0, 0, 0, 0, 0, 0], [0, 0, 0, 0, 0, 0, 0, 0, 0, 0, 0, 0, 0, 0, 0, 0, 0, 0, 0, 0, 0, 0, 0, 0, 0, 0, 0], [0, 0, 0, 0, 0, 0, 0, 0, 0, 0, 0, 0, 0, 0, 0, 0, 0, 0, 0, 0, 0, 0, 0, 0, 0, 0, 0], [0, 0, 0, 0, 0, 0, 0, 0, 0, 0, 0, 0, 0, 0, 0, 0, 0, 0, 0, 0, 0, 0, 0, 0, 0, 0, 0], [0, 0, 0, 0, 0, 0, 0, 0, 0, 0, 0, 0, 0, 0, 0, 0, 0, 0, 0, 0, 0, 0, 0, 0, 0, 0, 0], [0, 0, 0, 0, 0, 0, 0, 0, 0, 0, 0, 0, 0, 0, 0, 0, 0, 0, 0, 0, 0, 0, 0, 0, 0, 0, 0], [0, 0, 0, 0, 0, 0, 0, 0, 0, 0, 0, 0, 0, 0, 0, 0, 0, 0, 0, 0, 0, 0, 0, 0, 0, 0, 0], [0, 0, 0, 0, 0, 0, 0, 0, 0, 0, 0, 0, 0, 0, 0, 0, 0, 0, 0, 0, 0, 0, 0, 0, 0, 0, 0], [0, 0, 0, 0, 0, 0, 0, 0, 0, 0, 0, 0, 0, 0, 0, 0, 0, 0, 0, 0, 0, 0, 0, 0, 0, 0, 0], [0, 0, 0, 0, 0, 0, 0, 0, 0, 0, 0, 0, 0, 0, 0, 0, 0, 0, 0, 0, 0, 0, 0, 0, 0, 0, 0], [0, 0, 0, 0, 0, 0, 0, 0, 0, 0, 0, 0, 0, 0, 0, 0, 0, 0, 0, 0, 0, 0, 0, 0, 0, 0, 0], [0, 0, 0, 0, 0, 0, 0, 0, 0, 0, 0, 0, 0, 0, 0, 0, 0, 0, 0, 0, 0, 0, 0, 0, 0, 0, 0], [0, 0, 0, 0, 0, 0, 0, 0, 0, 0, 0, 0, 0, 0, 0, 0, 0, 0, 0, 0, 0, 0, 0, 0, 0, 0, 0], [0, 0, 0, 0, 0, 0, 0, 0, 0, 0, 0, 0, 0, 0, 0, 0, 0, 0, 0, 0, 0, 0, 0, 0, 0, 0, 0], [0, 0, 0, 0, 0, 0, 0, 0, 0, 0, 0, 0, 0, 0, 0, 0, 0, 0, 0, 0, 0, 0, 0, 0, 0, 0, 0], [0, 0, 0, 0, 0, 0, 0, 0, 0, 0, 0, 0, 0, 0, 0, 0, 0, 0, 0, 0, 0, 0, 0, 0, 0, 0, 0], [0, 0, 0, 0, 0, 0, 0, 0, 0, 0, 0, 0, 0, 0, 0, 0, 0, 0, 0, 0, 0, 0, 0, 0, 0, 0, 0], [0, 0, 0, 0, 0, 0, 0, 0, 0, 0, 0, 0, 0, 0, 0, 0, 0, 0, 0, 0, 0, 0, 0, 0, 0, 0, 0], [0, 0, 0, 0, 0, 0, 0, 0, 0, 0, 0, 0, 0, 0, 0, 0, 0, 0, 0, 0, 0, 0, 0, 0, 0, 0, 0], [0, 0, 0, 0, 0, 0, 0, 0, 0, 0, 0, 0, 0, 0, 0, 0, 0, 0, 0, 0, 0, 0, 0, 0, 0, 0, 0], [0, 0, 0, 0, 0, 0, 0, 0, 0, 0, 0, 0, 0, 0, 0, 0, 0, 0, 0, 0, 0, 0, 0, 0, 0, 0, 0], [0, 0, 0, 0, 0, 0, 0, 0, 0, 0, 0, 0, 0, 0, 0, 0, 0, 0, 0, 0, 0, 0, 0, 0, 0, 0, 0]]\n"
     ]
    }
   ],
   "source": [
    "print(count_letter_pairs('aaaaa'))"
   ]
  },
  {
   "cell_type": "code",
   "execution_count": 384,
   "metadata": {},
   "outputs": [],
   "source": [
    "def make_percent_pair_list(pair_list):\n",
    "    percent_pair_list = []\n",
    "    for i in range(27):\n",
    "        number_of_letter_i = 0\n",
    "        percent_pair_list.append([])\n",
    "        for l2 in range(27):\n",
    "            number_of_letter_i += pair_list[i][l2]\n",
    "        for l2 in range(27):\n",
    "            percent_pair_list[i].append(pair_list[i][l2] / number_of_letter_i)\n",
    "    return percent_pair_list"
   ]
  },
  {
   "cell_type": "code",
   "execution_count": 385,
   "metadata": {},
   "outputs": [],
   "source": [
    "def normalize_counts(count_list):\n",
    "    total = 0\n",
    "    normalized_counts = []\n",
    "    for i in range(27):\n",
    "        total += count_list[i]\n",
    "        normalized_counts.append(0)\n",
    "    for i in range(27):\n",
    "        normalized_counts[i] = count_list[i] / total\n",
    "    return normalized_counts"
   ]
  },
  {
   "cell_type": "code",
   "execution_count": 386,
   "metadata": {},
   "outputs": [
    {
     "name": "stdout",
     "output_type": "stream",
     "text": [
      "[0.16666666666666666, 0.16666666666666666, 0.16666666666666666, 0.16666666666666666, 0.16666666666666666, 0.16666666666666666, 0.0, 0.0, 0.0, 0.0, 0.0, 0.0, 0.0, 0.0, 0.0, 0.0, 0.0, 0.0, 0.0, 0.0, 0.0, 0.0, 0.0, 0.0, 0.0, 0.0, 0.0]\n"
     ]
    }
   ],
   "source": [
    "print(normalize_counts(letter_count))"
   ]
  },
  {
   "cell_type": "code",
   "execution_count": 387,
   "metadata": {},
   "outputs": [],
   "source": [
    "def compute_transition_matrix(pair_count):\n",
    "    transition_matrix = []\n",
    "    for i in range(27):\n",
    "        transition_matrix.append([])\n",
    "    for i in range(27):\n",
    "        transition_matrix[i] = (normalize_counts(pair_count[i]))\n",
    "    return transition_matrix"
   ]
  },
  {
   "cell_type": "code",
   "execution_count": 388,
   "metadata": {},
   "outputs": [
    {
     "name": "stdout",
     "output_type": "stream",
     "text": [
      "True\n"
     ]
    }
   ],
   "source": [
    "original = (make_percent_pair_list(make_pair_list(eman_letters)))\n",
    "new = (compute_transition_matrix(count_letter_pairs(eman_letters)))\n",
    "print(new == original)"
   ]
  },
  {
   "cell_type": "code",
   "execution_count": 389,
   "metadata": {},
   "outputs": [],
   "source": [
    "def find_likelihood(text, percent_list):\n",
    "    likely = 1\n",
    "    for letter in text:\n",
    "        letter = alpha_list.index(letter)\n",
    "        likely *= percent_list[letter]\n",
    "    return likely"
   ]
  },
  {
   "cell_type": "code",
   "execution_count": 390,
   "metadata": {},
   "outputs": [],
   "source": [
    "def find_log_likelihood(text, percent_list):\n",
    "    log_likely = 0\n",
    "    for letter in text:\n",
    "        letter = alpha_list.index(letter)\n",
    "        log_likely += log(percent_list[letter])\n",
    "    return log_likely"
   ]
  },
  {
   "cell_type": "code",
   "execution_count": 391,
   "metadata": {},
   "outputs": [],
   "source": [
    "def find_pair_log_likelihood(text, percent_list, percent_pair_list):\n",
    "    log_likely = 0\n",
    "    log_likely += log(percent_list[alpha_list.index(text[0])])\n",
    "    #if len(text) < 27**2:\n",
    "    for letter in range(len(text) - 1):\n",
    "        first_index = alpha_list.index(text[letter])\n",
    "        second_index = alpha_list.index(text[letter + 1])\n",
    "        log_likely += log(percent_pair_list[first_index][second_index])\n",
    "    #else:\n",
    "    #    for i in range(27):\n",
    "    #        for x in range(27):\n",
    "    #            log_likely += log(percent_pair_list[i][x]) * pair_list[i][x]\n",
    "    return log_likely"
   ]
  },
  {
   "cell_type": "code",
   "execution_count": 392,
   "metadata": {},
   "outputs": [],
   "source": [
    "#tells you how much the log likelihood will change if you switch the letters at the two indices\n",
    "def log_likelihood_change(text, pair_list, percent_pair_list, start_key, index1, index2):\n",
    "    changed_list = list(percent_pair_list)\n",
    "    unchanged_rows, changed_rows, unchanged_columns, changed_columns = 0, 0, 0, 0\n",
    "    key1 = start_key[index1]\n",
    "    print(key1)\n",
    "    key2 = start_key[index2]\n",
    "    print(key2)\n",
    "    changed_list[key1], changed_list[key2] = list(percent_pair_list[key2]), list(percent_pair_list[key1])\n",
    "    for i in range(27):\n",
    "        unchanged_rows += log(percent_pair_list[key1][i]) * pair_list[key1][i]\n",
    "        unchanged_rows += log(percent_pair_list[key2][i]) * pair_list[key2][i]\n",
    "        changed_rows += log(changed_list[key1][i]) * pair_list[key1][i]\n",
    "        changed_rows += log(changed_list[key2][i]) * pair_list[key2][i]\n",
    "    for i in range(27):\n",
    "        changed_list[i][key1], changed_list[i][key2] = float(percent_pair_list[i][key2]), float(percent_pair_list[i][key1])\n",
    "        unchanged_columns += (log(percent_pair_list[i][key1]) * pair_list[i][key1])\n",
    "        unchanged_columns += (log(percent_pair_list[i][key2]) * pair_list[i][key2])\n",
    "        changed_columns += (log(changed_list[i][key1]) * pair_list[i][key1])\n",
    "        changed_columns += (log(changed_list[i][key2]) * pair_list[i][key2])\n",
    "    change = changed_rows + changed_columns - unchanged_rows - unchanged_columns\n",
    "    return change\n",
    "        \n",
    "        "
   ]
  },
  {
   "cell_type": "code",
   "execution_count": 465,
   "metadata": {},
   "outputs": [],
   "source": [
    "def calculate_likelihood_change(text, text_pair_count, ref_letter_percent,\\\n",
    "                                transition_matrix, index1, index2, key):\n",
    "    column_change, row_change = 0, 0\n",
    "    l1 = key[index1]\n",
    "    l2 = key[index2]\n",
    "    for j in range(27):\n",
    "        if j != l1 and j != l2:\n",
    "            column_change += (text_pair_count[l1][j] - text_pair_count[l2][j])\\\n",
    "            * (log(transition_matrix[l1][j]) - log(transition_matrix[l2][j]))\n",
    "    for i in range(27):\n",
    "        if i != l1 and i != l2:\n",
    "            row_change += (text_pair_count[i][l1] - text_pair_count[i][l2])\\\n",
    "            * (log(transition_matrix[i][l1]) - log(transition_matrix[i][l2]))\n",
    "    \n",
    "    change = column_change + row_change\n",
    "    \n",
    "    change += (text_pair_count[l1][l1] - text_pair_count[l2][l2])\\\n",
    "    * (log(transition_matrix[l1][l1]) - log(transition_matrix[l2][l2]))\n",
    "    \n",
    "    change += (text_pair_count[l1][l2] - text_pair_count[l2][l1])\\\n",
    "    * (log(transition_matrix[l1][l2]) - log(transition_matrix[l2][l1]))\n",
    "    #dealing with the first letter (special case)\n",
    "    \n",
    "    if text[0] == alpha_list[l1]:\n",
    "        change += log(ref_letter_percent[l1]) - log(ref_letter_percent[l2])\n",
    "    elif text[0] == alpha_list[l2]:\n",
    "        change += log(ref_letter_percent[l2]) - log(ref_letter_percent[l1])\n",
    "    return -1 * change\n",
    "    \n",
    "    "
   ]
  },
  {
   "cell_type": "code",
   "execution_count": 466,
   "metadata": {},
   "outputs": [],
   "source": [
    "bible_letter_count = count_letters(bible_letters, 0.5)\n",
    "bible_letter_percent = normalize_counts(bible_letter_count)\n",
    "\n",
    "bible_pair_count = count_letter_pairs(bible_letters, 0.5)\n",
    "bible_matrix = compute_transition_matrix(bible_pair_count)"
   ]
  },
  {
   "cell_type": "code",
   "execution_count": 469,
   "metadata": {},
   "outputs": [
    {
     "name": "stdout",
     "output_type": "stream",
     "text": [
      "test passed\n"
     ]
    }
   ],
   "source": [
    "test_text = 'hello'\n",
    "changed_text = 'lehho'\n",
    "text_letter_count = count_letters(test_text)\n",
    "text_pair_count = count_letter_pairs(test_text)\n",
    "\n",
    "\n",
    "\n",
    "one = find_pair_log_likelihood( test_text, bible_letter_percent, bible_matrix)\n",
    "two = find_pair_log_likelihood(changed_text, bible_letter_percent, bible_matrix)\n",
    "diff = (two - one)\n",
    "\n",
    "start_key = list(alpha_list)\n",
    "num_key = char_to_num(start_key)\n",
    "index1 = alpha_list.index(\"h\")\n",
    "index2 = alpha_list.index(\"l\")\n",
    "\n",
    "\n",
    "faster_calc = (calculate_likelihood_change(test_text, text_pair_count, bible_letter_percent, bible_matrix,\\\n",
    "                                  index1, index2, num_key))\n",
    "\n",
    "assert isclose(diff, faster_calc), 'should be equal'\n",
    "print(\"test passed\")"
   ]
  },
  {
   "cell_type": "code",
   "execution_count": 315,
   "metadata": {},
   "outputs": [],
   "source": [
    "def find_letter_num(text, alpha_dict):\n",
    "    return len(text) - alpha_dict[' ']"
   ]
  },
  {
   "cell_type": "code",
   "execution_count": 289,
   "metadata": {},
   "outputs": [],
   "source": [
    "def find_solution_brute(ciphertext, percent_list):\n",
    "    solutions = []\n",
    "    for i in range(26):\n",
    "        plaintext = decode_caesar_cipher(ciphertext, i)\n",
    "        plaintext = ''.join(plaintext)\n",
    "        likely = find_log_likelihood(plaintext, percent_list)\n",
    "        solutions.append(likely)\n",
    "    return solutions"
   ]
  },
  {
   "cell_type": "code",
   "execution_count": 50,
   "metadata": {},
   "outputs": [],
   "source": [
    "def find_solution_brute_pairs(ciphertext, new_dict = {}, both_list = []):\n",
    "    solutions = []\n",
    "    for i in range(26):\n",
    "        plaintext = decode_caesar_cipher(ciphertext, i)\n",
    "        plaintext = ''.join(plaintext)\n",
    "        likely = find_pair_log_likelihood(plaintext, percent_list, percent_pair_list)\n",
    "        solutions.append(likely)\n",
    "    return solutions"
   ]
  },
  {
   "cell_type": "code",
   "execution_count": 51,
   "metadata": {},
   "outputs": [],
   "source": [
    "def ordered_solutions(ciphertext, function_name = find_solution_brute_pairs):\n",
    "    solution_list = []\n",
    "    solutions = (function_name(ciphertext, percent_list))\n",
    "    index_array = numpy.flipud(numpy.argsort(solutions))\n",
    "    for i in range(26):\n",
    "        solution_list.append(\"%02d: %s: %s\" % ((index_array[i]), ''.join(decode_caesar_cipher(ciphertext, index_array[i])), str(solutions[index_array[i]])))\n",
    "    return solution_list"
   ]
  },
  {
   "cell_type": "code",
   "execution_count": 52,
   "metadata": {},
   "outputs": [],
   "source": [
    "def make_letters(file_name):\n",
    "    new_file = open('../data/' + file_name, 'r')\n",
    "    file = new_file.read()\n",
    "    file = file.lower()\n",
    "    #regular expressions is imported\n",
    "    #The next line takes out only the letters\n",
    "    return re.findall('[a-z]|\\ ', file)"
   ]
  },
  {
   "cell_type": "code",
   "execution_count": 306,
   "metadata": {},
   "outputs": [],
   "source": [
    "def get_percent_lists(text_letters):\n",
    "    alpha_dict = make_alpha_dict(text_letters)\n",
    "    letter_num = find_letter_num(text_letters, alpha_dict)\n",
    "    percent_list = make_percent_list(alpha_dict)\n",
    "    pair_list = make_pair_list(text_letters)\n",
    "    percent_pair_list = make_percent_pair_list(pair_list)\n",
    "    return percent_list, percent_pair_list, pair_list"
   ]
  },
  {
   "cell_type": "code",
   "execution_count": 260,
   "metadata": {},
   "outputs": [],
   "source": [
    "def find_language(text, german_percent_list, german_percent_pair_list, english_percent_list, english_percent_pair_list):\n",
    "    german_likelihood = find_pair_log_likelihood(text, german_percent_list, german_percent_pair_list)\n",
    "    english_likelihood = find_pair_log_likelihood(text, english_percent_list, english_percent_pair_list)\n",
    "    if german_likelihood > english_likelihood:\n",
    "        return 'The text is most likely German'\n",
    "    else:\n",
    "        return 'The text is most likely English'"
   ]
  },
  {
   "cell_type": "code",
   "execution_count": 263,
   "metadata": {},
   "outputs": [
    {
     "name": "stdout",
     "output_type": "stream",
     "text": [
      "The text is most likely German\n"
     ]
    }
   ],
   "source": [
    "german_letters = make_letters('german_text.txt')\n",
    "german_list, german_pair_list = get_percent_lists(german_letters)\n",
    "english_letters = make_letters('bible.txt')\n",
    "english_list, english_pair_list = get_percent_lists(english_letters)\n",
    "print(find_language('hallo wie gehts du', german_list, german_pair_list, english_list, english_pair_list))"
   ]
  },
  {
   "cell_type": "code",
   "execution_count": 275,
   "metadata": {},
   "outputs": [],
   "source": [
    "def decode_aris_no_key(ciphertext, start_key, guess_num = 3000):\n",
    "    count = 0\n",
    "    num_key = start_key\n",
    "    new_num_key = list(num_key)\n",
    "    for i in range(guess_num):\n",
    "        index1 = random.randint(0, 25)\n",
    "        index2 = random.randint(0, 25)\n",
    "        plaintext = decode_aris(ciphertext, num_key)\n",
    "        new_num_key[index1], new_num_key[index2] = num_key[index2], num_key[index1]\n",
    "        new_plaintext = decode_aris(ciphertext, new_num_key)\n",
    "        plaintext_likely = find_pair_log_likelihood(plaintext, percent_list, percent_pair_list)\n",
    "        new_plaintext_likely = find_pair_log_likelihood(new_plaintext, percent_list, percent_pair_list)\n",
    "        if new_plaintext_likely > plaintext_likely:\n",
    "            num_key = list(new_num_key)\n",
    "            pair_list[index1], pair_list[index2] = pair_list[index2], pair_list[index1]\n",
    "            count += 1\n",
    "        else:\n",
    "            new_num_key = list(num_key)\n",
    "        plaintext = decode_aris(ciphertext, num_key)\n",
    "        log_likelihood = find_pair_log_likelihood(plaintext, percent_list, percent_pair_list)\n",
    "    return (''.join(decode_aris(ciphertext, num_key))), count, log_likelihood"
   ]
  },
  {
   "cell_type": "code",
   "execution_count": 286,
   "metadata": {},
   "outputs": [
    {
     "name": "stdout",
     "output_type": "stream",
     "text": [
      "right: 65\n"
     ]
    }
   ],
   "source": [
    "right = 0\n",
    "wrong = 0\n",
    "eman_letters = make_letters('Emancipation_Proclamation.txt')\n",
    "ciphertext = (encode_aris(eman_letters, make_rand_aris_key()))\n",
    "bible_letters = make_letters('bible.txt')\n",
    "bible_percent_list, bible_percent_pair_list = get_percent_lists(bible_letters)\n",
    "for i in range(100):\n",
    "    decoded_text, count, log_likelihood = decode_aris_no_key(ciphertext, make_start_key(ciphertext, bible_percent_list))\n",
    "    if (log_likelihood) == (find_pair_log_likelihood(eman_letters, percent_list, percent_pair_list)):\n",
    "        right += 1\n",
    "    else:\n",
    "        wrong += 1\n",
    "print('right: ' + str(right))"
   ]
  },
  {
   "cell_type": "code",
   "execution_count": 283,
   "metadata": {},
   "outputs": [
    {
     "name": "stdout",
     "output_type": "stream",
     "text": [
      "right: 56\n"
     ]
    }
   ],
   "source": [
    "print('right: ' + str(right))"
   ]
  },
  {
   "cell_type": "code",
   "execution_count": 241,
   "metadata": {},
   "outputs": [],
   "source": [
    "bible_letters = make_letters('bible.txt')\n",
    "crime_letters = make_letters('crime_and_punishment.txt')\n",
    "\n",
    "#For the first case, text = bible_letters for all\n",
    "alpha_dict = make_alpha_dict(bible_letters)\n",
    "letter_num = find_letter_num(bible_letters, alpha_dict)\n",
    "percent_list = make_percent_list(alpha_dict)\n",
    "pair_list = make_pair_list(bible_letters, [])\n",
    "percent_pair_list = make_percent_pair_list(pair_list)"
   ]
  },
  {
   "cell_type": "code",
   "execution_count": 54,
   "metadata": {},
   "outputs": [
    {
     "name": "stdout",
     "output_type": "stream",
     "text": [
      "0.01013425137336579\n",
      "190050.5\n"
     ]
    }
   ],
   "source": [
    "#print(percent_pair_list)\n",
    "print(percent_pair_list[alpha_list.index(\" \")][alpha_list.index(\" \")])\n",
    "print(sum(pair_list[alpha_list.index('s')]))\n",
    "#0.0003554540226212538"
   ]
  },
  {
   "cell_type": "code",
   "execution_count": 55,
   "metadata": {},
   "outputs": [],
   "source": [
    "plaintext = 'queen'\n",
    "plaintext = (plaintext.lower())\n",
    "ciphertext = encode_caesar_cipher(plaintext, 3)\n",
    "solutions = []\n",
    "#print(find_solution_brute(ciphertext))\n",
    "solutions = (find_solution_brute_pairs(ciphertext))"
   ]
  },
  {
   "cell_type": "code",
   "execution_count": 56,
   "metadata": {},
   "outputs": [
    {
     "name": "stdout",
     "output_type": "stream",
     "text": [
      "Solutions using single letter frequencies\n",
      "23: doha: -10.51194576188272\n",
      "19: hsle: -10.552532051544688\n",
      "04: what: -11.125804348413032\n",
      "18: itmf: -12.497072687901458\n",
      "11: patm: -12.803568583122114\n",
      "22: epib: -13.386896687550253\n",
      "08: sdwp: -14.073196226727028\n",
      "15: lwpi: -14.248815561938406\n",
      "06: ufyr: -14.274731842325846\n",
      "09: rcvo: -14.27917680225534\n",
      "13: nyrk: -14.603971901578078\n",
      "16: kvoh: -14.676846965256692\n",
      "20: grkd: -15.014572702532057\n",
      "00: alex: -15.43296512861728\n",
      "25: bmfy: -15.566366805387565\n",
      "12: ozsl: -15.635229820707346\n",
      "17: jung: -16.29406103618865\n",
      "24: cngz: -17.805591950053195\n",
      "03: xibu: -18.359534877328784\n",
      "05: vgzs: -18.569965033386744\n",
      "10: qbun: -18.638719752997282\n",
      "02: yjcv: -18.655538380820516\n",
      "01: zkdw: -18.89387467445503\n",
      "07: texq: -20.19436948150875\n",
      "21: fqjc: -21.750006210047452\n",
      "14: mxqj: -25.411022286722343\n",
      "Solutions using letter pair frequencies\n",
      "04: what: -9.469820271502588\n",
      "17: jung: -11.477052627881216\n",
      "00: alex: -13.026320264537059\n",
      "23: doha: -13.755644350645802\n",
      "22: epib: -14.816847928572546\n",
      "19: hsle: -15.603336291166347\n",
      "11: patm: -15.808210231873158\n",
      "13: nyrk: -16.86575774543218\n",
      "18: itmf: -17.93758937899198\n",
      "10: qbun: -19.382273126006343\n",
      "07: texq: -19.596674903690676\n",
      "03: xibu: -19.69899075066446\n",
      "06: ufyr: -19.772682016439465\n",
      "20: grkd: -20.28401554173449\n",
      "15: lwpi: -21.67269514751953\n",
      "09: rcvo: -22.5543435122403\n",
      "16: kvoh: -22.600023415256757\n",
      "08: sdwp: -22.776884519465078\n",
      "25: bmfy: -23.39237941579639\n",
      "12: ozsl: -24.345182705225888\n",
      "01: zkdw: -27.129327345823967\n",
      "24: cngz: -27.491302298505893\n",
      "14: mxqj: -31.263792924441056\n",
      "21: fqjc: -33.04977780087388\n",
      "02: yjcv: -33.367879254457414\n",
      "05: vgzs: -34.89466122468079\n"
     ]
    }
   ],
   "source": [
    "caesar_ciphertext = \"alex\"\n",
    "solution_list = ordered_solutions(caesar_ciphertext, find_solution_brute)\n",
    "print(\"Solutions using single letter frequencies\")\n",
    "for i in range(26):\n",
    "    print(solution_list[i])\n",
    "solution_list = ordered_solutions(caesar_ciphertext)\n",
    "print(\"Solutions using letter pair frequencies\")\n",
    "for i in range(26):\n",
    "    print(solution_list[i])"
   ]
  },
  {
   "cell_type": "code",
   "execution_count": 57,
   "metadata": {},
   "outputs": [],
   "source": [
    "def make_start_key(text, percent_list):\n",
    "    start_key = []\n",
    "    text_alpha_dict = make_alpha_dict(text)\n",
    "    text_percent_list = make_percent_list(text_alpha_dict)\n",
    "    sorted_text_percent_list = list(text_percent_list)\n",
    "    sorted_text_percent_list.sort(reverse = True)\n",
    "    sorted_percent_list = list(percent_list)\n",
    "    sorted_percent_list.sort(reverse = True)\n",
    "    for i in range(26):\n",
    "        start_key.append(0)\n",
    "    for i in range(26):\n",
    "        key_value = percent_list.index(sorted_percent_list[i])\n",
    "        key_index = text_percent_list.index(sorted_text_percent_list[i])\n",
    "        text_percent_list[key_index] = 0\n",
    "        start_key[key_index] = key_value\n",
    "    return start_key"
   ]
  },
  {
   "cell_type": "code",
   "execution_count": 75,
   "metadata": {},
   "outputs": [
    {
     "name": "stdout",
     "output_type": "stream",
     "text": [
      "[7, 1, 20, 3, 4, 5, 2, 17, 8, 10, 25, 11, 6, 0, 14, 24, 16, 18, 13, 19, 12, 21, 15, 9, 22, 23]\n"
     ]
    }
   ],
   "source": [
    "eman_letters = make_letters('Emancipation_Proclamation.txt')\n",
    "alpha_dict = make_alpha_dict(bible_letters)\n",
    "letter_num = find_letter_num(bible_letters, alpha_dict)\n",
    "percent_list = make_percent_list(alpha_dict)\n",
    "start_key = make_start_key(eman_letters, percent_list)\n",
    "print(start_key)\n",
    "right = 0\n",
    "wrong = 0"
   ]
  },
  {
   "cell_type": "code",
   "execution_count": 251,
   "metadata": {},
   "outputs": [
    {
     "name": "stdout",
     "output_type": "stream",
     "text": [
      "january  a transcriptionby the president of the united states of americaa proclamationwhereas on the twentysecond day of september in the year of our lord one thousand eight hundred and sixtytwo a proclamation was issued by the president of the united states containing among other things the following to witthat on the first day of january in the year of our lord one thousand eight hundred and sixtythree all persons held as slaves within any state or designated part of a state the people whereof shall then be in rebellion against the united states shall be then thenceforward and forever free and the executive government of the united states including the military and naval authority thereof will recognike and maintain the freedom of such persons and will do no act or acts to repress such persons or any of them in any efforts they may maze for their actual freedomthat the executive will on the first day of january aforesaid by proclamation designate the states and parts of states if any in which the people thereof respectively shall then be in rebellion against the united states and the fact that any state or the people thereof shall on that day be in good faith represented in the congress of the united states by members chosen thereto at elections wherein a majority of the qualified voters of such state shall have participated shall in the absence of strong countervailing testimony be deemed conclusive evidence that such state and the people thereof are not then in rebellion against the united statesnow therefore i abraham lincoln president of the united states by virtue of the power in me vested as commanderinchief of the army and navy of the united states in time of actual armed rebellion against the authority and government of the united states and as a fit and necessary war measure for suppressing said rebellion do on this first day of january in the year of our lord one thousand eight hundred and sixtythree and in accordance with my purpose so to do publicly proclaimed for the full period of one hundred days from the day first above mentioned order and designate as the states and parts of states wherein the people thereof respectively are this day in rebellion against the united states the following to witarzansas texas louisiana except the parishes of st bernard plaquemines jefferson st john st charles st james ascension assumption terrebonne lafourche st mary st martin and orleans including the city of new orleans mississippi alabama florida georgia south carolina north carolina and virginia except the fortyeight counties designated as west virginia and also the counties of berzley accomac northampton elikabeth city yorz princess ann and norfolz including the cities of norfolz and portsmouth and which excepted parts are for the present left precisely as if this proclamation were not issuedand by virtue of the power and for the purpose aforesaid i do order and declare that all persons held as slaves within said designated states and parts of states are and henceforward shall be free and that the executive government of the united states including the military and naval authorities thereof will recognike and maintain the freedom of said personsand i hereby enjoin upon the people so declared to be free to abstain from all violence unless in necessary selfdefence and i recommend to them that in all cases when allowed they labor faithfully for reasonable wagesand i further declare and maze znown that such persons of suitable condition will be received into the armed service of the united states to garrison forts positions stations and other places and to man vessels of all sorts in said serviceand upon this act sincerely believed to be an act of justice warranted by the constitution upon military necessity i invoze the considerate judgment of manzind and the gracious favor of almighty godin witness whereof i have hereunto set my hand and caused the seal of the united states to be affixeddone at the city of washington this first day of january in the year of our lord one thousand eight hundred and sixty three and of the independence of the united states of america the eightyseventhby the president abraham lincolnwilliam h seward secretary of state\n",
      " \n",
      "59\n"
     ]
    }
   ],
   "source": [
    "eman_letters = make_letters('Emancipation_Proclamation.txt')\n",
    "count = 0\n",
    "permanent_num_key = make_rand_aris_key()\n",
    "ciphertext = encode_aris(eman_letters, permanent_num_key)\n",
    "num_key = start_key\n",
    "new_num_key = list(num_key)\n",
    "log_likelihoods = []\n",
    "for i in range(3000):\n",
    "    index1 = random.randint(0, 25)\n",
    "    index2 = random.randint(0, 25)\n",
    "    plaintext = decode_aris(ciphertext, num_key)\n",
    "    new_num_key[index1], new_num_key[index2] = num_key[index2], num_key[index1]\n",
    "    new_plaintext = decode_aris(ciphertext, new_num_key)\n",
    "    plaintext_likely = find_pair_log_likelihood(plaintext, percent_list, percent_pair_list)\n",
    "    new_plaintext_likely = find_pair_log_likelihood(new_plaintext, percent_list, percent_pair_list)\n",
    "    if new_plaintext_likely > plaintext_likely:\n",
    "        num_key = list(new_num_key)\n",
    "        pair_list[index1], pair_list[index2] = pair_list[index2], pair_list[index1]\n",
    "        count += 1\n",
    "    else:\n",
    "        new_num_key = list(num_key)\n",
    "    plaintext = decode_aris(ciphertext, num_key)\n",
    "    log_likelihoods.append(find_pair_log_likelihood(plaintext, percent_list, percent_pair_list))\n",
    "print(''.join(decode_aris(ciphertext, num_key)))\n",
    "print(' ')\n",
    "print(count)\n",
    "if (log_likelihoods[-1]) == (find_pair_log_likelihood(eman_letters, percent_list, percent_pair_list)):\n",
    "    right += 1\n",
    "else:\n",
    "    wrong += 1\n",
    "    "
   ]
  },
  {
   "cell_type": "code",
   "execution_count": 252,
   "metadata": {},
   "outputs": [
    {
     "name": "stdout",
     "output_type": "stream",
     "text": [
      "-10013.818393633264\n",
      "-9975.836680439375\n"
     ]
    }
   ],
   "source": [
    "print(log_likelihoods[-1])\n",
    "print(find_pair_log_likelihood(eman_letters, percent_list, percent_pair_list))"
   ]
  },
  {
   "cell_type": "code",
   "execution_count": 253,
   "metadata": {},
   "outputs": [],
   "source": [
    "eman_letters = make_letters('Emancipation_Proclamation.txt')"
   ]
  },
  {
   "cell_type": "code",
   "execution_count": 254,
   "metadata": {},
   "outputs": [
    {
     "data": {
      "text/plain": [
       "25"
      ]
     },
     "execution_count": 254,
     "metadata": {},
     "output_type": "execute_result"
    }
   ],
   "source": [
    "right"
   ]
  },
  {
   "cell_type": "code",
   "execution_count": 255,
   "metadata": {},
   "outputs": [
    {
     "data": {
      "text/plain": [
       "12"
      ]
     },
     "execution_count": 255,
     "metadata": {},
     "output_type": "execute_result"
    }
   ],
   "source": [
    "wrong"
   ]
  },
  {
   "cell_type": "code",
   "execution_count": 301,
   "metadata": {},
   "outputs": [
    {
     "data": {
      "text/plain": [
       "4226"
      ]
     },
     "execution_count": 301,
     "metadata": {},
     "output_type": "execute_result"
    }
   ],
   "source": [
    "len(eman_letters)"
   ]
  }
 ],
 "metadata": {
  "kernelspec": {
   "display_name": "Python 3",
   "language": "python",
   "name": "python3"
  },
  "language_info": {
   "codemirror_mode": {
    "name": "ipython",
    "version": 3
   },
   "file_extension": ".py",
   "mimetype": "text/x-python",
   "name": "python",
   "nbconvert_exporter": "python",
   "pygments_lexer": "ipython3",
   "version": "3.7.6"
  }
 },
 "nbformat": 4,
 "nbformat_minor": 4
}
