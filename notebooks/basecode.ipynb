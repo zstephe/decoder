{
 "cells": [
  {
   "cell_type": "code",
   "execution_count": 189,
   "metadata": {},
   "outputs": [
    {
     "name": "stdout",
     "output_type": "stream",
     "text": [
      "what did you say\n"
     ]
    }
   ],
   "source": [
    "text = \"WHAT DID YOU SAY\"\n",
    "text = text.lower()\n",
    "print(text)\n",
    "import random\n",
    "#from ipynb.fs.full.zoecode import *\n",
    "import re\n",
    "from math import log\n",
    "import numpy"
   ]
  },
  {
   "cell_type": "markdown",
   "metadata": {},
   "source": [
    "alpha_list is just a list of all the letters in the alphabet with a space included. This helps assign each letter an index and is used in many definitions."
   ]
  },
  {
   "cell_type": "code",
   "execution_count": 190,
   "metadata": {},
   "outputs": [],
   "source": [
    "alpha_list = ['a', 'b', 'c', 'd', 'e', 'f', 'g', 'h', 'i', 'j', 'k', 'l', 'm', 'n', 'o', \n",
    "             'p','q', 'r', 's', 't', 'u', 'v', 'w', 'x', 'y', 'z', ' ']"
   ]
  },
  {
   "cell_type": "markdown",
   "metadata": {},
   "source": [
    "The function char_to_num, takes a piece of text (a string of lowercase letters) and returns a list of the numerical values for each number, based on the indices in alpha_list. \n",
    "\n",
    "The function after that, num_to_char, reverses the effect, going from a series of numbers (ranged 0 - 26) to a string of lowercase letters returned as a list."
   ]
  },
  {
   "cell_type": "code",
   "execution_count": 191,
   "metadata": {},
   "outputs": [],
   "source": [
    "def char_to_num(char_text):\n",
    "    num_text = []\n",
    "    for letter in char_text:\n",
    "        num_text.append(alpha_list.index(letter))\n",
    "    return num_text"
   ]
  },
  {
   "cell_type": "code",
   "execution_count": 192,
   "metadata": {},
   "outputs": [],
   "source": [
    "def num_to_char(num_text):\n",
    "    char_text = []\n",
    "    for num in num_text:\n",
    "        char_text.append(alpha_list[num])\n",
    "    return char_text"
   ]
  },
  {
   "cell_type": "markdown",
   "metadata": {},
   "source": [
    "A caesar cipher is just a shift cipher.\n",
    "encode_caesar_cipher takes a piece of text and a key, and shifts each letter forwards by the key. For example, if the key was 3, an 'a' would become a 'd', a 'b' would become a 'e' , and so on. decode_caesar_cipher works much the same way, but instead of shifting the letters forwards, it shifts them backwards, effectively reversing the encoding of the cipher. This only works if you use the same key to encode and decode, however."
   ]
  },
  {
   "cell_type": "code",
   "execution_count": 193,
   "metadata": {},
   "outputs": [],
   "source": [
    "def encode_caesar_cipher(plaintext, key):\n",
    "    ciphertext_num = []\n",
    "    plaintext_num = char_to_num(plaintext)\n",
    "    for num in plaintext_num:\n",
    "        if num != 26: #num 26 is a space\n",
    "            num += key\n",
    "            num = num % 26\n",
    "        ciphertext_num.append(num)\n",
    "    ciphertext = num_to_char(ciphertext_num)\n",
    "    return ciphertext"
   ]
  },
  {
   "cell_type": "code",
   "execution_count": 194,
   "metadata": {},
   "outputs": [],
   "source": [
    "def decode_caesar_cipher(ciphertext, key):\n",
    "    plaintext_num = []\n",
    "    ciphertext_num = char_to_num(ciphertext)\n",
    "    for num in ciphertext_num:\n",
    "        if num != 26: #num 26 is a space\n",
    "            num -= key\n",
    "            num = num % 26\n",
    "        plaintext_num.append(num)\n",
    "    plaintext = num_to_char(plaintext_num)\n",
    "    return plaintext"
   ]
  },
  {
   "cell_type": "markdown",
   "metadata": {},
   "source": [
    "An aristocrat cipher is a random substitution cipher. Each letter in the alphabet encodes to another letter. In this code, I often abbreviate aristocrat to 'aris'.\n",
    "make_rand_aris_key generates a random 'key' to be used in encoding and decoding an aristocrat. The key is a list of numbers. The index of the number is the letter that codes for another, and the number in the index is the number of the letter that it codes for. For example: index 0 represents 'a'. If the number at index 0 is 1, then whenever an 'a' comes up in a text, it would be encoded into a 'b', because b is the letter at index 1 of alpha_list."
   ]
  },
  {
   "cell_type": "code",
   "execution_count": 195,
   "metadata": {},
   "outputs": [],
   "source": [
    "# returns a key, a list of numbers, random permutation of 0-25\n",
    "def make_rand_aris_key():\n",
    "    nums = []\n",
    "    for i in range(26):\n",
    "        nums.append(i)\n",
    "    num_key = []\n",
    "    for i in range(26):\n",
    "        num = (random.choice(nums))\n",
    "        num_key.append(num)\n",
    "        nums.remove(num)\n",
    "    return num_key"
   ]
  },
  {
   "cell_type": "markdown",
   "metadata": {},
   "source": [
    "The next two ciphers are similar to the encode and decode caesar ciphers. Instead of just shifting each letter, however, they use the key to encode and decode the letters."
   ]
  },
  {
   "cell_type": "code",
   "execution_count": 196,
   "metadata": {},
   "outputs": [],
   "source": [
    "# plaintext: string or list of characters\n",
    "# num_key is a list of numbers \n",
    "# returns a encoded list of characters\n",
    "def encode_aris(plaintext, num_key):\n",
    "    ciphertext_num = []\n",
    "    plaintext_num = char_to_num(plaintext)\n",
    "    for num in plaintext_num:\n",
    "        if num != 26:\n",
    "            num = num_key[num]\n",
    "        ciphertext_num.append(num)\n",
    "    ciphertext = num_to_char(ciphertext_num)\n",
    "    return ciphertext"
   ]
  },
  {
   "cell_type": "code",
   "execution_count": 197,
   "metadata": {},
   "outputs": [],
   "source": [
    "def decode_aris(ciphertext, num_key):\n",
    "    plaintext_num = []\n",
    "    ciphertext_num = char_to_num(ciphertext)\n",
    "    for num in ciphertext_num:\n",
    "        if num != 26:\n",
    "            num = num_key.index(num)\n",
    "        plaintext_num.append(num)\n",
    "    plaintext = num_to_char(plaintext_num)\n",
    "    return plaintext"
   ]
  },
  {
   "cell_type": "markdown",
   "metadata": {},
   "source": [
    "make_alpha_dict takes a text and counts the number of times each letter is used. the dictionary returned has 27 entries, the key for each entry is a letter of the alphabet. The value for each entry is the number of times the letter occured. This is then used to generate the frequency of each letter, using the make_percent_list function, which returns a list containing the decimal percent of times each letter comes up. The indices of the percent indicate the letter."
   ]
  },
  {
   "cell_type": "code",
   "execution_count": 198,
   "metadata": {},
   "outputs": [],
   "source": [
    "def make_alpha_dict(text, alpha_dict = None, pseudo_count = 0.5):\n",
    "    if alpha_dict is None or alpha_dict=={}:\n",
    "        alpha_dict = {}\n",
    "        for i in range(27):\n",
    "            alpha_dict[alpha_list[i]] = pseudo_count\n",
    "    for letter in text:\n",
    "        alpha_dict[letter] += 1\n",
    "    return alpha_dict"
   ]
  },
  {
   "cell_type": "code",
   "execution_count": 199,
   "metadata": {},
   "outputs": [],
   "source": [
    "def make_percent_list(alpha_dict):\n",
    "    percent_list = []\n",
    "    for i in range(26):\n",
    "        percent_list.append(0)\n",
    "    total_letter_count = sum(alpha_dict.values()) - alpha_dict[' ']\n",
    "    for i in range(26):\n",
    "        percent_list[i] = (alpha_dict[alpha_list[i]] / total_letter_count)\n",
    "    return percent_list"
   ]
  },
  {
   "cell_type": "markdown",
   "metadata": {},
   "source": [
    "The next functions are similar but instead of counting the single letters, they count the number of times each pair of letters occurs (including spaced as a letter). Each letter pair is then turned into a decimal. This means that for each letter, the likelihood that it will be followed by the next letter is the likelihood of each pair. For example, anytime you see a 't' there is about a 50% chance the next letter will be an 'h', so the likelihood for 'th' is 0.50..."
   ]
  },
  {
   "cell_type": "code",
   "execution_count": 200,
   "metadata": {},
   "outputs": [],
   "source": [
    "alpha_dict_eman = make_alpha_dict(eman_letters,{})\n",
    "percent_list = make_percent_list(alpha_dict_eman)"
   ]
  },
  {
   "cell_type": "code",
   "execution_count": 201,
   "metadata": {},
   "outputs": [],
   "source": [
    "#pair_list is a list of lists, with pair_list[i][j] being the number of times\n",
    "#letter i is followed by letter j\n",
    "def make_pair_list(text, pair_list = None, pseudo_count = 0.5):\n",
    "    if pair_list is None or pair_list == []:\n",
    "        pair_list = []\n",
    "        for i in range(27):\n",
    "            pair_list.append([])\n",
    "            for l2 in range(27):\n",
    "                pair_list[i].append(pseudo_count)\n",
    "    for i in range(len(text) - 1):\n",
    "        pair_list[alpha_list.index(text[i])][alpha_list.index(text[i+1])] += 1\n",
    "    return pair_list "
   ]
  },
  {
   "cell_type": "code",
   "execution_count": 202,
   "metadata": {},
   "outputs": [],
   "source": [
    "def make_percent_pair_list(pair_list):\n",
    "    percent_pair_list = []\n",
    "    for i in range(27):\n",
    "        number_of_letter_i = 0\n",
    "        percent_pair_list.append([])\n",
    "        for l2 in range(27):\n",
    "            number_of_letter_i += pair_list[i][l2]\n",
    "        for l2 in range(27):\n",
    "            percent_pair_list[i].append(pair_list[i][l2] / number_of_letter_i)\n",
    "    return percent_pair_list"
   ]
  },
  {
   "cell_type": "code",
   "execution_count": 236,
   "metadata": {},
   "outputs": [],
   "source": [
    "def find_likelihood(text, percent_list):\n",
    "    likely = 1\n",
    "    for letter in text:\n",
    "        letter = alpha_list.index(letter)\n",
    "        likely *= percent_list[letter]\n",
    "    return likely"
   ]
  },
  {
   "cell_type": "code",
   "execution_count": 237,
   "metadata": {},
   "outputs": [],
   "source": [
    "def find_log_likelihood(text, percent_list):\n",
    "    log_likely = 0\n",
    "    for letter in text:\n",
    "        letter = alpha_list.index(letter)\n",
    "        log_likely += log(percent_list[letter])\n",
    "    return log_likely"
   ]
  },
  {
   "cell_type": "code",
   "execution_count": 256,
   "metadata": {},
   "outputs": [],
   "source": [
    "def find_pair_log_likelihood(text, percent_list, percent_pair_list):\n",
    "    log_likely = 0\n",
    "    log_likely += log(percent_list[alpha_list.index(text[0])])\n",
    "    #if len(text) < 27**2:\n",
    "    for letter in range(len(text) - 1):\n",
    "        first_index = alpha_list.index(text[letter])\n",
    "        second_index = alpha_list.index(text[letter + 1])\n",
    "        log_likely += log(percent_pair_list[first_index][second_index])\n",
    "    #else:\n",
    "    #    for i in range(27):\n",
    "    #        for x in range(27):\n",
    "    #            log_likely += log(percent_pair_list[i][x]) * pair_list[i][x]\n",
    "    return log_likely"
   ]
  },
  {
   "cell_type": "code",
   "execution_count": null,
   "metadata": {},
   "outputs": [],
   "source": []
  },
  {
   "cell_type": "code",
   "execution_count": 239,
   "metadata": {},
   "outputs": [],
   "source": [
    "def find_letter_num(text, alpha_dict):\n",
    "    return len(text) - alpha_dict[' ']"
   ]
  },
  {
   "cell_type": "code",
   "execution_count": 240,
   "metadata": {},
   "outputs": [],
   "source": [
    "def find_solution_brute(ciphertext, percent_list):\n",
    "    solutions = []\n",
    "    for i in range(26):\n",
    "        plaintext = decode_caesar_cipher(ciphertext, i)\n",
    "        plaintext = ''.join(plaintext)\n",
    "        likely = find_log_likelihood(plaintext, percent_list)\n",
    "        solutions.append(likely)\n",
    "    return solutions"
   ]
  },
  {
   "cell_type": "code",
   "execution_count": 241,
   "metadata": {},
   "outputs": [],
   "source": [
    "def find_solution_brute_pairs(ciphertext, new_dict = {}, both_list = []):\n",
    "    solutions = []\n",
    "    for i in range(26):\n",
    "        plaintext = decode_caesar_cipher(ciphertext, i)\n",
    "        plaintext = ''.join(plaintext)\n",
    "        likely = find_pair_log_likelihood(plaintext, percent_list, percent_pair_list)\n",
    "        solutions.append(likely)\n",
    "    return solutions"
   ]
  },
  {
   "cell_type": "code",
   "execution_count": 242,
   "metadata": {},
   "outputs": [],
   "source": [
    "def ordered_solutions(ciphertext, function_name = find_solution_brute_pairs):\n",
    "    solution_list = []\n",
    "    solutions = (function_name(ciphertext, percent_list))\n",
    "    index_array = numpy.flipud(numpy.argsort(solutions))\n",
    "    for i in range(26):\n",
    "        solution_list.append(\"%02d: %s: %s\" % ((index_array[i]), ''.join(decode_caesar_cipher(ciphertext, index_array[i])), str(solutions[index_array[i]])))\n",
    "    return solution_list"
   ]
  },
  {
   "cell_type": "code",
   "execution_count": 243,
   "metadata": {},
   "outputs": [],
   "source": [
    "def make_letters(file_name):\n",
    "    new_file = open('../data/' + file_name, 'r')\n",
    "    file = new_file.read()\n",
    "    file = file.lower()\n",
    "    #regular expressions is imported\n",
    "    #The next line takes out only the letters\n",
    "    return re.findall('[a-z]|\\ ', file)"
   ]
  },
  {
   "cell_type": "code",
   "execution_count": 244,
   "metadata": {},
   "outputs": [],
   "source": [
    "bible_letters = make_letters('bible.txt')\n",
    "crime_letters = make_letters('crime_and_punishment.txt')\n",
    "\n",
    "\n",
    "#For the first case, text = bible_letters for all\n",
    "alpha_dict = make_alpha_dict(eman_letters)\n",
    "letter_num = find_letter_num(eman_letters, alpha_dict)\n",
    "percent_list = make_percent_list(alpha_dict)\n",
    "pair_list = make_pair_list(crime_letters, [])\n",
    "percent_pair_list = make_percent_pair_list(pair_list)"
   ]
  },
  {
   "cell_type": "code",
   "execution_count": 245,
   "metadata": {},
   "outputs": [
    {
     "name": "stdout",
     "output_type": "stream",
     "text": [
      "0.0014290372954872646\n",
      "53531.5\n"
     ]
    }
   ],
   "source": [
    "#print(percent_pair_list)\n",
    "print(percent_pair_list[alpha_list.index(\" \")][alpha_list.index(\" \")])\n",
    "print(sum(pair_list[alpha_list.index('s')]))\n",
    "#0.0003554540226212538"
   ]
  },
  {
   "cell_type": "code",
   "execution_count": 246,
   "metadata": {},
   "outputs": [],
   "source": [
    "plaintext = 'queen'\n",
    "plaintext = (plaintext.lower())\n",
    "ciphertext = encode_caesar_cipher(plaintext, 3)\n",
    "solutions = []\n",
    "#print(find_solution_brute(ciphertext))\n",
    "solutions = (find_solution_brute_pairs(ciphertext))"
   ]
  },
  {
   "cell_type": "code",
   "execution_count": 247,
   "metadata": {},
   "outputs": [
    {
     "name": "stdout",
     "output_type": "stream",
     "text": [
      "Solutions using single letter frequencies\n",
      "19: hsle: -10.988975728630223\n",
      "23: doha: -11.129917314504453\n",
      "04: what: -12.184987834932436\n",
      "18: itmf: -12.482850197065275\n",
      "11: patm: -12.683117376105177\n",
      "22: epib: -13.074611947600408\n",
      "00: alex: -13.380700827077467\n",
      "09: rcvo: -13.64832271986062\n",
      "06: ufyr: -13.9084525791452\n",
      "08: sdwp: -14.14391958735221\n",
      "15: lwpi: -14.370713457934915\n",
      "13: nyrk: -15.071279722282272\n",
      "12: ozsl: -15.51657270091132\n",
      "25: bmfy: -15.824170313504279\n",
      "20: grkd: -16.027200854132627\n",
      "16: kvoh: -16.05680642733741\n",
      "17: jung: -16.239972030667957\n",
      "03: xibu: -16.48794057544268\n",
      "07: texq: -17.234093331433456\n",
      "24: cngz: -17.38014623249903\n",
      "02: yjcv: -17.758061187942612\n",
      "10: qbun: -17.939358179764998\n",
      "05: vgzs: -18.521613326802708\n",
      "21: fqjc: -19.952891271467877\n",
      "01: zkdw: -20.276225056786753\n",
      "14: mxqj: -22.57556366966238\n",
      "Solutions using letter pair frequencies\n",
      "04: what: -9.790690473900408\n",
      "17: jung: -10.67532376713544\n",
      "00: alex: -11.592278165264371\n",
      "23: doha: -13.058676715093451\n",
      "11: patm: -14.333924236100092\n",
      "22: epib: -14.470141572634187\n",
      "03: xibu: -14.883610073755264\n",
      "19: hsle: -15.382679715590722\n",
      "07: texq: -16.15660966123374\n",
      "18: itmf: -16.83935020515078\n",
      "13: nyrk: -17.362953170195347\n",
      "10: qbun: -18.69256121346642\n",
      "15: lwpi: -18.9568514030274\n",
      "20: grkd: -19.246063551509607\n",
      "06: ufyr: -19.712887134013247\n",
      "09: rcvo: -21.734268800306168\n",
      "12: ozsl: -21.87823440915829\n",
      "25: bmfy: -22.02436595937885\n",
      "08: sdwp: -22.331144426845626\n",
      "16: kvoh: -23.92933806349425\n",
      "24: cngz: -24.453989064912342\n",
      "05: vgzs: -27.128131877463414\n",
      "01: zkdw: -27.23126471548987\n",
      "21: fqjc: -27.62499628724466\n",
      "14: mxqj: -28.92612616766239\n",
      "02: yjcv: -30.156891233005638\n"
     ]
    }
   ],
   "source": [
    "caesar_ciphertext = \"alex\"\n",
    "solution_list = ordered_solutions(caesar_ciphertext, find_solution_brute)\n",
    "print(\"Solutions using single letter frequencies\")\n",
    "for i in range(26):\n",
    "    print(solution_list[i])\n",
    "solution_list = ordered_solutions(caesar_ciphertext)\n",
    "print(\"Solutions using letter pair frequencies\")\n",
    "for i in range(26):\n",
    "    print(solution_list[i])"
   ]
  },
  {
   "cell_type": "code",
   "execution_count": 248,
   "metadata": {},
   "outputs": [
    {
     "ename": "SyntaxError",
     "evalue": "invalid syntax (<ipython-input-248-5ab67b3fdfc1>, line 4)",
     "output_type": "error",
     "traceback": [
      "\u001b[0;36m  File \u001b[0;32m\"<ipython-input-248-5ab67b3fdfc1>\"\u001b[0;36m, line \u001b[0;32m4\u001b[0m\n\u001b[0;31m    for\u001b[0m\n\u001b[0m        ^\u001b[0m\n\u001b[0;31mSyntaxError\u001b[0m\u001b[0;31m:\u001b[0m invalid syntax\n"
     ]
    }
   ],
   "source": [
    "def make_start_key(text, percent_list):\n",
    "    text_alpha_dict = make_alpha_dict(text)\n",
    "    text_percent_list = make_percent_list(text_alpha_dict, [])\n",
    "    for "
   ]
  },
  {
   "cell_type": "code",
   "execution_count": 257,
   "metadata": {},
   "outputs": [
    {
     "name": "stdout",
     "output_type": "stream",
     "text": [
      "january  a transcriptionby the president of the united states of americaa proclamationwhereas on the twentysecond day of september in the year of our lord one thousand eight hundred and sixtytwo a proclamation was issued by the president of the united states containing among other things the following to witthat on the first day of january in the year of our lord one thousand eight hundred and sixtythree all persons held as slaves within any state or designated part of a state the people whereof shall then be in rebellion against the united states shall be then thenceforward and forever free and the executive government of the united states including the military and naval authority thereof will recognize and maintain the freedom of such persons and will do no act or acts to repress such persons or any of them in any efforts they may make for their actual freedomthat the executive will on the first day of january aforesaid by proclamation designate the states and parts of states if any in which the people thereof respectively shall then be in rebellion against the united states and the fact that any state or the people thereof shall on that day be in good faith represented in the congress of the united states by members chosen thereto at elections wherein a majority of the qualified voters of such state shall have participated shall in the absence of strong countervailing testimony be deemed conclusive evidence that such state and the people thereof are not then in rebellion against the united statesnow therefore i abraham lincoln president of the united states by virtue of the power in me vested as commanderinchief of the army and navy of the united states in time of actual armed rebellion against the authority and government of the united states and as a fit and necessary war measure for suppressing said rebellion do on this first day of january in the year of our lord one thousand eight hundred and sixtythree and in accordance with my purpose so to do publicly proclaimed for the full period of one hundred days from the day first above mentioned order and designate as the states and parts of states wherein the people thereof respectively are this day in rebellion against the united states the following to witarkansas texas louisiana except the parishes of st bernard plaquemines jefferson st john st charles st james ascension assumption terrebonne lafourche st mary st martin and orleans including the city of new orleans mississippi alabama florida georgia south carolina north carolina and virginia except the fortyeight counties designated as west virginia and also the counties of berkley accomac northampton elizabeth city york princess ann and norfolk including the cities of norfolk and portsmouth and which excepted parts are for the present left precisely as if this proclamation were not issuedand by virtue of the power and for the purpose aforesaid i do order and declare that all persons held as slaves within said designated states and parts of states are and henceforward shall be free and that the executive government of the united states including the military and naval authorities thereof will recognize and maintain the freedom of said personsand i hereby enjoin upon the people so declared to be free to abstain from all violence unless in necessary selfdefence and i recommend to them that in all cases when allowed they labor faithfully for reasonable wagesand i further declare and make known that such persons of suitable condition will be received into the armed service of the united states to garrison forts positions stations and other places and to man vessels of all sorts in said serviceand upon this act sincerely believed to be an act of justice warranted by the constitution upon military necessity i invoke the considerate judgment of mankind and the gracious favor of almighty godin witness whereof i have hereunto set my hand and caused the seal of the united states to be affixeddone at the city of washington this first day of january in the year of our lord one thousand eight hundred and sixty three and of the independence of the united states of america the eightyseventhby the president abraham lincolnwilliam h seward secretary of state\n"
     ]
    }
   ],
   "source": [
    "eman_letters = make_letters('Emancipation_Proclamation.txt')\n",
    "\n",
    "permanent_num_key = make_rand_aris_key()\n",
    "ciphertext = encode_aris(eman_letters, permanent_num_key)\n",
    "num_key = make_rand_aris_key()\n",
    "new_num_key = list(num_key)\n",
    "log_likelihoods = []\n",
    "for i in range(10000):\n",
    "    index1 = random.randint(0, 25)\n",
    "    index2 = random.randint(0, 25)\n",
    "    plaintext = decode_aris(ciphertext, num_key)\n",
    "    new_num_key[index1], new_num_key[index2] = num_key[index2], num_key[index1]\n",
    "    new_plaintext = decode_aris(ciphertext, new_num_key)\n",
    "    plaintext_likely = find_pair_log_likelihood(plaintext, percent_list, percent_pair_list)\n",
    "    new_plaintext_likely = find_pair_log_likelihood(new_plaintext, percent_list, percent_pair_list)\n",
    "    if new_plaintext_likely > plaintext_likely:\n",
    "        num_key = list(new_num_key)\n",
    "        pair_list[index1], pair_list[index2] = pair_list[index2], pair_list[index1]\n",
    "    else:\n",
    "        new_num_key = list(num_key)\n",
    "    plaintext = decode_aris(ciphertext, num_key)\n",
    "    log_likelihoods.append(find_pair_log_likelihood(plaintext, percent_list, percent_pair_list))\n",
    "print(''.join(decode_aris(ciphertext, num_key)))"
   ]
  },
  {
   "cell_type": "code",
   "execution_count": null,
   "metadata": {},
   "outputs": [],
   "source": [
    "print(log_likelihoods[-1])\n",
    "print(find_pair_log_likelihood(eman_letters, percent_pair_list))"
   ]
  },
  {
   "cell_type": "code",
   "execution_count": null,
   "metadata": {},
   "outputs": [],
   "source": [
    "eman_letters = make_letters('Emancipation_Proclamation.txt')"
   ]
  },
  {
   "cell_type": "code",
   "execution_count": null,
   "metadata": {},
   "outputs": [],
   "source": []
  }
 ],
 "metadata": {
  "kernelspec": {
   "display_name": "Python 3",
   "language": "python",
   "name": "python3"
  },
  "language_info": {
   "codemirror_mode": {
    "name": "ipython",
    "version": 3
   },
   "file_extension": ".py",
   "mimetype": "text/x-python",
   "name": "python",
   "nbconvert_exporter": "python",
   "pygments_lexer": "ipython3",
   "version": "3.7.6"
  }
 },
 "nbformat": 4,
 "nbformat_minor": 4
}
