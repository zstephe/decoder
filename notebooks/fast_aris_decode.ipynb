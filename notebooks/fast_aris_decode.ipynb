{
 "cells": [
  {
   "cell_type": "markdown",
   "metadata": {},
   "source": [
    "# Decoding an aristocrat faster\n",
    "\n",
    "The way we have decoded aristocrats so far is effective, but slow. "
   ]
  },
  {
   "cell_type": "code",
   "execution_count": 9,
   "metadata": {},
   "outputs": [],
   "source": [
    "from utils import *"
   ]
  },
  {
   "cell_type": "markdown",
   "metadata": {},
   "source": [
    "First we read in the text we are going to encode (Emancipation proclamation), and make reference counts of word pair frequencies (from the bible)."
   ]
  },
  {
   "cell_type": "code",
   "execution_count": 10,
   "metadata": {},
   "outputs": [],
   "source": [
    "eman_letters = make_letters('../data/Emancipation_Proclamation.txt')\n",
    "ciphertext = (encode_aris(eman_letters, make_rand_aris_key()))\n",
    "bible_letters = make_letters('../data/bible.txt')\n",
    "bible_letter_count = count_letters(bible_letters)\n",
    "bible_letter_percent = normalize_counts_no_spaces(bible_letter_count)\n",
    "bible_pair_counts = count_letter_pairs(bible_letters)\n",
    "bible_matrix = compute_transition_matrix(bible_pair_counts, 0.5)"
   ]
  },
  {
   "cell_type": "markdown",
   "metadata": {},
   "source": [
    "The faster method is based on pre-computing counts of letter pairs in the encoded ciphertext. \n"
   ]
  },
  {
   "cell_type": "code",
   "execution_count": 11,
   "metadata": {},
   "outputs": [],
   "source": [
    "ciphertext_pair_counts = count_letter_pairs(ciphertext)"
   ]
  },
  {
   "cell_type": "markdown",
   "metadata": {},
   "source": [
    "Now create our start key, and run the decoder:"
   ]
  },
  {
   "cell_type": "code",
   "execution_count": 17,
   "metadata": {},
   "outputs": [
    {
     "name": "stdout",
     "output_type": "stream",
     "text": [
      "seed:  4\n",
      "index1 :  7\n",
      "index2 :  9\n",
      "[0, 1, 2, 3, 4, 5, 6, 7, 8, 9, 10, 11, 12, 13, 14, 15, 16, 17, 18, 19, 20, 21, 22, 23, 24, 25, 26]\n",
      "-633.0741082674532\n",
      "[0, 1, 2, 3, 4, 5, 6, 7, 8, 9, 10, 11, 12, 13, 14, 15, 16, 17, 18, 19, 20, 21, 22, 23, 24, 25, 26]\n",
      "[0, 1, 2, 3, 4, 5, 6, 7, 8, 9, 10, 11, 12, 13, 14, 15, 16, 17, 18, 19, 20, 21, 22, 23, 24, 25, 26]\n"
     ]
    }
   ],
   "source": [
    "start_key = char_to_num(list(alpha_list))\n",
    "num_key = [0, 1, 2, 3, 4, 5, 6, 7, 8, 9, 10, 11, 12, 13, 14, 15, 16, 17, 18, 19, 20, 21, 22, 25, 24, 23, 26]\n",
    "eman_pair_counts = count_letter_pairs(eman_letters)\n",
    "#print(calculate_log_likelihood_change(eman_letters, eman_pair_counts, bible_letter_percent, bible_matrix, 23, 25, start_key))\n",
    "\n",
    "#make_start_key(ciphertext, bible_letter_percent)\n",
    "num_key = decode_aris_faster(ciphertext, start_key, ciphertext_pair_counts, bible_letter_percent,\\\n",
    "                   bible_matrix, 1, 4)\n",
    "\n",
    "print(start_key)\n",
    "print(num_key)"
   ]
  },
  {
   "cell_type": "code",
   "execution_count": 13,
   "metadata": {},
   "outputs": [
    {
     "name": "stdout",
     "output_type": "stream",
     "text": [
      "-1505.863986279821\n"
     ]
    }
   ],
   "source": [
    "old = find_pair_log_likelihood(decode_aris(eman_letters, start_key), bible_matrix)\n",
    "new = find_pair_log_likelihood(decode_aris(eman_letters, num_key), bible_matrix)\n",
    "print(new - old)"
   ]
  },
  {
   "cell_type": "code",
   "execution_count": 14,
   "metadata": {},
   "outputs": [],
   "source": [
    "test_text = eman_letters\n",
    "changed_text = switch_letters(eman_letters, 'b', 'c')\n",
    "text_letter_count = count_letters(test_text)\n",
    "text_pair_count = count_letter_pairs(test_text)\n",
    "one = find_pair_log_likelihood(test_text, bible_matrix)\n",
    "two = find_pair_log_likelihood(changed_text, bible_matrix)\n",
    "diff = (two - one)\n",
    "start_key = char_to_num(list(alpha_list))\n",
    "index1 = alpha_list.index(\"b\")\n",
    "index2 = alpha_list.index(\"c\")\n",
    "faster_calc = (calculate_log_likelihood_change(test_text, text_pair_count, bible_letter_percent, bible_matrix, index1, index2, start_key))\n"
   ]
  },
  {
   "cell_type": "code",
   "execution_count": 15,
   "metadata": {},
   "outputs": [
    {
     "name": "stdout",
     "output_type": "stream",
     "text": [
      "-220.29815349190176\n",
      "-220.2981534919021\n",
      "1\n",
      "2\n"
     ]
    }
   ],
   "source": [
    "print(diff)\n",
    "print(faster_calc)\n",
    "print(index1)\n",
    "print(index2)"
   ]
  },
  {
   "cell_type": "code",
   "execution_count": null,
   "metadata": {},
   "outputs": [],
   "source": []
  },
  {
   "cell_type": "code",
   "execution_count": 16,
   "metadata": {},
   "outputs": [
    {
     "name": "stdout",
     "output_type": "stream",
     "text": [
      "4\n"
     ]
    }
   ],
   "source": [
    "random.seed(1)\n",
    "print(random.randint(0, 25))"
   ]
  },
  {
   "cell_type": "code",
   "execution_count": null,
   "metadata": {},
   "outputs": [],
   "source": []
  }
 ],
 "metadata": {
  "kernelspec": {
   "display_name": "Python 3",
   "language": "python",
   "name": "python3"
  },
  "language_info": {
   "codemirror_mode": {
    "name": "ipython",
    "version": 3
   },
   "file_extension": ".py",
   "mimetype": "text/x-python",
   "name": "python",
   "nbconvert_exporter": "python",
   "pygments_lexer": "ipython3",
   "version": "3.7.6"
  }
 },
 "nbformat": 4,
 "nbformat_minor": 4
}
