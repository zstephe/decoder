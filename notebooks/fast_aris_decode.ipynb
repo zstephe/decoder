{
 "cells": [
  {
   "cell_type": "markdown",
   "metadata": {},
   "source": [
    "# Decoding an aristocrat faster\n",
    "\n",
    "The way we have decoded aristocrats so far is effective, but slow. "
   ]
  },
  {
   "cell_type": "code",
   "execution_count": 1,
   "metadata": {},
   "outputs": [],
   "source": [
    "from utils import *"
   ]
  },
  {
   "cell_type": "markdown",
   "metadata": {},
   "source": [
    "First we read in the text we are going to encode (Emancipation proclamation), and make reference counts of word pair frequencies (from the bible)."
   ]
  },
  {
   "cell_type": "code",
   "execution_count": 2,
   "metadata": {},
   "outputs": [],
   "source": [
    "eman_letters = make_letters('../data/Emancipation_Proclamation.txt')\n",
    "ciphertext = (encode_aris(eman_letters, make_rand_aris_key()))\n",
    "bible_letters = make_letters('../data/bible.txt')\n",
    "bible_letter_count = count_letters(bible_letters)\n",
    "bible_letter_percent = normalize_counts_no_spaces(bible_letter_count)\n",
    "bible_pair_counts = count_letter_pairs(bible_letters)\n",
    "bible_matrix = compute_transition_matrix(bible_pair_counts, 0.5)"
   ]
  },
  {
   "cell_type": "markdown",
   "metadata": {},
   "source": [
    "The faster method is based on pre-computing counts of letter pairs in the encoded ciphertext. \n"
   ]
  },
  {
   "cell_type": "code",
   "execution_count": 3,
   "metadata": {},
   "outputs": [],
   "source": [
    "ciphertext_pair_counts = count_letter_pairs(ciphertext)"
   ]
  },
  {
   "cell_type": "markdown",
   "metadata": {},
   "source": [
    "Now create our start key, and run the decoder:"
   ]
  },
  {
   "cell_type": "code",
   "execution_count": 4,
   "metadata": {},
   "outputs": [
    {
     "name": "stdout",
     "output_type": "stream",
     "text": [
      "[8, 16, 23, 1, 25, 3, 22, 21, 17, 15, 5, 19, 20, 12, 14, 4, 0, 24, 6, 18, 7, 9, 2, 13, 10, 11, 26]\n",
      "jhamhsw  h tshanusiytioabw tre ysenideat of tre maited nthten of hgesiuhh ysoulhghtioapresehn oa tre tpeatwneuoad dhw of neytegbes ia tre wehs of oms losd oae tromnhad eicrt rmadsed had niktwtpo\n",
      "[8, 16, 23, 1, 25, 3, 22, 21, 17, 15, 5, 19, 20, 12, 14, 4, 0, 24, 6, 18, 7, 9, 2, 13, 10, 11, 26]\n",
      "[21, 16, 7, 1, 25, 3, 23, 24, 17, 15, 11, 19, 22, 8, 14, 10, 0, 6, 12, 18, 20, 9, 4, 5, 2, 13, 26]\n"
     ]
    }
   ],
   "source": [
    "eman_pair_counts = count_letter_pairs(eman_letters)\n",
    "\n",
    "start_key = make_start_key(ciphertext, bible_letter_percent)\n",
    "start_key.append(26)\n",
    "print(start_key)\n",
    "print(''.join(decode_aris(ciphertext[0:194], start_key)))\n",
    "num_key = new_decode_aris_faster(start_key, ciphertext_pair_counts, bible_matrix)\n",
    "\n",
    "print(start_key)\n",
    "print(num_key)\n"
   ]
  },
  {
   "cell_type": "code",
   "execution_count": 5,
   "metadata": {},
   "outputs": [
    {
     "name": "stdout",
     "output_type": "stream",
     "text": [
      "january  a transcriptionby the president of the united states of americaa proclamationwhereas on the twentysecond day of september in the year of our lord one thousand eight hundred and sixtytwo\n"
     ]
    }
   ],
   "source": [
    "print(''.join(decode_aris(ciphertext[0:194], num_key)))"
   ]
  },
  {
   "cell_type": "markdown",
   "metadata": {},
   "source": [
    "The way this works is by computing the change in likelihood for each guess. Instead of going through every letter in the text and calculating the likelihood for both possibilities, it looks at the pair frequency matrix and calculates the change based only on the rows and columns that contain the letter to be switched. This means that this method works much faster than the other one."
   ]
  },
  {
   "cell_type": "code",
   "execution_count": null,
   "metadata": {},
   "outputs": [],
   "source": []
  }
 ],
 "metadata": {
  "kernelspec": {
   "display_name": "Python 3",
   "language": "python",
   "name": "python3"
  },
  "language_info": {
   "codemirror_mode": {
    "name": "ipython",
    "version": 3
   },
   "file_extension": ".py",
   "mimetype": "text/x-python",
   "name": "python",
   "nbconvert_exporter": "python",
   "pygments_lexer": "ipython3",
   "version": "3.7.6"
  }
 },
 "nbformat": 4,
 "nbformat_minor": 4
}
