{
 "cells": [
  {
   "cell_type": "markdown",
   "metadata": {},
   "source": [
    "# Decoding an aristocrat faster\n",
    "\n",
    "The way we have decoded aristocrats so far is effective, but slow. "
   ]
  },
  {
   "cell_type": "code",
   "execution_count": 1,
   "metadata": {},
   "outputs": [],
   "source": [
    "from utils import *"
   ]
  },
  {
   "cell_type": "markdown",
   "metadata": {},
   "source": [
    "First we read in the text we are going to encode (Emancipation proclamation), and make reference counts of word pair frequencies (from the bible)."
   ]
  },
  {
   "cell_type": "code",
   "execution_count": 2,
   "metadata": {},
   "outputs": [],
   "source": [
    "eman_letters = make_letters('../data/Emancipation_Proclamation.txt')\n",
    "ciphertext = (encode_aris(eman_letters, make_rand_aris_key()))\n",
    "bible_letters = make_letters('../data/bible.txt')\n",
    "bible_letter_count = count_letters(bible_letters)\n",
    "bible_letter_percent = normalize_counts_no_spaces(bible_letter_count)\n",
    "bible_pair_counts = count_letter_pairs(bible_letters)\n",
    "bible_matrix = compute_transition_matrix(bible_pair_counts, 0.5)"
   ]
  },
  {
   "cell_type": "markdown",
   "metadata": {},
   "source": [
    "The faster method is based on pre-computing counts of letter pairs in the encoded ciphertext. \n"
   ]
  },
  {
   "cell_type": "code",
   "execution_count": 3,
   "metadata": {},
   "outputs": [],
   "source": [
    "ciphertext_pair_counts = count_letter_pairs(ciphertext)"
   ]
  },
  {
   "cell_type": "markdown",
   "metadata": {},
   "source": [
    "Now create our start key, and run the decoder:"
   ]
  },
  {
   "cell_type": "code",
   "execution_count": 4,
   "metadata": {},
   "outputs": [
    {
     "name": "stdout",
     "output_type": "stream",
     "text": [
      "[12, 25, 2, 16, 1, 7, 4, 24, 6, 21, 9, 11, 14, 10, 17, 15, 3, 18, 23, 22, 13, 8, 5, 20, 19, 0, 26]\n",
      "khamhsw  h tshanusiytioabw tre ysenideat of tre maited nthten of hgesiuhh ysoulhghtioapresehn oa tre tpeatwneuoad dhw of neytegbes ia tre wehs of oms losd oae tromnhad eicrt rmadsed had nijtwtpo h ysoulhghtioa phn innmed bw tre ysenideat of tre maited nthten uoathiaiac hgoac otres triacn tre follopiac to pittrht oa tre fisnt dhw of khamhsw ia tre wehs of oms losd oae tromnhad eicrt rmadsed had nijtwtrsee hll yesnoan reld hn nlhven pitria haw nthte os denicahted yhst of h nthte tre yeoyle preseof nrhll trea be ia sebellioa hchiant tre maited nthten nrhll be trea treauefosphsd had foseves fsee had tre ejeumtive covesageat of tre maited nthten iaulmdiac tre gilithsw had ahvhl hmtrositw treseof pill seuocaixe had ghiathia tre fseedog of nmur yesnoan had pill do ao hut os hutn to seysenn nmur yesnoan os haw of treg ia haw effostn trew ghw ghze fos treis hutmhl fseedogtrht tre ejeumtive pill oa tre fisnt dhw of khamhsw hfosenhid bw ysoulhghtioa denicahte tre nthten had yhstn of nthten if haw ia priur tre yeoyle treseof senyeutivelw nrhll trea be ia sebellioa hchiant tre maited nthten had tre fhut trht haw nthte os tre yeoyle treseof nrhll oa trht dhw be ia cood fhitr seyseneated ia tre uoacsenn of tre maited nthten bw gegbesn uronea treseto ht eleutioan preseia h ghkositw of tre qmhlified votesn of nmur nthte nrhll rhve yhstiuiyhted nrhll ia tre hbneaue of ntsoac uomatesvhiliac tentigoaw be deeged uoaulmnive evideaue trht nmur nthte had tre yeoyle treseof hse aot trea ia sebellioa hchiant tre maited nthtenaop tresefose i hbshrhg liauola ysenideat of tre maited nthten bw vistme of tre yopes ia ge vented hn uogghadesiaurief of tre hsgw had ahvw of tre maited nthten ia tige of hutmhl hsged sebellioa hchiant tre hmtrositw had covesageat of tre maited nthten had hn h fit had aeuennhsw phs gehnmse fos nmyysenniac nhid sebellioa do oa trin fisnt dhw of khamhsw ia tre wehs of oms losd oae tromnhad eicrt rmadsed had nijtwtrsee had ia huuosdhaue pitr gw ymsyone no to do ymbliulw ysoulhiged fos tre fmll yesiod of oae rmadsed dhwn fsog tre dhw fisnt hbove geatioaed osdes had denicahte hn tre nthten had yhstn of nthten preseia tre yeoyle treseof senyeutivelw hse trin dhw ia sebellioa hchiant tre maited nthten tre follopiac to pithszhanhn tejhn lominihah ejueyt tre yhsinren of nt besahsd ylhqmegiaen keffesnoa nt kora nt urhslen nt khgen hnueanioa hnnmgytioa tesseboaae lhfomsure nt ghsw nt ghstia had oslehan iaulmdiac tre uitw of aep oslehan ginninniyyi hlhbhgh flosidh ceoscih nomtr uhsoliah aostr uhsoliah had visciaih ejueyt tre fostweicrt uomatien denicahted hn pent visciaih had hlno tre uomatien of beszlew huuoghu aostrhgytoa elixhbetr uitw wosz ysiauenn haa had aosfolz iaulmdiac tre uitien of aosfolz had yostngomtr had priur ejueyted yhstn hse fos tre yseneat left yseuinelw hn if trin ysoulhghtioa pese aot innmedhad bw vistme of tre yopes had fos tre ymsyone hfosenhid i do osdes had deulhse trht hll yesnoan reld hn nlhven pitria nhid denicahted nthten had yhstn of nthten hse had reauefosphsd nrhll be fsee had trht tre ejeumtive covesageat of tre maited nthten iaulmdiac tre gilithsw had ahvhl hmtrositien treseof pill seuocaixe had ghiathia tre fseedog of nhid yesnoanhad i resebw eakoia myoa tre yeoyle no deulhsed to be fsee to hbnthia fsog hll violeaue malenn ia aeuennhsw nelfdefeaue had i seuoggead to treg trht ia hll uhnen prea hlloped trew lhbos fhitrfmllw fos sehnoahble phcenhad i fmstres deulhse had ghze zaopa trht nmur yesnoan of nmithble uoaditioa pill be seueived iato tre hsged nesviue of tre maited nthten to chssinoa fostn yonitioan nthtioan had otres ylhuen had to gha venneln of hll nostn ia nhid nesviuehad myoa trin hut niaueselw believed to be ha hut of kmntiue phsshated bw tre uoantitmtioa myoa gilithsw aeuennitw i iavoze tre uoanideshte kmdcgeat of ghaziad had tre cshuiomn fhvos of hlgicrtw codia pitaenn preseof i rhve resemato net gw rhad had uhmned tre nehl of tre maited nthten to be hffijeddoae ht tre uitw of phnriactoa trin fisnt dhw of khamhsw ia tre wehs of oms losd oae tromnhad eicrt rmadsed had nijtw trsee had of tre iadeyeadeaue of tre maited nthten of hgesiuh tre eicrtwneveatrbw tre ysenideat hbshrhg liauolapillihg r nephsd neusethsw of nthte\n",
      "[12, 25, 2, 16, 1, 7, 4, 24, 6, 21, 9, 11, 14, 10, 17, 15, 3, 18, 23, 22, 13, 8, 5, 20, 19, 0, 26]\n",
      "[24, 25, 13, 16, 1, 7, 2, 18, 6, 9, 0, 11, 4, 12, 17, 19, 3, 23, 10, 22, 14, 8, 15, 21, 5, 20, 26]\n"
     ]
    }
   ],
   "source": [
    "eman_pair_counts = count_letter_pairs(eman_letters)\n",
    "\n",
    "start_key = make_start_key(ciphertext, bible_letter_percent)\n",
    "start_key.append(26)\n",
    "print(start_key)\n",
    "print(''.join(decode_aris(ciphertext, start_key)))\n",
    "num_key = new_decode_aris_faster(start_key, ciphertext_pair_counts, bible_matrix)\n",
    "\n",
    "print(start_key)\n",
    "print(num_key)\n"
   ]
  },
  {
   "cell_type": "code",
   "execution_count": 5,
   "metadata": {},
   "outputs": [
    {
     "name": "stdout",
     "output_type": "stream",
     "text": [
      "january  a transcriptionby the president of the united states of americaa proclamationwhereas on the twentysecond day of september in the year of our lord one thousand eight hundred and sixtytwo a proclamation was issued by the president of the united states containing among other things the following to witthat on the first day of january in the year of our lord one thousand eight hundred and sixtythree all persons held as slaves within any state or designated part of a state the people whereof shall then be in rebellion against the united states shall be then thenceforward and forever free and the executive government of the united states including the military and naval authority thereof will recognize and maintain the freedom of such persons and will do no act or acts to repress such persons or any of them in any efforts they may make for their actual freedomthat the executive will on the first day of january aforesaid by proclamation designate the states and parts of states if any in which the people thereof respectively shall then be in rebellion against the united states and the fact that any state or the people thereof shall on that day be in good faith represented in the congress of the united states by members chosen thereto at elections wherein a majority of the qualified voters of such state shall have participated shall in the absence of strong countervailing testimony be deemed conclusive evidence that such state and the people thereof are not then in rebellion against the united statesnow therefore i abraham lincoln president of the united states by virtue of the power in me vested as commanderinchief of the army and navy of the united states in time of actual armed rebellion against the authority and government of the united states and as a fit and necessary war measure for suppressing said rebellion do on this first day of january in the year of our lord one thousand eight hundred and sixtythree and in accordance with my purpose so to do publicly proclaimed for the full period of one hundred days from the day first above mentioned order and designate as the states and parts of states wherein the people thereof respectively are this day in rebellion against the united states the following to witarkansas texas louisiana except the parishes of st bernard plaquemines jefferson st john st charles st james ascension assumption terrebonne lafourche st mary st martin and orleans including the city of new orleans mississippi alabama florida georgia south carolina north carolina and virginia except the fortyeight counties designated as west virginia and also the counties of berkley accomac northampton elizabeth city york princess ann and norfolk including the cities of norfolk and portsmouth and which excepted parts are for the present left precisely as if this proclamation were not issuedand by virtue of the power and for the purpose aforesaid i do order and declare that all persons held as slaves within said designated states and parts of states are and henceforward shall be free and that the executive government of the united states including the military and naval authorities thereof will recognize and maintain the freedom of said personsand i hereby enjoin upon the people so declared to be free to abstain from all violence unless in necessary selfdefence and i recommend to them that in all cases when allowed they labor faithfully for reasonable wagesand i further declare and make known that such persons of suitable condition will be received into the armed service of the united states to garrison forts positions stations and other places and to man vessels of all sorts in said serviceand upon this act sincerely believed to be an act of justice warranted by the constitution upon military necessity i invoke the considerate judgment of mankind and the gracious favor of almighty godin witness whereof i have hereunto set my hand and caused the seal of the united states to be affixeddone at the city of washington this first day of january in the year of our lord one thousand eight hundred and sixty three and of the independence of the united states of america the eightyseventhby the president abraham lincolnwilliam h seward secretary of state\n"
     ]
    }
   ],
   "source": [
    "print(''.join(decode_aris(ciphertext, num_key)))"
   ]
  },
  {
   "cell_type": "code",
   "execution_count": 6,
   "metadata": {},
   "outputs": [
    {
     "name": "stdout",
     "output_type": "stream",
     "text": [
      "3568.3933949003604\n",
      "3568.3933949004713\n",
      "[12, 25, 2, 16, 1, 7, 4, 24, 6, 21, 9, 11, 14, 10, 17, 15, 3, 18, 23, 22, 13, 8, 5, 20, 19, 0, 26]\n",
      "[24, 25, 13, 16, 1, 7, 2, 18, 6, 9, 0, 11, 4, 12, 17, 19, 3, 23, 10, 22, 14, 8, 15, 21, 5, 20, 26]\n"
     ]
    }
   ],
   "source": [
    "old = compute_key_log_likelihood_pairs(ciphertext_pair_counts, bible_matrix, start_key)\n",
    "new = compute_key_log_likelihood_pairs(ciphertext_pair_counts, bible_matrix, num_key)\n",
    "print(new - old)\n",
    "old = find_pair_log_likelihood(decode_aris(ciphertext, start_key), bible_matrix)\n",
    "new = find_pair_log_likelihood(decode_aris(ciphertext, num_key), bible_matrix)\n",
    "print(new - old)\n",
    "print(start_key)\n",
    "print(num_key)"
   ]
  },
  {
   "cell_type": "code",
   "execution_count": 7,
   "metadata": {},
   "outputs": [],
   "source": [
    "test_text = eman_letters\n",
    "changed_text = switch_letters(eman_letters, 'b', 'c')\n",
    "text_letter_count = count_letters(test_text)\n",
    "text_pair_count = count_letter_pairs(test_text)\n",
    "one = find_pair_log_likelihood(test_text, bible_matrix)\n",
    "two = find_pair_log_likelihood(changed_text, bible_matrix)\n",
    "diff = (two - one)\n",
    "start_key = char_to_num(list(alpha_list))\n",
    "index1 = alpha_list.index(\"b\")\n",
    "index2 = alpha_list.index(\"c\")\n",
    "faster_calc = (calculate_log_likelihood_change(test_text, text_pair_count, bible_letter_percent, bible_matrix, index1, index2, start_key))\n"
   ]
  },
  {
   "cell_type": "code",
   "execution_count": 8,
   "metadata": {},
   "outputs": [
    {
     "name": "stdout",
     "output_type": "stream",
     "text": [
      "-220.29815349189448\n",
      "-220.2981534919021\n",
      "1\n",
      "2\n"
     ]
    }
   ],
   "source": [
    "print(diff)\n",
    "print(faster_calc)\n",
    "print(index1)\n",
    "print(index2)"
   ]
  },
  {
   "cell_type": "code",
   "execution_count": null,
   "metadata": {},
   "outputs": [],
   "source": []
  },
  {
   "cell_type": "code",
   "execution_count": 9,
   "metadata": {},
   "outputs": [
    {
     "name": "stdout",
     "output_type": "stream",
     "text": [
      "4\n"
     ]
    }
   ],
   "source": [
    "random.seed(1)\n",
    "print(random.randint(0, 25))"
   ]
  },
  {
   "cell_type": "code",
   "execution_count": null,
   "metadata": {},
   "outputs": [],
   "source": []
  },
  {
   "cell_type": "code",
   "execution_count": null,
   "metadata": {},
   "outputs": [],
   "source": []
  }
 ],
 "metadata": {
  "kernelspec": {
   "display_name": "Python 3",
   "language": "python",
   "name": "python3"
  },
  "language_info": {
   "codemirror_mode": {
    "name": "ipython",
    "version": 3
   },
   "file_extension": ".py",
   "mimetype": "text/x-python",
   "name": "python",
   "nbconvert_exporter": "python",
   "pygments_lexer": "ipython3",
   "version": "3.7.6"
  }
 },
 "nbformat": 4,
 "nbformat_minor": 4
}
