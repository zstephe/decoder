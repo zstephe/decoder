{
 "cells": [
  {
   "cell_type": "markdown",
   "metadata": {},
   "source": [
    "# Likelihood for inferring key\n",
    "\n",
    "Here I define some likelihood-based methods to infer a key for a cipher.\n"
   ]
  },
  {
   "cell_type": "markdown",
   "metadata": {},
   "source": [
    "## Likelihoods based on single letter frequencies\n",
    "\n",
    "The frequecy tables generated in the counting notebook are put to use here. First I look at the frequency of each letter. In this example, I encode a text using a caesar cipher (shift cipher) with a key of 14, and then return the most probably answer based on the likelihood of each letter."
   ]
  },
  {
   "cell_type": "code",
   "execution_count": 1,
   "metadata": {},
   "outputs": [],
   "source": [
    "from utils import *"
   ]
  },
  {
   "cell_type": "code",
   "execution_count": 2,
   "metadata": {},
   "outputs": [],
   "source": [
    "bible_letters = make_letters('../data/bible.txt')\n",
    "bible_letter_count = count_letters(bible_letters)\n",
    "bible_letter_percent = normalize_counts_no_spaces(bible_letter_count)"
   ]
  },
  {
   "cell_type": "markdown",
   "metadata": {},
   "source": [
    "The simple likelihood computation multiplies together the letter frequencies.\n",
    "So for example, the likelihood for \"the\" will be the frequency of t times frequency of h\n",
    "times frequency of e. \n"
   ]
  },
  {
   "cell_type": "code",
   "execution_count": 4,
   "metadata": {},
   "outputs": [
    {
     "name": "stdout",
     "output_type": "stream",
     "text": [
      "0.001089168502310533\n",
      "0.001089168502310533\n"
     ]
    }
   ],
   "source": [
    "print(find_likelihood(\"the\",bible_letter_percent))\n",
    "print(bible_letter_percent[alpha_list.index(\"t\")] * \\\n",
    "      bible_letter_percent[alpha_list.index(\"h\")] * \\\n",
    "      bible_letter_percent[alpha_list.index(\"e\")])"
   ]
  },
  {
   "cell_type": "markdown",
   "metadata": {},
   "source": [
    "And we can also compute the log-likelihood as the sum of the log frequencies.\n",
    "This stops numerical error from the number getting tiny."
   ]
  },
  {
   "cell_type": "code",
   "execution_count": 5,
   "metadata": {},
   "outputs": [
    {
     "name": "stdout",
     "output_type": "stream",
     "text": [
      "-6.82234071576998\n",
      "-6.822340715769981\n"
     ]
    }
   ],
   "source": [
    "#need some examples of computing likelihoods\n",
    "print(log(find_likelihood(\"the\",bible_letter_percent)))\n",
    "print(find_log_likelihood(\"the\",bible_letter_percent))"
   ]
  },
  {
   "cell_type": "markdown",
   "metadata": {},
   "source": [
    "When computing the likelihood, I ignore spaces. This is because spaces are often left unchanged when a cipher is encoded. See how decoding 'the' and 't h e' return the same result."
   ]
  },
  {
   "cell_type": "code",
   "execution_count": 3,
   "metadata": {},
   "outputs": [
    {
     "name": "stdout",
     "output_type": "stream",
     "text": [
      "-6.822340715769981\n",
      "-6.822340715769981\n"
     ]
    }
   ],
   "source": [
    "print(find_log_likelihood('the', bible_letter_percent))\n",
    "print(find_log_likelihood('t h e', bible_letter_percent))"
   ]
  },
  {
   "cell_type": "markdown",
   "metadata": {},
   "source": [
    "I also implemented a log-likelihood based on first counting the letter frequencies in the ciphertext and then computing the likelihood for any given key. See how this function returns the same answer as those in the previous cell."
   ]
  },
  {
   "cell_type": "code",
   "execution_count": 4,
   "metadata": {},
   "outputs": [
    {
     "name": "stdout",
     "output_type": "stream",
     "text": [
      "-6.822340715769981\n"
     ]
    }
   ],
   "source": [
    "text_letter_counts = count_letters('the')\n",
    "num_key = []\n",
    "for i in range(26):\n",
    "    num_key.append(i)\n",
    "print(compute_key_log_likelihood_singles(text_letter_counts, bible_letter_percent, num_key))"
   ]
  },
  {
   "cell_type": "markdown",
   "metadata": {},
   "source": [
    "Notice how the you now have two ways to change the outcome of the function: changing the text and changing the key. If you change the key at the index for 'e' and the index for 's', you get the equivalent of finding the log-likelihood of 'ths'."
   ]
  },
  {
   "cell_type": "code",
   "execution_count": 6,
   "metadata": {},
   "outputs": [
    {
     "name": "stdout",
     "output_type": "stream",
     "text": [
      "-7.596783010072889\n",
      "-7.596783010072889\n"
     ]
    }
   ],
   "source": [
    "num_key = []\n",
    "for i in range(26):\n",
    "    num_key.append(i)\n",
    "num_key[18], num_key[4] = num_key[4], num_key[18]\n",
    "print(compute_key_log_likelihood_singles(text_letter_counts, bible_letter_percent, num_key))\n",
    "print(find_log_likelihood('ths', bible_letter_percent))"
   ]
  },
  {
   "cell_type": "markdown",
   "metadata": {},
   "source": [
    "## Likelihood based on pair frequencies\n",
    "\n",
    "Of course letters in English are not independent. Here I compute a likelihood based on the transitions between letters (a \"Markov chain\"). First I compute the transition matrix."
   ]
  },
  {
   "cell_type": "code",
   "execution_count": 3,
   "metadata": {},
   "outputs": [],
   "source": [
    "bible_pair_counts = count_letter_pairs(bible_letters)\n",
    "bible_matrix = compute_transition_matrix(bible_pair_counts, 0.5)"
   ]
  },
  {
   "cell_type": "markdown",
   "metadata": {},
   "source": [
    "The log-likelihood is based on the sum of the logarithms of the transition probabilities for all letter pairs. The first letter is taken care of by saying it is a pair of space and the letter."
   ]
  },
  {
   "cell_type": "code",
   "execution_count": 5,
   "metadata": {},
   "outputs": [
    {
     "name": "stdout",
     "output_type": "stream",
     "text": [
      "-3.0931575455336557\n",
      "-3.0931575455336557\n"
     ]
    }
   ],
   "source": [
    "print(find_pair_log_likelihood(\"the\", bible_matrix))\n",
    "print(log(bible_matrix[alpha_list.index(\" \")][alpha_list.index(\"t\")]) + \\\n",
    "      log(bible_matrix[alpha_list.index(\"t\")][alpha_list.index(\"h\")]) + \\\n",
    "      log(bible_matrix[alpha_list.index(\"h\")][alpha_list.index(\"e\")]))"
   ]
  },
  {
   "cell_type": "code",
   "execution_count": 4,
   "metadata": {},
   "outputs": [
    {
     "name": "stdout",
     "output_type": "stream",
     "text": [
      "-3.093157545533656\n"
     ]
    }
   ],
   "source": [
    "text_pair_counts = count_letter_pairs('the')\n",
    "num_key = []\n",
    "for i in range(27):\n",
    "    num_key.append(i)\n",
    "print(compute_key_log_likelihood_pairs(text_pair_counts, bible_matrix, num_key))"
   ]
  },
  {
   "cell_type": "code",
   "execution_count": 5,
   "metadata": {},
   "outputs": [
    {
     "name": "stdout",
     "output_type": "stream",
     "text": [
      "3\n"
     ]
    }
   ],
   "source": [
    "total = 0\n",
    "for i in range(27):\n",
    "    total += sum(text_pair_counts[i])\n",
    "print(total)"
   ]
  },
  {
   "cell_type": "code",
   "execution_count": null,
   "metadata": {},
   "outputs": [],
   "source": []
  }
 ],
 "metadata": {
  "kernelspec": {
   "display_name": "Python 3",
   "language": "python",
   "name": "python3"
  },
  "language_info": {
   "codemirror_mode": {
    "name": "ipython",
    "version": 3
   },
   "file_extension": ".py",
   "mimetype": "text/x-python",
   "name": "python",
   "nbconvert_exporter": "python",
   "pygments_lexer": "ipython3",
   "version": "3.7.6"
  }
 },
 "nbformat": 4,
 "nbformat_minor": 4
}
