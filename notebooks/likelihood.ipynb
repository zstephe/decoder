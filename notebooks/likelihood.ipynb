{
 "cells": [
  {
   "cell_type": "markdown",
   "metadata": {},
   "source": [
    "# Likelihood for inferring key\n",
    "\n",
    "Here I define some likelihood-based methods to infer a key for a cipher.\n"
   ]
  },
  {
   "cell_type": "markdown",
   "metadata": {},
   "source": [
    "## Likelihoods based on single letter frequencies\n",
    "\n",
    "The frequecy tables generated in the counting notebook are put to use here. First I look at the frequency of each letter. In this example, I encode a text using a caesar cipher (shift cipher) with a key of 14, and then return the most probably answer based on the likelihood of each letter."
   ]
  },
  {
   "cell_type": "code",
   "execution_count": 1,
   "metadata": {},
   "outputs": [],
   "source": [
    "from utils import *"
   ]
  },
  {
   "cell_type": "code",
   "execution_count": null,
   "metadata": {},
   "outputs": [],
   "source": [
    "bible_letters = make_letters('../data/bible.txt')\n",
    "bible_letter_count = count_letters(bible_letters)\n",
    "bible_letter_percent = normalize_counts_no_spaces(bible_letter_count)"
   ]
  },
  {
   "cell_type": "markdown",
   "metadata": {},
   "source": [
    "The simple likelihood computation multiplies together the letter frequencies.\n",
    "So for example, the likelihood for \"the\" will be the frequency of t times frequency of h\n",
    "times frequency of e. \n"
   ]
  },
  {
   "cell_type": "code",
   "execution_count": 4,
   "metadata": {},
   "outputs": [
    {
     "name": "stdout",
     "output_type": "stream",
     "text": [
      "0.001089168502310533\n",
      "0.001089168502310533\n"
     ]
    }
   ],
   "source": [
    "print(find_likelihood(\"the\",bible_letter_percent))\n",
    "print(bible_letter_percent[alpha_list.index(\"t\")] * \\\n",
    "      bible_letter_percent[alpha_list.index(\"h\")] * \\\n",
    "      bible_letter_percent[alpha_list.index(\"e\")])"
   ]
  },
  {
   "cell_type": "markdown",
   "metadata": {},
   "source": [
    "And we can also compute the log-likelihood as the sum of the log frequencies.\n",
    "This stops numerical error from the number getting tiny."
   ]
  },
  {
   "cell_type": "code",
   "execution_count": 5,
   "metadata": {},
   "outputs": [
    {
     "name": "stdout",
     "output_type": "stream",
     "text": [
      "-6.82234071576998\n",
      "-6.822340715769981\n"
     ]
    }
   ],
   "source": [
    "#need some examples of computing likelihoods\n",
    "print(log(find_likelihood(\"the\",bible_letter_percent)))\n",
    "print(find_log_likelihood(\"the\",bible_letter_percent))"
   ]
  },
  {
   "cell_type": "markdown",
   "metadata": {},
   "source": [
    "When computing the likelihood, I ignore spaces. This is because spaces are often left unchanged when a cipher is encoded. See how decoding 'the' and 't h e' return the same result."
   ]
  },
  {
   "cell_type": "code",
   "execution_count": 7,
   "metadata": {},
   "outputs": [
    {
     "name": "stdout",
     "output_type": "stream",
     "text": [
      "-6.822340715769981\n",
      "-6.822340715769981\n"
     ]
    }
   ],
   "source": [
    "print(find_log_likelihood('the', bible_letter_percent))\n",
    "print(find_log_likelihood('t h e', bible_letter_percent))"
   ]
  },
  {
   "cell_type": "markdown",
   "metadata": {},
   "source": [
    "## Likelihood based on pair frequencies\n",
    "\n",
    "Of course letters in English are not independent. Here I compute a likelihood based on the transitions between letters (a \"Markov chain\"). First I compute the transition matrix."
   ]
  },
  {
   "cell_type": "code",
   "execution_count": 18,
   "metadata": {},
   "outputs": [],
   "source": [
    "bible_pair_counts = count_letter_pairs(bible_letters)\n",
    "bible_matrix = compute_transition_matrix(bible_pair_counts, 0.5)"
   ]
  },
  {
   "cell_type": "markdown",
   "metadata": {},
   "source": [
    "The log-likelihood is based on the sum of the logarithm of the frequency of the first letter, and then the logarithm of the transition probabilities for remaining letter pairs."
   ]
  },
  {
   "cell_type": "code",
   "execution_count": 19,
   "metadata": {},
   "outputs": [
    {
     "name": "stdout",
     "output_type": "stream",
     "text": [
      "-3.778488818565315\n",
      "-3.778488818565315\n"
     ]
    }
   ],
   "source": [
    "print(find_pair_log_likelihood(\"the\",bible_letter_percent,bible_matrix))\n",
    "print(log(bible_letter_percent[alpha_list.index(\"t\")]) + \\\n",
    "      log(bible_matrix[alpha_list.index(\"t\")][alpha_list.index(\"h\")]) + \\\n",
    "      log(bible_matrix[alpha_list.index(\"h\")][alpha_list.index(\"e\")]))"
   ]
  },
  {
   "cell_type": "code",
   "execution_count": null,
   "metadata": {},
   "outputs": [],
   "source": []
  }
 ],
 "metadata": {
  "kernelspec": {
   "display_name": "Python 3",
   "language": "python",
   "name": "python3"
  },
  "language_info": {
   "codemirror_mode": {
    "name": "ipython",
    "version": 3
   },
   "file_extension": ".py",
   "mimetype": "text/x-python",
   "name": "python",
   "nbconvert_exporter": "python",
   "pygments_lexer": "ipython3",
   "version": "3.7.6"
  }
 },
 "nbformat": 4,
 "nbformat_minor": 4
}
