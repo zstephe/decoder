{
 "cells": [
  {
   "cell_type": "markdown",
   "metadata": {},
   "source": [
    "# Baconian Ciphers\n",
    "\n",
    "A baconian cipher is a cipher in which each letter is coded for by a series of five symbols of two types. Here we will default to a standard 'a' and 'b' for our encoding and decoding."
   ]
  },
  {
   "cell_type": "code",
   "execution_count": 9,
   "metadata": {},
   "outputs": [],
   "source": [
    "from utils import *"
   ]
  },
  {
   "cell_type": "markdown",
   "metadata": {},
   "source": [
    "## The first version\n",
    "There are two versions of the baconian cipher, in the first, i&j have the same encoded text and u&v have the same encoded text. Shown below is the chart for encoding and decoding letters in the first version. Notice how the encoded i&j, and u&v are the same."
   ]
  },
  {
   "cell_type": "code",
   "execution_count": 10,
   "metadata": {},
   "outputs": [
    {
     "name": "stdout",
     "output_type": "stream",
     "text": [
      "a: aaaaa\n",
      "b: aaaab\n",
      "c: aaaba\n",
      "d: aaabb\n",
      "e: aabaa\n",
      "f: aabab\n",
      "g: aabba\n",
      "h: aabbb\n",
      "i: abaaa\n",
      "j: abaaa\n",
      "k: abaab\n",
      "l: ababa\n",
      "m: ababb\n",
      "n: abbaa\n",
      "o: abbab\n",
      "p: abbba\n",
      "q: abbbb\n",
      "r: baaaa\n",
      "s: baaab\n",
      "t: baaba\n",
      "u: baabb\n",
      "v: baabb\n",
      "w: babaa\n",
      "x: babab\n",
      "y: babba\n",
      "z: babbb\n"
     ]
    }
   ],
   "source": [
    "for i in range(len(bacon1_list)):\n",
    "    print(alpha_list[i] + \": \" + bacon1_list[i])"
   ]
  },
  {
   "cell_type": "markdown",
   "metadata": {},
   "source": [
    "Here's an example of encoding and decoding some text into a baconian using the first baconian version. I've split up the letters to make it easier to read in the encoded part."
   ]
  },
  {
   "cell_type": "code",
   "execution_count": 11,
   "metadata": {},
   "outputs": [
    {
     "name": "stdout",
     "output_type": "stream",
     "text": [
      "aaaab aaaaa aaaba abbab abbaa abaaa aaaaa abbaa baaab   aabbb aaaaa baabb aabaa   aaaaa   baaaa aabaa aaaaa ababa ababa babba   aabab baabb abbaa   abbaa aaaaa ababb aabaa\n"
     ]
    }
   ],
   "source": [
    "plaintext = 'baconians have a really fun name'\n",
    "ciphertext = (encode_bacon(plaintext, bacon1_list))\n",
    "print(' '.join(ciphertext))"
   ]
  },
  {
   "cell_type": "code",
   "execution_count": 12,
   "metadata": {},
   "outputs": [
    {
     "name": "stdout",
     "output_type": "stream",
     "text": [
      "baconians haue a really fun name\n"
     ]
    }
   ],
   "source": [
    "print(''.join(decode_bacon(ciphertext, bacon1_list)))"
   ]
  },
  {
   "cell_type": "markdown",
   "metadata": {},
   "source": [
    "Notice how the text replaced the 'v' in 'have' with a 'u'. This is because 'v' and 'u' share an encoded form and 'u' comes first in the alphabet so it is the first letter the code picks up."
   ]
  },
  {
   "cell_type": "markdown",
   "metadata": {},
   "source": [
    "## The second version\n",
    "The second version of the baconian cipher is similar to the first, but each letter has its own unique encoded version. This means there are not overlaps between letters, which clears up the problem in the first version. Here is the chart for the second version."
   ]
  },
  {
   "cell_type": "code",
   "execution_count": 13,
   "metadata": {},
   "outputs": [
    {
     "name": "stdout",
     "output_type": "stream",
     "text": [
      "a: aaaaa\n",
      "b: aaaab\n",
      "c: aaaba\n",
      "d: aaabb\n",
      "e: aabaa\n",
      "f: aabab\n",
      "g: aabba\n",
      "h: aabbb\n",
      "i: abaaa\n",
      "j: abaab\n",
      "k: ababa\n",
      "l: ababb\n",
      "m: abbaa\n",
      "n: abbab\n",
      "o: abbba\n",
      "p: abbbb\n",
      "q: baaaa\n",
      "r: baaab\n",
      "s: baaba\n",
      "t: baabb\n",
      "u: babaa\n",
      "v: babab\n",
      "w: babba\n",
      "x: babbb\n",
      "y: bbaaa\n",
      "z: bbaab\n"
     ]
    }
   ],
   "source": [
    "for i in range(len(bacon2_list)):\n",
    "    print(alpha_list[i] + \": \" + bacon2_list[i])"
   ]
  },
  {
   "cell_type": "markdown",
   "metadata": {},
   "source": [
    "Let's use the same example as before."
   ]
  },
  {
   "cell_type": "code",
   "execution_count": 17,
   "metadata": {},
   "outputs": [
    {
     "name": "stdout",
     "output_type": "stream",
     "text": [
      "aaaab aaaaa aaaba abbba abbab abaaa aaaaa abbab baaba   aabbb aaaaa babab aabaa   aaaaa   baaab aabaa aaaaa ababb ababb bbaaa   aabab babaa abbab   abbab aaaaa abbaa aabaa\n"
     ]
    }
   ],
   "source": [
    "plaintext = 'baconians have a really fun name'\n",
    "ciphertext = (encode_bacon(plaintext, bacon2_list))\n",
    "print(' '.join(ciphertext))"
   ]
  },
  {
   "cell_type": "code",
   "execution_count": 15,
   "metadata": {},
   "outputs": [
    {
     "name": "stdout",
     "output_type": "stream",
     "text": [
      "baconians have a really fun name\n"
     ]
    }
   ],
   "source": [
    "print(''.join(decode_bacon(ciphertext, bacon2_list)))"
   ]
  },
  {
   "cell_type": "markdown",
   "metadata": {},
   "source": [
    "Notice how this time the code correctly decoded the 'v' in 'have'."
   ]
  }
 ],
 "metadata": {
  "kernelspec": {
   "display_name": "Python 3",
   "language": "python",
   "name": "python3"
  },
  "language_info": {
   "codemirror_mode": {
    "name": "ipython",
    "version": 3
   },
   "file_extension": ".py",
   "mimetype": "text/x-python",
   "name": "python",
   "nbconvert_exporter": "python",
   "pygments_lexer": "ipython3",
   "version": "3.7.6"
  }
 },
 "nbformat": 4,
 "nbformat_minor": 4
}
