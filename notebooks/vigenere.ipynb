{
 "cells": [
  {
   "cell_type": "markdown",
   "metadata": {},
   "source": [
    "# Vigenere Ciphers\n",
    "A Vigenere cipher is a cipher where the key is a code word. The word is repeated over and over, with each letter connected to a letter in the plaintext or ciphertext. When encoding, the plaintext letter is shifted to the right the numerical value of the letter in the code word. When decoding, it is shifted to the left. Take a look at this example with the code word 'b'. In this case, the numerical value of 'b' is 1, so each letter will be shifted to the right by 1."
   ]
  },
  {
   "cell_type": "code",
   "execution_count": 1,
   "metadata": {},
   "outputs": [
    {
     "name": "stdout",
     "output_type": "stream",
     "text": [
      "bcdefghijklmnopq\n"
     ]
    }
   ],
   "source": [
    "from utils import *\n",
    "plaintext = 'abcdefghijklmnop'\n",
    "codeword = 'b'\n",
    "print(''.join(encode_vigenere(plaintext, codeword)))"
   ]
  },
  {
   "cell_type": "markdown",
   "metadata": {},
   "source": [
    "Here's another example, this one with the code word 'hello'."
   ]
  },
  {
   "cell_type": "code",
   "execution_count": 2,
   "metadata": {},
   "outputs": [
    {
     "name": "stdout",
     "output_type": "stream",
     "text": [
      "altd wz xsp hlbe ec ii pyqvhpo\n"
     ]
    }
   ],
   "source": [
    "plaintext = 'this is the text to be encoded'\n",
    "codeword = 'hello'\n",
    "'''This is what it would look like if you line up the text and the code word:\n",
    "this is the text to be encoded\n",
    "hell oh ell ohel lo he llohell'''\n",
    "print(''.join(encode_vigenere(plaintext, codeword)))"
   ]
  },
  {
   "cell_type": "markdown",
   "metadata": {},
   "source": [
    "Decoding the vigenere is similar to encoding, except you shift the letters back the other way."
   ]
  },
  {
   "cell_type": "code",
   "execution_count": 3,
   "metadata": {},
   "outputs": [
    {
     "name": "stdout",
     "output_type": "stream",
     "text": [
      "this is the text to be encoded\n"
     ]
    }
   ],
   "source": [
    "ciphertext = 'altd wz xsp hlbe ec ii pyqvhpo'\n",
    "codeword = 'hello'\n",
    "print(''.join(decode_vigenere(ciphertext, codeword)))"
   ]
  },
  {
   "cell_type": "code",
   "execution_count": null,
   "metadata": {},
   "outputs": [],
   "source": []
  }
 ],
 "metadata": {
  "kernelspec": {
   "display_name": "Python 3",
   "language": "python",
   "name": "python3"
  },
  "language_info": {
   "codemirror_mode": {
    "name": "ipython",
    "version": 3
   },
   "file_extension": ".py",
   "mimetype": "text/x-python",
   "name": "python",
   "nbconvert_exporter": "python",
   "pygments_lexer": "ipython3",
   "version": "3.7.6"
  }
 },
 "nbformat": 4,
 "nbformat_minor": 4
}
