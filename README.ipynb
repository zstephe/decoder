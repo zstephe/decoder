{
 "cells": [
  {
   "cell_type": "markdown",
   "metadata": {},
   "source": [
    "https://www.gutenberg.org/ebooks/2554 is where we got crime and punishment\n",
    "https://www.gutenberg.org/ebooks/10 is where we got the bible\n",
    "https://www.archives.gov/exhibits/featured-documents/emancipation-proclamation/transcript.html is where we got the emancipation proclamation\n",
    "https://www.gutenberg.org/cache/epub/2407/pg2407.txt is where we got the German Text, a book by Goethe called \"Die Leiden des jungen Werther\". The german part of the text was copied and pasted (avoiding the introduction that was in english by project Gutenburg so as not to contaminate the german frequency table with english frequencies)."
   ]
  }
 ],
 "metadata": {
  "kernelspec": {
   "display_name": "Python 3",
   "language": "python",
   "name": "python3"
  },
  "language_info": {
   "codemirror_mode": {
    "name": "ipython",
    "version": 3
   },
   "file_extension": ".py",
   "mimetype": "text/x-python",
   "name": "python",
   "nbconvert_exporter": "python",
   "pygments_lexer": "ipython3",
   "version": "3.7.6"
  }
 },
 "nbformat": 4,
 "nbformat_minor": 4
}
